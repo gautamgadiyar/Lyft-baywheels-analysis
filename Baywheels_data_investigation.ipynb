{
 "cells": [
  {
   "cell_type": "markdown",
   "metadata": {},
   "source": [
    "# Lyft - Baywheels Data Exploration\n",
    "### Data from January 2019 to June 2019\n",
    "## by Gautam Gadiyar\n",
    "\n",
    "## Introduction\n",
    "> The Lyft - Baywheels is a Bike sharing company that rents out bikes to customers who may hire a bike from any nearest point. It was a partnership program with Metropolitan Transportation Commission in order to motiate people to use envireonnment friendly means of transport. Beginning operation in August 2013 as Bay Area Bike Share, the Bay Wheels system currently has over 2,600 bicycles in 262 stations across San Francisco, East Bay and San Jose. On June 28, 2017, the system was re-launched as Ford GoBike in a partnership with Ford Motor Company.<br>\n",
    "After Motivate's acquisition by Lyft, the system was subsequently renamed to Bay Wheels in June 2019.The system provides bikes 24/7 to customers at nominal costs. The customers have access to all the bikes once they are a member or have a pass for themselves.\n",
    "\n",
    "## Preliminary Wrangling"
   ]
  },
  {
   "cell_type": "markdown",
   "metadata": {},
   "source": [
    "Firstly, the data that has been obtained from the Lyft site has to be checked for any anomalies. The data has to be cleaned and then we can start with the visualizations."
   ]
  },
  {
   "cell_type": "code",
   "execution_count": 1,
   "metadata": {},
   "outputs": [],
   "source": [
    "# import all packages and set plots to be embedded inline\n",
    "import numpy as np\n",
    "import pandas as pd\n",
    "import matplotlib.pyplot as plt\n",
    "import seaborn as sb\n",
    "import datetime\n",
    "import glob\n",
    "from math import radians, sin, cos, acos, atan2, sqrt\n",
    "\n",
    "%matplotlib inline"
   ]
  },
  {
   "cell_type": "markdown",
   "metadata": {},
   "source": [
    "The following is a code set to retrieve the csv files places in a specific folder and concatenate them into a single dataframe."
   ]
  },
  {
   "cell_type": "code",
   "execution_count": 2,
   "metadata": {
    "scrolled": true
   },
   "outputs": [],
   "source": [
    "# path of files\n",
    "path = './Datasets'\n",
    "all_files = glob.glob(path + \"/*.csv\")\n",
    "\n",
    "files_list = []\n",
    "# read each file and append to list of dataframes\n",
    "for each_file in all_files:\n",
    "    df = pd.read_csv(each_file, index_col=None, header=0, low_memory=0)\n",
    "    files_list.append(df)\n",
    "\n",
    "# concatenate the dataframes into one    \n",
    "master_df = pd.concat(files_list, axis=0, ignore_index=True, sort=False)"
   ]
  },
  {
   "cell_type": "code",
   "execution_count": 3,
   "metadata": {},
   "outputs": [],
   "source": [
    "# store the concatenated master dataframe into a csv file\n",
    "master_df.to_csv('baywheels_master.csv')"
   ]
  },
  {
   "cell_type": "code",
   "execution_count": 4,
   "metadata": {
    "scrolled": true
   },
   "outputs": [
    {
     "data": {
      "text/html": [
       "<div>\n",
       "<style scoped>\n",
       "    .dataframe tbody tr th:only-of-type {\n",
       "        vertical-align: middle;\n",
       "    }\n",
       "\n",
       "    .dataframe tbody tr th {\n",
       "        vertical-align: top;\n",
       "    }\n",
       "\n",
       "    .dataframe thead th {\n",
       "        text-align: right;\n",
       "    }\n",
       "</style>\n",
       "<table border=\"1\" class=\"dataframe\">\n",
       "  <thead>\n",
       "    <tr style=\"text-align: right;\">\n",
       "      <th></th>\n",
       "      <th>duration_sec</th>\n",
       "      <th>start_time</th>\n",
       "      <th>end_time</th>\n",
       "      <th>start_station_id</th>\n",
       "      <th>start_station_name</th>\n",
       "      <th>start_station_latitude</th>\n",
       "      <th>start_station_longitude</th>\n",
       "      <th>end_station_id</th>\n",
       "      <th>end_station_name</th>\n",
       "      <th>end_station_latitude</th>\n",
       "      <th>end_station_longitude</th>\n",
       "      <th>bike_id</th>\n",
       "      <th>user_type</th>\n",
       "      <th>member_birth_year</th>\n",
       "      <th>member_gender</th>\n",
       "      <th>bike_share_for_all_trip</th>\n",
       "      <th>rental_access_method</th>\n",
       "    </tr>\n",
       "  </thead>\n",
       "  <tbody>\n",
       "    <tr>\n",
       "      <th>0</th>\n",
       "      <td>80825</td>\n",
       "      <td>2019-01-31 17:57:44.6130</td>\n",
       "      <td>2019-02-01 16:24:49.8640</td>\n",
       "      <td>229.0</td>\n",
       "      <td>Foothill Blvd at 42nd Ave</td>\n",
       "      <td>37.775745</td>\n",
       "      <td>-122.213037</td>\n",
       "      <td>196.0</td>\n",
       "      <td>Grand Ave at Perkins St</td>\n",
       "      <td>37.808894</td>\n",
       "      <td>-122.256460</td>\n",
       "      <td>4861</td>\n",
       "      <td>Subscriber</td>\n",
       "      <td>1989.0</td>\n",
       "      <td>Male</td>\n",
       "      <td>No</td>\n",
       "      <td>NaN</td>\n",
       "    </tr>\n",
       "    <tr>\n",
       "      <th>1</th>\n",
       "      <td>65900</td>\n",
       "      <td>2019-01-31 20:58:33.8860</td>\n",
       "      <td>2019-02-01 15:16:54.1730</td>\n",
       "      <td>4.0</td>\n",
       "      <td>Cyril Magnin St at Ellis St</td>\n",
       "      <td>37.785881</td>\n",
       "      <td>-122.408915</td>\n",
       "      <td>134.0</td>\n",
       "      <td>Valencia St at 24th St</td>\n",
       "      <td>37.752428</td>\n",
       "      <td>-122.420628</td>\n",
       "      <td>5506</td>\n",
       "      <td>Subscriber</td>\n",
       "      <td>1989.0</td>\n",
       "      <td>Male</td>\n",
       "      <td>No</td>\n",
       "      <td>NaN</td>\n",
       "    </tr>\n",
       "    <tr>\n",
       "      <th>2</th>\n",
       "      <td>62633</td>\n",
       "      <td>2019-01-31 18:06:52.9240</td>\n",
       "      <td>2019-02-01 11:30:46.5300</td>\n",
       "      <td>245.0</td>\n",
       "      <td>Downtown Berkeley BART</td>\n",
       "      <td>37.870139</td>\n",
       "      <td>-122.268422</td>\n",
       "      <td>157.0</td>\n",
       "      <td>65th St at Hollis St</td>\n",
       "      <td>37.846784</td>\n",
       "      <td>-122.291376</td>\n",
       "      <td>2717</td>\n",
       "      <td>Customer</td>\n",
       "      <td>1965.0</td>\n",
       "      <td>Female</td>\n",
       "      <td>No</td>\n",
       "      <td>NaN</td>\n",
       "    </tr>\n",
       "    <tr>\n",
       "      <th>3</th>\n",
       "      <td>44680</td>\n",
       "      <td>2019-01-31 19:46:09.7190</td>\n",
       "      <td>2019-02-01 08:10:50.3180</td>\n",
       "      <td>85.0</td>\n",
       "      <td>Church St at Duboce Ave</td>\n",
       "      <td>37.770083</td>\n",
       "      <td>-122.429156</td>\n",
       "      <td>53.0</td>\n",
       "      <td>Grove St at Divisadero</td>\n",
       "      <td>37.775946</td>\n",
       "      <td>-122.437777</td>\n",
       "      <td>4557</td>\n",
       "      <td>Customer</td>\n",
       "      <td>1974.0</td>\n",
       "      <td>Male</td>\n",
       "      <td>No</td>\n",
       "      <td>NaN</td>\n",
       "    </tr>\n",
       "    <tr>\n",
       "      <th>4</th>\n",
       "      <td>60709</td>\n",
       "      <td>2019-01-31 14:19:01.5410</td>\n",
       "      <td>2019-02-01 07:10:51.0650</td>\n",
       "      <td>16.0</td>\n",
       "      <td>Steuart St at Market St</td>\n",
       "      <td>37.794130</td>\n",
       "      <td>-122.394430</td>\n",
       "      <td>28.0</td>\n",
       "      <td>The Embarcadero at Bryant St</td>\n",
       "      <td>37.787168</td>\n",
       "      <td>-122.388098</td>\n",
       "      <td>2100</td>\n",
       "      <td>Customer</td>\n",
       "      <td>NaN</td>\n",
       "      <td>NaN</td>\n",
       "      <td>No</td>\n",
       "      <td>NaN</td>\n",
       "    </tr>\n",
       "  </tbody>\n",
       "</table>\n",
       "</div>"
      ],
      "text/plain": [
       "   duration_sec                start_time                  end_time  \\\n",
       "0         80825  2019-01-31 17:57:44.6130  2019-02-01 16:24:49.8640   \n",
       "1         65900  2019-01-31 20:58:33.8860  2019-02-01 15:16:54.1730   \n",
       "2         62633  2019-01-31 18:06:52.9240  2019-02-01 11:30:46.5300   \n",
       "3         44680  2019-01-31 19:46:09.7190  2019-02-01 08:10:50.3180   \n",
       "4         60709  2019-01-31 14:19:01.5410  2019-02-01 07:10:51.0650   \n",
       "\n",
       "   start_station_id           start_station_name  start_station_latitude  \\\n",
       "0             229.0    Foothill Blvd at 42nd Ave               37.775745   \n",
       "1               4.0  Cyril Magnin St at Ellis St               37.785881   \n",
       "2             245.0       Downtown Berkeley BART               37.870139   \n",
       "3              85.0      Church St at Duboce Ave               37.770083   \n",
       "4              16.0      Steuart St at Market St               37.794130   \n",
       "\n",
       "   start_station_longitude  end_station_id              end_station_name  \\\n",
       "0              -122.213037           196.0       Grand Ave at Perkins St   \n",
       "1              -122.408915           134.0        Valencia St at 24th St   \n",
       "2              -122.268422           157.0          65th St at Hollis St   \n",
       "3              -122.429156            53.0        Grove St at Divisadero   \n",
       "4              -122.394430            28.0  The Embarcadero at Bryant St   \n",
       "\n",
       "   end_station_latitude  end_station_longitude  bike_id   user_type  \\\n",
       "0             37.808894            -122.256460     4861  Subscriber   \n",
       "1             37.752428            -122.420628     5506  Subscriber   \n",
       "2             37.846784            -122.291376     2717    Customer   \n",
       "3             37.775946            -122.437777     4557    Customer   \n",
       "4             37.787168            -122.388098     2100    Customer   \n",
       "\n",
       "   member_birth_year member_gender bike_share_for_all_trip  \\\n",
       "0             1989.0          Male                      No   \n",
       "1             1989.0          Male                      No   \n",
       "2             1965.0        Female                      No   \n",
       "3             1974.0          Male                      No   \n",
       "4                NaN           NaN                      No   \n",
       "\n",
       "  rental_access_method  \n",
       "0                  NaN  \n",
       "1                  NaN  \n",
       "2                  NaN  \n",
       "3                  NaN  \n",
       "4                  NaN  "
      ]
     },
     "execution_count": 4,
     "metadata": {},
     "output_type": "execute_result"
    }
   ],
   "source": [
    "# master_df = pd.read_csv(\"/home/gautam/Documents/Udacity/Communicate_Data_Findings/Datasets/201906-baywheels-tripdata.csv\", low_memory=False)\n",
    "master_df.head()"
   ]
  },
  {
   "cell_type": "code",
   "execution_count": 5,
   "metadata": {},
   "outputs": [
    {
     "data": {
      "text/plain": [
       "(1244839, 17)"
      ]
     },
     "execution_count": 5,
     "metadata": {},
     "output_type": "execute_result"
    }
   ],
   "source": [
    "#size of df\n",
    "master_df.shape"
   ]
  },
  {
   "cell_type": "code",
   "execution_count": 6,
   "metadata": {
    "scrolled": false
   },
   "outputs": [
    {
     "name": "stdout",
     "output_type": "stream",
     "text": [
      "<class 'pandas.core.frame.DataFrame'>\n",
      "RangeIndex: 1244839 entries, 0 to 1244838\n",
      "Data columns (total 17 columns):\n",
      "duration_sec               1244839 non-null int64\n",
      "start_time                 1244839 non-null object\n",
      "end_time                   1244839 non-null object\n",
      "start_station_id           1241934 non-null float64\n",
      "start_station_name         1241934 non-null object\n",
      "start_station_latitude     1244839 non-null float64\n",
      "start_station_longitude    1244839 non-null float64\n",
      "end_station_id             1241832 non-null float64\n",
      "end_station_name           1241832 non-null object\n",
      "end_station_latitude       1244839 non-null float64\n",
      "end_station_longitude      1244839 non-null float64\n",
      "bike_id                    1244839 non-null int64\n",
      "user_type                  1244839 non-null object\n",
      "member_birth_year          1176326 non-null float64\n",
      "member_gender              1176550 non-null object\n",
      "bike_share_for_all_trip    1240946 non-null object\n",
      "rental_access_method       3893 non-null object\n",
      "dtypes: float64(7), int64(2), object(8)\n",
      "memory usage: 161.5+ MB\n"
     ]
    }
   ],
   "source": [
    "master_df.info()"
   ]
  },
  {
   "cell_type": "markdown",
   "metadata": {},
   "source": [
    "The start and end times are not in datetime format. This needs a change."
   ]
  },
  {
   "cell_type": "markdown",
   "metadata": {},
   "source": [
    "We can notice that there are a lot of missing values in 'rental_access_method'. So we can drop the column."
   ]
  },
  {
   "cell_type": "code",
   "execution_count": 7,
   "metadata": {
    "scrolled": true
   },
   "outputs": [
    {
     "data": {
      "text/html": [
       "<div>\n",
       "<style scoped>\n",
       "    .dataframe tbody tr th:only-of-type {\n",
       "        vertical-align: middle;\n",
       "    }\n",
       "\n",
       "    .dataframe tbody tr th {\n",
       "        vertical-align: top;\n",
       "    }\n",
       "\n",
       "    .dataframe thead th {\n",
       "        text-align: right;\n",
       "    }\n",
       "</style>\n",
       "<table border=\"1\" class=\"dataframe\">\n",
       "  <thead>\n",
       "    <tr style=\"text-align: right;\">\n",
       "      <th></th>\n",
       "      <th>duration_sec</th>\n",
       "      <th>start_station_id</th>\n",
       "      <th>start_station_latitude</th>\n",
       "      <th>start_station_longitude</th>\n",
       "      <th>end_station_id</th>\n",
       "      <th>end_station_latitude</th>\n",
       "      <th>end_station_longitude</th>\n",
       "      <th>bike_id</th>\n",
       "      <th>member_birth_year</th>\n",
       "    </tr>\n",
       "  </thead>\n",
       "  <tbody>\n",
       "    <tr>\n",
       "      <th>count</th>\n",
       "      <td>1.244839e+06</td>\n",
       "      <td>1.241934e+06</td>\n",
       "      <td>1.244839e+06</td>\n",
       "      <td>1.244839e+06</td>\n",
       "      <td>1.241832e+06</td>\n",
       "      <td>1.244839e+06</td>\n",
       "      <td>1.244839e+06</td>\n",
       "      <td>1.244839e+06</td>\n",
       "      <td>1.176326e+06</td>\n",
       "    </tr>\n",
       "    <tr>\n",
       "      <th>mean</th>\n",
       "      <td>7.889839e+02</td>\n",
       "      <td>1.395057e+02</td>\n",
       "      <td>3.776890e+01</td>\n",
       "      <td>-1.223526e+02</td>\n",
       "      <td>1.377684e+02</td>\n",
       "      <td>3.776855e+01</td>\n",
       "      <td>-1.223505e+02</td>\n",
       "      <td>4.924267e+03</td>\n",
       "      <td>1.984696e+03</td>\n",
       "    </tr>\n",
       "    <tr>\n",
       "      <th>std</th>\n",
       "      <td>1.898254e+03</td>\n",
       "      <td>1.149337e+02</td>\n",
       "      <td>1.078549e-01</td>\n",
       "      <td>1.680105e-01</td>\n",
       "      <td>1.147682e+02</td>\n",
       "      <td>1.763340e-01</td>\n",
       "      <td>4.822376e-01</td>\n",
       "      <td>2.696151e+04</td>\n",
       "      <td>1.011578e+01</td>\n",
       "    </tr>\n",
       "    <tr>\n",
       "      <th>min</th>\n",
       "      <td>6.000000e+01</td>\n",
       "      <td>3.000000e+00</td>\n",
       "      <td>0.000000e+00</td>\n",
       "      <td>-1.224537e+02</td>\n",
       "      <td>3.000000e+00</td>\n",
       "      <td>0.000000e+00</td>\n",
       "      <td>-1.224537e+02</td>\n",
       "      <td>1.100000e+01</td>\n",
       "      <td>1.878000e+03</td>\n",
       "    </tr>\n",
       "    <tr>\n",
       "      <th>25%</th>\n",
       "      <td>3.450000e+02</td>\n",
       "      <td>4.400000e+01</td>\n",
       "      <td>3.777008e+01</td>\n",
       "      <td>-1.224125e+02</td>\n",
       "      <td>4.300000e+01</td>\n",
       "      <td>3.777041e+01</td>\n",
       "      <td>-1.224117e+02</td>\n",
       "      <td>1.832000e+03</td>\n",
       "      <td>1.980000e+03</td>\n",
       "    </tr>\n",
       "    <tr>\n",
       "      <th>50%</th>\n",
       "      <td>5.500000e+02</td>\n",
       "      <td>1.010000e+02</td>\n",
       "      <td>3.778076e+01</td>\n",
       "      <td>-1.223984e+02</td>\n",
       "      <td>9.900000e+01</td>\n",
       "      <td>3.778095e+01</td>\n",
       "      <td>-1.223981e+02</td>\n",
       "      <td>3.614000e+03</td>\n",
       "      <td>1.987000e+03</td>\n",
       "    </tr>\n",
       "    <tr>\n",
       "      <th>75%</th>\n",
       "      <td>8.600000e+02</td>\n",
       "      <td>2.380000e+02</td>\n",
       "      <td>3.779647e+01</td>\n",
       "      <td>-1.222914e+02</td>\n",
       "      <td>2.320000e+02</td>\n",
       "      <td>3.779728e+01</td>\n",
       "      <td>-1.222914e+02</td>\n",
       "      <td>5.296000e+03</td>\n",
       "      <td>1.992000e+03</td>\n",
       "    </tr>\n",
       "    <tr>\n",
       "      <th>max</th>\n",
       "      <td>8.611400e+04</td>\n",
       "      <td>4.430000e+02</td>\n",
       "      <td>4.551000e+01</td>\n",
       "      <td>0.000000e+00</td>\n",
       "      <td>4.430000e+02</td>\n",
       "      <td>4.551000e+01</td>\n",
       "      <td>0.000000e+00</td>\n",
       "      <td>9.851100e+05</td>\n",
       "      <td>2.001000e+03</td>\n",
       "    </tr>\n",
       "  </tbody>\n",
       "</table>\n",
       "</div>"
      ],
      "text/plain": [
       "       duration_sec  start_station_id  start_station_latitude  \\\n",
       "count  1.244839e+06      1.241934e+06            1.244839e+06   \n",
       "mean   7.889839e+02      1.395057e+02            3.776890e+01   \n",
       "std    1.898254e+03      1.149337e+02            1.078549e-01   \n",
       "min    6.000000e+01      3.000000e+00            0.000000e+00   \n",
       "25%    3.450000e+02      4.400000e+01            3.777008e+01   \n",
       "50%    5.500000e+02      1.010000e+02            3.778076e+01   \n",
       "75%    8.600000e+02      2.380000e+02            3.779647e+01   \n",
       "max    8.611400e+04      4.430000e+02            4.551000e+01   \n",
       "\n",
       "       start_station_longitude  end_station_id  end_station_latitude  \\\n",
       "count             1.244839e+06    1.241832e+06          1.244839e+06   \n",
       "mean             -1.223526e+02    1.377684e+02          3.776855e+01   \n",
       "std               1.680105e-01    1.147682e+02          1.763340e-01   \n",
       "min              -1.224537e+02    3.000000e+00          0.000000e+00   \n",
       "25%              -1.224125e+02    4.300000e+01          3.777041e+01   \n",
       "50%              -1.223984e+02    9.900000e+01          3.778095e+01   \n",
       "75%              -1.222914e+02    2.320000e+02          3.779728e+01   \n",
       "max               0.000000e+00    4.430000e+02          4.551000e+01   \n",
       "\n",
       "       end_station_longitude       bike_id  member_birth_year  \n",
       "count           1.244839e+06  1.244839e+06       1.176326e+06  \n",
       "mean           -1.223505e+02  4.924267e+03       1.984696e+03  \n",
       "std             4.822376e-01  2.696151e+04       1.011578e+01  \n",
       "min            -1.224537e+02  1.100000e+01       1.878000e+03  \n",
       "25%            -1.224117e+02  1.832000e+03       1.980000e+03  \n",
       "50%            -1.223981e+02  3.614000e+03       1.987000e+03  \n",
       "75%            -1.222914e+02  5.296000e+03       1.992000e+03  \n",
       "max             0.000000e+00  9.851100e+05       2.001000e+03  "
      ]
     },
     "execution_count": 7,
     "metadata": {},
     "output_type": "execute_result"
    }
   ],
   "source": [
    "master_df.describe()"
   ]
  },
  {
   "cell_type": "markdown",
   "metadata": {},
   "source": [
    "The birth year of some users seem to be wrong. For example, 1896 might be a wrong birth year. The user can't be more than a 100 years of age!"
   ]
  },
  {
   "cell_type": "code",
   "execution_count": 8,
   "metadata": {},
   "outputs": [],
   "source": [
    "# rental access data is introduced recently by Lyft\n",
    "rental_access = master_df[master_df.rental_access_method.notnull()].rental_access_method.value_counts()"
   ]
  },
  {
   "cell_type": "code",
   "execution_count": 9,
   "metadata": {
    "scrolled": true
   },
   "outputs": [
    {
     "data": {
      "image/png": "[encoded data removed]",
      "text/plain": [
       "<Figure size 432x288 with 1 Axes>"
      ]
     },
     "metadata": {
      "needs_background": "light"
     },
     "output_type": "display_data"
    }
   ],
   "source": [
    "sb.barplot(rental_access.index, rental_access);"
   ]
  },
  {
   "cell_type": "markdown",
   "metadata": {},
   "source": [
    "Of the **3893 records** that we have for rental_access_method, it seems most of the bookings came via the app. But since the number is less compared to the total records that we have, it might not be the right result."
   ]
  },
  {
   "cell_type": "code",
   "execution_count": 10,
   "metadata": {
    "scrolled": true
   },
   "outputs": [
    {
     "data": {
      "text/plain": [
       "duration_sec                     0\n",
       "start_time                       0\n",
       "end_time                         0\n",
       "start_station_id              2905\n",
       "start_station_name            2905\n",
       "start_station_latitude           0\n",
       "start_station_longitude          0\n",
       "end_station_id                3007\n",
       "end_station_name              3007\n",
       "end_station_latitude             0\n",
       "end_station_longitude            0\n",
       "bike_id                          0\n",
       "user_type                        0\n",
       "member_birth_year            68513\n",
       "member_gender                68289\n",
       "bike_share_for_all_trip       3893\n",
       "rental_access_method       1240946\n",
       "dtype: int64"
      ]
     },
     "execution_count": 10,
     "metadata": {},
     "output_type": "execute_result"
    }
   ],
   "source": [
    "#checking null\n",
    "master_df.isnull().sum()"
   ]
  },
  {
   "cell_type": "markdown",
   "metadata": {},
   "source": [
    "The missing values of age and gender is a lot. Rental access method is a lot more missing. So we can drop the column."
   ]
  },
  {
   "cell_type": "code",
   "execution_count": 11,
   "metadata": {},
   "outputs": [
    {
     "data": {
      "text/plain": [
       "0"
      ]
     },
     "execution_count": 11,
     "metadata": {},
     "output_type": "execute_result"
    }
   ],
   "source": [
    "# checking duplicates\n",
    "master_df.duplicated().sum()"
   ]
  },
  {
   "cell_type": "markdown",
   "metadata": {},
   "source": [
    "There are no duplicates! Nice!"
   ]
  },
  {
   "cell_type": "markdown",
   "metadata": {},
   "source": [
    "## Data Cleaning\n",
    "\n",
    "There seems to be a few quality issues with the data. The following are a few:\n",
    "1. The start/end time should be in timestamp datatype. Birth year should be in integer\n",
    "2. Bike_id, station_id need to be in string format.\n",
    "3. Birth years might be wrong, since some users are more than 100 years of age.\n",
    "4. The latitudes and longitudes are not readable by users. Need to calculate the distance travelled.\n",
    "5. Delete the rental access method"
   ]
  },
  {
   "cell_type": "code",
   "execution_count": 12,
   "metadata": {},
   "outputs": [],
   "source": [
    "# making a copy for cleaning\n",
    "\n",
    "master_cleaned = master_df.copy()"
   ]
  },
  {
   "cell_type": "markdown",
   "metadata": {},
   "source": [
    "**The start/end time should be in timestamp datatype.**"
   ]
  },
  {
   "cell_type": "markdown",
   "metadata": {},
   "source": [
    "**Code:**"
   ]
  },
  {
   "cell_type": "code",
   "execution_count": 13,
   "metadata": {},
   "outputs": [],
   "source": [
    "# changing datatype to datetime\n",
    "master_cleaned.start_time = pd.to_datetime(master_cleaned.start_time)\n",
    "master_cleaned.end_time = pd.to_datetime(master_cleaned.end_time)"
   ]
  },
  {
   "cell_type": "code",
   "execution_count": 14,
   "metadata": {},
   "outputs": [],
   "source": [
    "#changing to string\n",
    "master_cleaned.bike_id = master_cleaned.bike_id.astype(str)"
   ]
  },
  {
   "cell_type": "code",
   "execution_count": 15,
   "metadata": {},
   "outputs": [],
   "source": [
    "# changing to string\n",
    "master_cleaned.start_station_id = master_cleaned.start_station_id.astype(str)\n",
    "master_cleaned.end_station_id = master_cleaned.end_station_id.astype(str)"
   ]
  },
  {
   "cell_type": "markdown",
   "metadata": {},
   "source": [
    "**Test**"
   ]
  },
  {
   "cell_type": "code",
   "execution_count": 16,
   "metadata": {
    "scrolled": true
   },
   "outputs": [
    {
     "name": "stdout",
     "output_type": "stream",
     "text": [
      "<class 'pandas.core.frame.DataFrame'>\n",
      "RangeIndex: 1244839 entries, 0 to 1244838\n",
      "Data columns (total 17 columns):\n",
      "duration_sec               1244839 non-null int64\n",
      "start_time                 1244839 non-null datetime64[ns]\n",
      "end_time                   1244839 non-null datetime64[ns]\n",
      "start_station_id           1244839 non-null object\n",
      "start_station_name         1241934 non-null object\n",
      "start_station_latitude     1244839 non-null float64\n",
      "start_station_longitude    1244839 non-null float64\n",
      "end_station_id             1244839 non-null object\n",
      "end_station_name           1241832 non-null object\n",
      "end_station_latitude       1244839 non-null float64\n",
      "end_station_longitude      1244839 non-null float64\n",
      "bike_id                    1244839 non-null object\n",
      "user_type                  1244839 non-null object\n",
      "member_birth_year          1176326 non-null float64\n",
      "member_gender              1176550 non-null object\n",
      "bike_share_for_all_trip    1240946 non-null object\n",
      "rental_access_method       3893 non-null object\n",
      "dtypes: datetime64[ns](2), float64(5), int64(1), object(9)\n",
      "memory usage: 161.5+ MB\n"
     ]
    }
   ],
   "source": [
    "master_cleaned.info()"
   ]
  },
  {
   "cell_type": "markdown",
   "metadata": {},
   "source": [
    "Required changes can be seen in the info."
   ]
  },
  {
   "cell_type": "code",
   "execution_count": 17,
   "metadata": {},
   "outputs": [
    {
     "data": {
      "text/plain": [
       "67.0    25821\n",
       "58.0    24535\n",
       "15.0    21248\n",
       "81.0    20865\n",
       "21.0    19328\n",
       "3.0     18771\n",
       "5.0     16863\n",
       "30.0    16845\n",
       "16.0    16541\n",
       "6.0     15409\n",
       "22.0    15380\n",
       "50.0    12913\n",
       "66.0    12310\n",
       "27.0    11748\n",
       "17.0    11657\n",
       "44.0    11553\n",
       "93.0    10891\n",
       "90.0    10853\n",
       "23.0    10230\n",
       "61.0     9557\n",
       "Name: start_station_id, dtype: int64"
      ]
     },
     "execution_count": 17,
     "metadata": {},
     "output_type": "execute_result"
    }
   ],
   "source": [
    "master_cleaned.start_station_id.value_counts().head(20)"
   ]
  },
  {
   "cell_type": "markdown",
   "metadata": {},
   "source": [
    "**Birth years might be wrong, since some users are more than 100 years of age.**"
   ]
  },
  {
   "cell_type": "markdown",
   "metadata": {},
   "source": [
    "**Code:**"
   ]
  },
  {
   "cell_type": "code",
   "execution_count": 18,
   "metadata": {},
   "outputs": [],
   "source": [
    "#calculate the age from the year of borth\n",
    "master_cleaned['member_age'] = datetime.datetime.now().year - master_cleaned.member_birth_year"
   ]
  },
  {
   "cell_type": "code",
   "execution_count": 19,
   "metadata": {},
   "outputs": [
    {
     "data": {
      "text/plain": [
       "99.61838809989747"
      ]
     },
     "execution_count": 19,
     "metadata": {},
     "output_type": "execute_result"
    }
   ],
   "source": [
    "# check if most users are in range 18 to 70 years age\n",
    "\n",
    "age_less_than_70 = len(master_cleaned.query('member_age < 70'))\n",
    "age_less_than_70*100/1176326"
   ]
  },
  {
   "cell_type": "markdown",
   "metadata": {},
   "source": [
    "**Test:**"
   ]
  },
  {
   "cell_type": "code",
   "execution_count": 20,
   "metadata": {},
   "outputs": [
    {
     "data": {
      "text/html": [
       "<div>\n",
       "<style scoped>\n",
       "    .dataframe tbody tr th:only-of-type {\n",
       "        vertical-align: middle;\n",
       "    }\n",
       "\n",
       "    .dataframe tbody tr th {\n",
       "        vertical-align: top;\n",
       "    }\n",
       "\n",
       "    .dataframe thead th {\n",
       "        text-align: right;\n",
       "    }\n",
       "</style>\n",
       "<table border=\"1\" class=\"dataframe\">\n",
       "  <thead>\n",
       "    <tr style=\"text-align: right;\">\n",
       "      <th></th>\n",
       "      <th>member_birth_year</th>\n",
       "      <th>member_age</th>\n",
       "    </tr>\n",
       "  </thead>\n",
       "  <tbody>\n",
       "    <tr>\n",
       "      <th>0</th>\n",
       "      <td>1989.0</td>\n",
       "      <td>30.0</td>\n",
       "    </tr>\n",
       "    <tr>\n",
       "      <th>1</th>\n",
       "      <td>1989.0</td>\n",
       "      <td>30.0</td>\n",
       "    </tr>\n",
       "    <tr>\n",
       "      <th>2</th>\n",
       "      <td>1965.0</td>\n",
       "      <td>54.0</td>\n",
       "    </tr>\n",
       "    <tr>\n",
       "      <th>3</th>\n",
       "      <td>1974.0</td>\n",
       "      <td>45.0</td>\n",
       "    </tr>\n",
       "    <tr>\n",
       "      <th>4</th>\n",
       "      <td>NaN</td>\n",
       "      <td>NaN</td>\n",
       "    </tr>\n",
       "  </tbody>\n",
       "</table>\n",
       "</div>"
      ],
      "text/plain": [
       "   member_birth_year  member_age\n",
       "0             1989.0        30.0\n",
       "1             1989.0        30.0\n",
       "2             1965.0        54.0\n",
       "3             1974.0        45.0\n",
       "4                NaN         NaN"
      ]
     },
     "execution_count": 20,
     "metadata": {},
     "output_type": "execute_result"
    }
   ],
   "source": [
    "master_cleaned[['member_birth_year', 'member_age']].head()"
   ]
  },
  {
   "cell_type": "code",
   "execution_count": 21,
   "metadata": {
    "scrolled": true
   },
   "outputs": [
    {
     "data": {
      "text/plain": [
       "Text(0.5, 0, 'Age')"
      ]
     },
     "execution_count": 21,
     "metadata": {},
     "output_type": "execute_result"
    },
    {
     "data": {
      "image/png": "[encoded data removed]",
      "text/plain": [
       "<Figure size 864x432 with 1 Axes>"
      ]
     },
     "metadata": {
      "needs_background": "light"
     },
     "output_type": "display_data"
    }
   ],
   "source": [
    "#plot he distribution of age\n",
    "plt.figure(figsize=(12,6))\n",
    "sb.boxplot(x='member_age', data=master_cleaned, palette='autumn', orient='h')\n",
    "plt.title(\"The age distribution of Members\", fontsize=15)\n",
    "plt.xlabel(\"Age\")"
   ]
  },
  {
   "cell_type": "markdown",
   "metadata": {},
   "source": [
    "Since most of the users are below the age of 70, we can forget the rest of the data."
   ]
  },
  {
   "cell_type": "code",
   "execution_count": 22,
   "metadata": {},
   "outputs": [],
   "source": [
    "# ignoring the age groups greater than 70 by marking None\n",
    "master_cleaned[master_cleaned.member_age > 70] = None"
   ]
  },
  {
   "cell_type": "markdown",
   "metadata": {},
   "source": [
    "**Test:**"
   ]
  },
  {
   "cell_type": "code",
   "execution_count": 23,
   "metadata": {
    "scrolled": true
   },
   "outputs": [
    {
     "data": {
      "text/plain": [
       "Text(0.5, 0, 'Age')"
      ]
     },
     "execution_count": 23,
     "metadata": {},
     "output_type": "execute_result"
    },
    {
     "data": {
      "image/png": "[encoded data removed]",
      "text/plain": [
       "<Figure size 864x432 with 1 Axes>"
      ]
     },
     "metadata": {
      "needs_background": "light"
     },
     "output_type": "display_data"
    }
   ],
   "source": [
    "# plot corrected distribution\n",
    "\n",
    "plt.figure(figsize=(12,6))\n",
    "sb.boxplot(x='member_age', data=master_cleaned, palette='autumn', orient='h')\n",
    "plt.title(\"The age distribution of Members\", fontsize=15)\n",
    "plt.xlabel(\"Age\")"
   ]
  },
  {
   "cell_type": "markdown",
   "metadata": {},
   "source": [
    "**The latitudes and longitudes are not readable by users. Need to calculate the distance travelled.**"
   ]
  },
  {
   "cell_type": "markdown",
   "metadata": {},
   "source": [
    "**Code:**<br>\n",
    "Let us start by creating a function that gives the distance in kilometers"
   ]
  },
  {
   "cell_type": "code",
   "execution_count": 24,
   "metadata": {},
   "outputs": [],
   "source": [
    "# function to calculate the distance from coordinates\n",
    "def calculate_distance(latitude1, latitude2, longitude1, longitude2):\n",
    "    # approximate radius of earth in km\n",
    "    R = 6373.0\n",
    "    \n",
    "    try:\n",
    "        lat1 = radians(latitude1)\n",
    "        lon1 = radians(longitude1)\n",
    "        lat2 = radians(latitude2)\n",
    "        lon2 = radians(longitude2)\n",
    "    #coversion to radians\n",
    "    except:\n",
    "        # if the coordinates are Null\n",
    "        return None\n",
    "\n",
    "    dlon = lon2 - lon1\n",
    "    dlat = lat2 - lat1\n",
    "    #difference in the coordinates \n",
    "\n",
    "    a = sin(dlat / 2)**2 + cos(lat1) * cos(lat2) * sin(dlon / 2)**2\n",
    "    c = 2 * atan2(sqrt(a), sqrt(1 - a))\n",
    "\n",
    "    distance = R * c\n",
    "    return distance"
   ]
  },
  {
   "cell_type": "code",
   "execution_count": 25,
   "metadata": {},
   "outputs": [],
   "source": [
    "# we call the function on each row of the dataset by passing the coordinates\n",
    "master_cleaned['distance_travelled'] = master_cleaned.apply(lambda x: calculate_distance(x['start_station_latitude'],\n",
    "                                                                                        x['end_station_latitude'],\n",
    "                                                                                        x['start_station_longitude'],\n",
    "                                                                                        x['end_station_longitude']),axis=1)"
   ]
  },
  {
   "cell_type": "markdown",
   "metadata": {},
   "source": [
    "**Test:**"
   ]
  },
  {
   "cell_type": "code",
   "execution_count": 26,
   "metadata": {
    "scrolled": true
   },
   "outputs": [
    {
     "data": {
      "text/plain": [
       "count    1.241118e+06\n",
       "mean     1.899664e+00\n",
       "std      5.008328e+01\n",
       "min      0.000000e+00\n",
       "25%      9.238689e-01\n",
       "50%      1.454068e+00\n",
       "75%      2.246844e+00\n",
       "max      1.280236e+04\n",
       "Name: distance_travelled, dtype: float64"
      ]
     },
     "execution_count": 26,
     "metadata": {},
     "output_type": "execute_result"
    }
   ],
   "source": [
    "master_cleaned.describe()['distance_travelled']"
   ]
  },
  {
   "cell_type": "code",
   "execution_count": 27,
   "metadata": {},
   "outputs": [
    {
     "data": {
      "text/plain": [
       "count    1.241118e+06\n",
       "mean     1.899658e+00\n",
       "std      5.008328e+01\n",
       "min      0.000000e+00\n",
       "25%      9.240000e-01\n",
       "50%      1.454000e+00\n",
       "75%      2.247000e+00\n",
       "max      1.280236e+04\n",
       "Name: distance_travelled, dtype: float64"
      ]
     },
     "execution_count": 27,
     "metadata": {},
     "output_type": "execute_result"
    }
   ],
   "source": [
    "# rounding distance travelled to 3 decimals\n",
    "master_cleaned = master_cleaned.round({'distance_travelled':3})\n",
    "master_cleaned.describe().distance_travelled"
   ]
  },
  {
   "cell_type": "markdown",
   "metadata": {},
   "source": [
    "Now we can see that the distance was mostly less. The distance is calculated in kilometers"
   ]
  },
  {
   "cell_type": "markdown",
   "metadata": {},
   "source": [
    "**Delete the rental access method**<br>\n",
    "\n",
    "**Code:**"
   ]
  },
  {
   "cell_type": "code",
   "execution_count": 28,
   "metadata": {},
   "outputs": [],
   "source": [
    "master_cleaned.drop('rental_access_method', axis=1, inplace=True)"
   ]
  },
  {
   "cell_type": "markdown",
   "metadata": {},
   "source": [
    "**Test:**"
   ]
  },
  {
   "cell_type": "code",
   "execution_count": 29,
   "metadata": {
    "scrolled": false
   },
   "outputs": [
    {
     "name": "stdout",
     "output_type": "stream",
     "text": [
      "<class 'pandas.core.frame.DataFrame'>\n",
      "RangeIndex: 1244839 entries, 0 to 1244838\n",
      "Data columns (total 18 columns):\n",
      "duration_sec               1241118 non-null float64\n",
      "start_time                 1241118 non-null datetime64[ns]\n",
      "end_time                   1241118 non-null datetime64[ns]\n",
      "start_station_id           1241118 non-null object\n",
      "start_station_name         1238213 non-null object\n",
      "start_station_latitude     1241118 non-null float64\n",
      "start_station_longitude    1241118 non-null float64\n",
      "end_station_id             1241118 non-null object\n",
      "end_station_name           1238111 non-null object\n",
      "end_station_latitude       1241118 non-null float64\n",
      "end_station_longitude      1241118 non-null float64\n",
      "bike_id                    1241118 non-null object\n",
      "user_type                  1241118 non-null object\n",
      "member_birth_year          1172605 non-null float64\n",
      "member_gender              1172829 non-null object\n",
      "bike_share_for_all_trip    1237225 non-null object\n",
      "member_age                 1172605 non-null float64\n",
      "distance_travelled         1241118 non-null float64\n",
      "dtypes: datetime64[ns](2), float64(8), object(8)\n",
      "memory usage: 171.0+ MB\n"
     ]
    }
   ],
   "source": [
    "master_cleaned.info()"
   ]
  },
  {
   "cell_type": "markdown",
   "metadata": {},
   "source": [
    "**Creating a separate column for month of the year**<br> This helps in the future analysis"
   ]
  },
  {
   "cell_type": "code",
   "execution_count": 52,
   "metadata": {},
   "outputs": [],
   "source": [
    "# finding the month\n",
    "master_cleaned['month'] = master_cleaned.start_time.dt.to_period('M')"
   ]
  },
  {
   "cell_type": "markdown",
   "metadata": {},
   "source": [
    "**Calculating speed of the rides**"
   ]
  },
  {
   "cell_type": "code",
   "execution_count": 31,
   "metadata": {},
   "outputs": [
    {
     "data": {
      "text/plain": [
       "count    1.241118e+06\n",
       "mean     1.132278e+01\n",
       "std      3.785368e+02\n",
       "min      0.000000e+00\n",
       "25%      8.137931e+00\n",
       "50%      1.044000e+01\n",
       "75%      1.271553e+01\n",
       "max      2.632576e+05\n",
       "Name: speed, dtype: float64"
      ]
     },
     "execution_count": 31,
     "metadata": {},
     "output_type": "execute_result"
    }
   ],
   "source": [
    "# speed = distance/time formulae\n",
    "master_cleaned['speed'] = master_cleaned.distance_travelled / (master_cleaned.duration_sec/3600)\n",
    "master_cleaned.describe().speed"
   ]
  },
  {
   "cell_type": "markdown",
   "metadata": {},
   "source": [
    "**Store dataframe in new csv**"
   ]
  },
  {
   "cell_type": "code",
   "execution_count": 32,
   "metadata": {},
   "outputs": [],
   "source": [
    "master_cleaned.to_csv('baywheel_data_updated.csv', index=False)"
   ]
  },
  {
   "cell_type": "markdown",
   "metadata": {},
   "source": [
    "### What is the structure of your dataset?\n",
    "\n",
    "The dataset is a collection user rides data that provided the distance, time, station data with most of the data being clean. There are 191772 records dated for June 2019. This gives a very clear insight to the trends. Most values are numeric in the dataset.\n",
    "\n",
    "The following are the features present:\n",
    "1. Duration in seconds\n",
    "2. Start time              \n",
    "3. End_time                   \n",
    "4. Start_station_id           \n",
    "5. Start_station_name         \n",
    "6. Start_station_latitude     \n",
    "7. Start_station_longitude    \n",
    "8. End_station_id             \n",
    "9. End_station_name           \n",
    "10. End_station_latitude       \n",
    "11. End_station_longitude      \n",
    "12. Bike_id                    \n",
    "13. User_type                  \n",
    "14. Member_birth_year          \n",
    "15. Member_gender              \n",
    "16. Bike_share_for_all_trip    \n",
    "17. Member_age                 \n",
    "18. Distance_travelled\n",
    "\n",
    "### What is/are the main feature(s) of interest in your dataset?\n",
    "\n",
    "Some of the interesting features to look out for are:\n",
    "1. What age group is most prevalent in using the service.\n",
    "2. What is the most popular station and the popular destination.\n",
    "3. Does the distance travelled increase/decrease with age?\n",
    "4. Is the Bike share for all program taking off well?\n",
    "5. Is it the members or the casual customers that are using the service more\n",
    "\n",
    "### What features in the dataset do you think will help support your investigation into your feature(s) of interest?\n",
    "\n",
    "Any data that is part of the distance, station, user related fields and time will help in getting the insights. We need to check where the footfall is more so that the company can be prepared for better services at those stations.\n",
    "We need to check if any age group need more motivation to use the services. We speed, unique bike is will help in determining the speeds which users take a ride at."
   ]
  },
  {
   "cell_type": "markdown",
   "metadata": {},
   "source": [
    "## Univariate Exploration\n"
   ]
  },
  {
   "cell_type": "code",
   "execution_count": 33,
   "metadata": {},
   "outputs": [
    {
     "name": "stdout",
     "output_type": "stream",
     "text": [
      "<class 'pandas.core.frame.DataFrame'>\n",
      "RangeIndex: 1244839 entries, 0 to 1244838\n",
      "Data columns (total 19 columns):\n",
      "duration_sec               1241118 non-null float64\n",
      "start_time                 1241118 non-null datetime64[ns]\n",
      "end_time                   1241118 non-null datetime64[ns]\n",
      "start_station_id           1241118 non-null object\n",
      "start_station_name         1238213 non-null object\n",
      "start_station_latitude     1241118 non-null float64\n",
      "start_station_longitude    1241118 non-null float64\n",
      "end_station_id             1241118 non-null object\n",
      "end_station_name           1238111 non-null object\n",
      "end_station_latitude       1241118 non-null float64\n",
      "end_station_longitude      1241118 non-null float64\n",
      "bike_id                    1241118 non-null object\n",
      "user_type                  1241118 non-null object\n",
      "member_birth_year          1172605 non-null float64\n",
      "member_gender              1172829 non-null object\n",
      "bike_share_for_all_trip    1237225 non-null object\n",
      "member_age                 1172605 non-null float64\n",
      "distance_travelled         1241118 non-null float64\n",
      "speed                      1241118 non-null float64\n",
      "dtypes: datetime64[ns](2), float64(9), object(8)\n",
      "memory usage: 180.5+ MB\n"
     ]
    }
   ],
   "source": [
    "master_cleaned.info()"
   ]
  },
  {
   "cell_type": "code",
   "execution_count": 34,
   "metadata": {},
   "outputs": [
    {
     "data": {
      "text/html": [
       "<div>\n",
       "<style scoped>\n",
       "    .dataframe tbody tr th:only-of-type {\n",
       "        vertical-align: middle;\n",
       "    }\n",
       "\n",
       "    .dataframe tbody tr th {\n",
       "        vertical-align: top;\n",
       "    }\n",
       "\n",
       "    .dataframe thead th {\n",
       "        text-align: right;\n",
       "    }\n",
       "</style>\n",
       "<table border=\"1\" class=\"dataframe\">\n",
       "  <thead>\n",
       "    <tr style=\"text-align: right;\">\n",
       "      <th></th>\n",
       "      <th>duration_sec</th>\n",
       "      <th>start_time</th>\n",
       "      <th>end_time</th>\n",
       "      <th>start_station_id</th>\n",
       "      <th>start_station_name</th>\n",
       "      <th>start_station_latitude</th>\n",
       "      <th>start_station_longitude</th>\n",
       "      <th>end_station_id</th>\n",
       "      <th>end_station_name</th>\n",
       "      <th>end_station_latitude</th>\n",
       "      <th>end_station_longitude</th>\n",
       "      <th>bike_id</th>\n",
       "      <th>user_type</th>\n",
       "      <th>member_birth_year</th>\n",
       "      <th>member_gender</th>\n",
       "      <th>bike_share_for_all_trip</th>\n",
       "      <th>member_age</th>\n",
       "      <th>distance_travelled</th>\n",
       "      <th>speed</th>\n",
       "    </tr>\n",
       "  </thead>\n",
       "  <tbody>\n",
       "    <tr>\n",
       "      <th>0</th>\n",
       "      <td>80825.0</td>\n",
       "      <td>2019-01-31 17:57:44.613</td>\n",
       "      <td>2019-02-01 16:24:49.864</td>\n",
       "      <td>229.0</td>\n",
       "      <td>Foothill Blvd at 42nd Ave</td>\n",
       "      <td>37.775745</td>\n",
       "      <td>-122.213037</td>\n",
       "      <td>196.0</td>\n",
       "      <td>Grand Ave at Perkins St</td>\n",
       "      <td>37.808894</td>\n",
       "      <td>-122.256460</td>\n",
       "      <td>4861</td>\n",
       "      <td>Subscriber</td>\n",
       "      <td>1989.0</td>\n",
       "      <td>Male</td>\n",
       "      <td>No</td>\n",
       "      <td>30.0</td>\n",
       "      <td>5.307</td>\n",
       "      <td>0.236377</td>\n",
       "    </tr>\n",
       "    <tr>\n",
       "      <th>1</th>\n",
       "      <td>65900.0</td>\n",
       "      <td>2019-01-31 20:58:33.886</td>\n",
       "      <td>2019-02-01 15:16:54.173</td>\n",
       "      <td>4.0</td>\n",
       "      <td>Cyril Magnin St at Ellis St</td>\n",
       "      <td>37.785881</td>\n",
       "      <td>-122.408915</td>\n",
       "      <td>134.0</td>\n",
       "      <td>Valencia St at 24th St</td>\n",
       "      <td>37.752428</td>\n",
       "      <td>-122.420628</td>\n",
       "      <td>5506</td>\n",
       "      <td>Subscriber</td>\n",
       "      <td>1989.0</td>\n",
       "      <td>Male</td>\n",
       "      <td>No</td>\n",
       "      <td>30.0</td>\n",
       "      <td>3.861</td>\n",
       "      <td>0.210920</td>\n",
       "    </tr>\n",
       "    <tr>\n",
       "      <th>2</th>\n",
       "      <td>62633.0</td>\n",
       "      <td>2019-01-31 18:06:52.924</td>\n",
       "      <td>2019-02-01 11:30:46.530</td>\n",
       "      <td>245.0</td>\n",
       "      <td>Downtown Berkeley BART</td>\n",
       "      <td>37.870139</td>\n",
       "      <td>-122.268422</td>\n",
       "      <td>157.0</td>\n",
       "      <td>65th St at Hollis St</td>\n",
       "      <td>37.846784</td>\n",
       "      <td>-122.291376</td>\n",
       "      <td>2717</td>\n",
       "      <td>Customer</td>\n",
       "      <td>1965.0</td>\n",
       "      <td>Female</td>\n",
       "      <td>No</td>\n",
       "      <td>54.0</td>\n",
       "      <td>3.288</td>\n",
       "      <td>0.188987</td>\n",
       "    </tr>\n",
       "    <tr>\n",
       "      <th>3</th>\n",
       "      <td>44680.0</td>\n",
       "      <td>2019-01-31 19:46:09.719</td>\n",
       "      <td>2019-02-01 08:10:50.318</td>\n",
       "      <td>85.0</td>\n",
       "      <td>Church St at Duboce Ave</td>\n",
       "      <td>37.770083</td>\n",
       "      <td>-122.429156</td>\n",
       "      <td>53.0</td>\n",
       "      <td>Grove St at Divisadero</td>\n",
       "      <td>37.775946</td>\n",
       "      <td>-122.437777</td>\n",
       "      <td>4557</td>\n",
       "      <td>Customer</td>\n",
       "      <td>1974.0</td>\n",
       "      <td>Male</td>\n",
       "      <td>No</td>\n",
       "      <td>45.0</td>\n",
       "      <td>1.000</td>\n",
       "      <td>0.080573</td>\n",
       "    </tr>\n",
       "    <tr>\n",
       "      <th>4</th>\n",
       "      <td>60709.0</td>\n",
       "      <td>2019-01-31 14:19:01.541</td>\n",
       "      <td>2019-02-01 07:10:51.065</td>\n",
       "      <td>16.0</td>\n",
       "      <td>Steuart St at Market St</td>\n",
       "      <td>37.794130</td>\n",
       "      <td>-122.394430</td>\n",
       "      <td>28.0</td>\n",
       "      <td>The Embarcadero at Bryant St</td>\n",
       "      <td>37.787168</td>\n",
       "      <td>-122.388098</td>\n",
       "      <td>2100</td>\n",
       "      <td>Customer</td>\n",
       "      <td>NaN</td>\n",
       "      <td>NaN</td>\n",
       "      <td>No</td>\n",
       "      <td>NaN</td>\n",
       "      <td>0.954</td>\n",
       "      <td>0.056572</td>\n",
       "    </tr>\n",
       "  </tbody>\n",
       "</table>\n",
       "</div>"
      ],
      "text/plain": [
       "   duration_sec              start_time                end_time  \\\n",
       "0       80825.0 2019-01-31 17:57:44.613 2019-02-01 16:24:49.864   \n",
       "1       65900.0 2019-01-31 20:58:33.886 2019-02-01 15:16:54.173   \n",
       "2       62633.0 2019-01-31 18:06:52.924 2019-02-01 11:30:46.530   \n",
       "3       44680.0 2019-01-31 19:46:09.719 2019-02-01 08:10:50.318   \n",
       "4       60709.0 2019-01-31 14:19:01.541 2019-02-01 07:10:51.065   \n",
       "\n",
       "  start_station_id           start_station_name  start_station_latitude  \\\n",
       "0            229.0    Foothill Blvd at 42nd Ave               37.775745   \n",
       "1              4.0  Cyril Magnin St at Ellis St               37.785881   \n",
       "2            245.0       Downtown Berkeley BART               37.870139   \n",
       "3             85.0      Church St at Duboce Ave               37.770083   \n",
       "4             16.0      Steuart St at Market St               37.794130   \n",
       "\n",
       "   start_station_longitude end_station_id              end_station_name  \\\n",
       "0              -122.213037          196.0       Grand Ave at Perkins St   \n",
       "1              -122.408915          134.0        Valencia St at 24th St   \n",
       "2              -122.268422          157.0          65th St at Hollis St   \n",
       "3              -122.429156           53.0        Grove St at Divisadero   \n",
       "4              -122.394430           28.0  The Embarcadero at Bryant St   \n",
       "\n",
       "   end_station_latitude  end_station_longitude bike_id   user_type  \\\n",
       "0             37.808894            -122.256460    4861  Subscriber   \n",
       "1             37.752428            -122.420628    5506  Subscriber   \n",
       "2             37.846784            -122.291376    2717    Customer   \n",
       "3             37.775946            -122.437777    4557    Customer   \n",
       "4             37.787168            -122.388098    2100    Customer   \n",
       "\n",
       "   member_birth_year member_gender bike_share_for_all_trip  member_age  \\\n",
       "0             1989.0          Male                      No        30.0   \n",
       "1             1989.0          Male                      No        30.0   \n",
       "2             1965.0        Female                      No        54.0   \n",
       "3             1974.0          Male                      No        45.0   \n",
       "4                NaN           NaN                      No         NaN   \n",
       "\n",
       "   distance_travelled     speed  \n",
       "0               5.307  0.236377  \n",
       "1               3.861  0.210920  \n",
       "2               3.288  0.188987  \n",
       "3               1.000  0.080573  \n",
       "4               0.954  0.056572  "
      ]
     },
     "execution_count": 34,
     "metadata": {},
     "output_type": "execute_result"
    }
   ],
   "source": [
    "master_cleaned.head()"
   ]
  },
  {
   "cell_type": "markdown",
   "metadata": {},
   "source": [
    "**Let's see if Baywheels Bike for all is a success**"
   ]
  },
  {
   "cell_type": "code",
   "execution_count": 35,
   "metadata": {
    "scrolled": false
   },
   "outputs": [
    {
     "data": {
      "image/png": "[encoded data removed]",
      "text/plain": [
       "<Figure size 576x360 with 1 Axes>"
      ]
     },
     "metadata": {},
     "output_type": "display_data"
    }
   ],
   "source": [
    "# Count of Yes/No for the campaign\n",
    "program_count = master_cleaned.bike_share_for_all_trip.value_counts()\n",
    "\n",
    "#set whitegrid for seaborn plots\n",
    "sb.set_style('whitegrid')\n",
    "# set figure size\n",
    "plt.figure(figsize=(8,5))\n",
    "# plot a bar chart\n",
    "program_count.plot(kind='bar')\n",
    "# set title\n",
    "plt.title(\"Is user part of 'Bike Share for all' campaign?\",fontsize=15,y=1.05, fontweight='bold');\n",
    "#set the label on x axis\n",
    "plt.xlabel(\"Is transaction BikeShareForAll type\",fontsize=12)\n",
    "#set the label on y axis\n",
    "plt.ylabel(\"Count of trips\",fontsize=12);"
   ]
  },
  {
   "cell_type": "markdown",
   "metadata": {},
   "source": [
    "**How long do Bike trips generally last?**"
   ]
  },
  {
   "cell_type": "code",
   "execution_count": 36,
   "metadata": {
    "scrolled": true
   },
   "outputs": [
    {
     "data": {
      "image/png": "[encoded data removed]",
      "text/plain": [
       "<Figure size 720x432 with 1 Axes>"
      ]
     },
     "metadata": {},
     "output_type": "display_data"
    }
   ],
   "source": [
    "# Duration of the bike rides -in seconds\n",
    "plt.figure(figsize=(10,6))\n",
    "\n",
    "# create bins upto 4000 seconds, with 100 sec interval\n",
    "bin_edges = np.arange(0, 4000, 100)\n",
    "#plot a histogram\n",
    "plt.hist(data = master_cleaned, x = 'duration_sec', bins = bin_edges, rwidth = 0.6);\n",
    "\n",
    "#naming of plots\n",
    "plt.title(\"Baywheels Trip Duration\", y=1.05, fontsize=16, fontweight='bold')\n",
    "plt.xlabel('Duration (Sec)',fontsize=12)\n",
    "plt.ylabel('Number of Bike Trips',fontsize=12);"
   ]
  },
  {
   "cell_type": "markdown",
   "metadata": {},
   "source": [
    "**Is it the males or the females who use the service more?**"
   ]
  },
  {
   "cell_type": "code",
   "execution_count": 37,
   "metadata": {
    "scrolled": true
   },
   "outputs": [
    {
     "data": {
      "text/plain": [
       "Male      868535\n",
       "Female    279319\n",
       "Other      21979\n",
       "M           2467\n",
       "F            307\n",
       "?            212\n",
       "O             10\n",
       "Name: member_gender, dtype: int64"
      ]
     },
     "execution_count": 37,
     "metadata": {},
     "output_type": "execute_result"
    }
   ],
   "source": [
    "gender_count = master_cleaned.member_gender.value_counts()\n",
    "gender_count"
   ]
  },
  {
   "cell_type": "markdown",
   "metadata": {},
   "source": [
    "We can notice that there are M, F being separate entities. We need to convert them to one."
   ]
  },
  {
   "cell_type": "markdown",
   "metadata": {},
   "source": [
    "**Code:**"
   ]
  },
  {
   "cell_type": "code",
   "execution_count": 38,
   "metadata": {},
   "outputs": [],
   "source": [
    "# replace M,F,O\n",
    "master_cleaned.loc[master_cleaned.member_gender == 'M','member_gender'] = 'Male'\n",
    "master_cleaned.loc[master_cleaned.member_gender == 'F','member_gender'] = 'Female'\n",
    "master_cleaned.loc[master_cleaned.member_gender == 'O','member_gender'] = 'Other'\n",
    "\n",
    "#remove Null valued records of value counts\n",
    "master_cleaned = master_cleaned[master_cleaned.member_gender.isin(['Male','Female','Other'])]"
   ]
  },
  {
   "cell_type": "markdown",
   "metadata": {},
   "source": [
    "**Test**"
   ]
  },
  {
   "cell_type": "code",
   "execution_count": 39,
   "metadata": {
    "scrolled": false
   },
   "outputs": [
    {
     "data": {
      "text/plain": [
       "Male      871002\n",
       "Female    279626\n",
       "Other      21989\n",
       "Name: member_gender, dtype: int64"
      ]
     },
     "execution_count": 39,
     "metadata": {},
     "output_type": "execute_result"
    }
   ],
   "source": [
    "gender_count = master_cleaned.member_gender.value_counts()\n",
    "gender_count"
   ]
  },
  {
   "cell_type": "markdown",
   "metadata": {},
   "source": [
    "We can note that there are 871k Male users and 279k female users"
   ]
  },
  {
   "cell_type": "code",
   "execution_count": 40,
   "metadata": {
    "scrolled": true
   },
   "outputs": [
    {
     "data": {
      "image/png": "[encoded data removed]",
      "text/plain": [
       "<Figure size 504x504 with 1 Axes>"
      ]
     },
     "metadata": {},
     "output_type": "display_data"
    }
   ],
   "source": [
    "plt.figure(figsize=(7,7))\n",
    "plt.pie(gender_count, labels = ['Male','Female','Others'], autopct = '%0.2f',labeldistance=1.2, pctdistance=1.1,);\n",
    "plt.title(\"Comparison of gender of users\", fontsize=15, fontweight='bold');"
   ]
  },
  {
   "cell_type": "markdown",
   "metadata": {},
   "source": [
    "The users are dominated by Males with a whopping 74% users being male and female being 23.85%. This shows that there are a less number of females interested in the service or maybe females do not roam around a lot! "
   ]
  },
  {
   "cell_type": "markdown",
   "metadata": {},
   "source": [
    "**Distribution of rides by age groups**"
   ]
  },
  {
   "cell_type": "code",
   "execution_count": 41,
   "metadata": {},
   "outputs": [
    {
     "data": {
      "image/png": "[encoded data removed]",
      "text/plain": [
       "<Figure size 576x360 with 1 Axes>"
      ]
     },
     "metadata": {},
     "output_type": "display_data"
    }
   ],
   "source": [
    "# Age group data\n",
    "bin_edges = np.arange(15, 70, 5)\n",
    "plt.figure(figsize=(8,5))\n",
    "plt.hist(data = master_cleaned, x = 'member_age', bins = bin_edges);\n",
    "\n",
    "plt.title(\"Baywheels User by Age\", y=1.05, fontsize=16, fontweight='bold')\n",
    "plt.xlabel('Age (Years)',fontsize=12)\n",
    "plt.ylabel('Number of Bike Trips',fontsize=12);"
   ]
  },
  {
   "cell_type": "markdown",
   "metadata": {},
   "source": [
    "**The people in the age group of 25 to 40 use the service a lot. This would mostly attribute the working professionals and student who might be staying nearby and use the ride sharing system for travel.**<br> There are close to 550K rides taken by users in the age group 25 to 35 that are using the service."
   ]
  },
  {
   "cell_type": "code",
   "execution_count": 42,
   "metadata": {},
   "outputs": [
    {
     "data": {
      "text/plain": [
       "count    1.172617e+06\n",
       "mean     1.910535e+00\n",
       "std      5.152459e+01\n",
       "min      0.000000e+00\n",
       "25%      9.230000e-01\n",
       "50%      1.452000e+00\n",
       "75%      2.239000e+00\n",
       "max      1.280236e+04\n",
       "Name: distance_travelled, dtype: float64"
      ]
     },
     "execution_count": 42,
     "metadata": {},
     "output_type": "execute_result"
    }
   ],
   "source": [
    "master_cleaned.distance_travelled.describe()"
   ]
  },
  {
   "cell_type": "code",
   "execution_count": 43,
   "metadata": {
    "scrolled": true
   },
   "outputs": [
    {
     "data": {
      "image/png": "[encoded data removed]",
      "text/plain": [
       "<Figure size 576x360 with 1 Axes>"
      ]
     },
     "metadata": {},
     "output_type": "display_data"
    }
   ],
   "source": [
    "# Distance travelled in km\n",
    "bin_edges = np.arange(0, 8, 0.5)\n",
    "plt.figure(figsize=(8,5))\n",
    "plt.hist(data = master_cleaned, x = 'distance_travelled', bins = bin_edges);\n",
    "\n",
    "plt.title(\"Baywheels Trip Distance in km\", y=1.05, fontsize=16, fontweight='bold')\n",
    "plt.xlabel('Distance (km)')\n",
    "plt.ylabel('Number of Bike Trips');"
   ]
  },
  {
   "cell_type": "markdown",
   "metadata": {},
   "source": [
    "**The ride sharing system is mostly supporting the short distance last-mile-connectivity. We can see that the distance is mostly less than 4 kilometers.**"
   ]
  },
  {
   "cell_type": "code",
   "execution_count": 44,
   "metadata": {},
   "outputs": [],
   "source": [
    "#grouping data by hour and aggregating the count of each bike id\n",
    "start_hour_df = master_cleaned.groupby(master_cleaned.start_time.dt.hour).agg({'bike_id':'count'}).reset_index()"
   ]
  },
  {
   "cell_type": "code",
   "execution_count": 45,
   "metadata": {},
   "outputs": [
    {
     "data": {
      "text/html": [
       "<div>\n",
       "<style scoped>\n",
       "    .dataframe tbody tr th:only-of-type {\n",
       "        vertical-align: middle;\n",
       "    }\n",
       "\n",
       "    .dataframe tbody tr th {\n",
       "        vertical-align: top;\n",
       "    }\n",
       "\n",
       "    .dataframe thead th {\n",
       "        text-align: right;\n",
       "    }\n",
       "</style>\n",
       "<table border=\"1\" class=\"dataframe\">\n",
       "  <thead>\n",
       "    <tr style=\"text-align: right;\">\n",
       "      <th></th>\n",
       "      <th>start_time</th>\n",
       "      <th>bike_id</th>\n",
       "    </tr>\n",
       "  </thead>\n",
       "  <tbody>\n",
       "    <tr>\n",
       "      <th>0</th>\n",
       "      <td>0</td>\n",
       "      <td>0.548346</td>\n",
       "    </tr>\n",
       "    <tr>\n",
       "      <th>1</th>\n",
       "      <td>1</td>\n",
       "      <td>0.322441</td>\n",
       "    </tr>\n",
       "    <tr>\n",
       "      <th>2</th>\n",
       "      <td>2</td>\n",
       "      <td>0.205523</td>\n",
       "    </tr>\n",
       "    <tr>\n",
       "      <th>3</th>\n",
       "      <td>3</td>\n",
       "      <td>0.103103</td>\n",
       "    </tr>\n",
       "    <tr>\n",
       "      <th>4</th>\n",
       "      <td>4</td>\n",
       "      <td>0.140626</td>\n",
       "    </tr>\n",
       "    <tr>\n",
       "      <th>5</th>\n",
       "      <td>5</td>\n",
       "      <td>0.532314</td>\n",
       "    </tr>\n",
       "    <tr>\n",
       "      <th>6</th>\n",
       "      <td>6</td>\n",
       "      <td>2.040308</td>\n",
       "    </tr>\n",
       "    <tr>\n",
       "      <th>7</th>\n",
       "      <td>7</td>\n",
       "      <td>5.667153</td>\n",
       "    </tr>\n",
       "    <tr>\n",
       "      <th>8</th>\n",
       "      <td>8</td>\n",
       "      <td>11.147289</td>\n",
       "    </tr>\n",
       "    <tr>\n",
       "      <th>9</th>\n",
       "      <td>9</td>\n",
       "      <td>8.563069</td>\n",
       "    </tr>\n",
       "    <tr>\n",
       "      <th>10</th>\n",
       "      <td>10</td>\n",
       "      <td>4.263114</td>\n",
       "    </tr>\n",
       "    <tr>\n",
       "      <th>11</th>\n",
       "      <td>11</td>\n",
       "      <td>3.989538</td>\n",
       "    </tr>\n",
       "    <tr>\n",
       "      <th>12</th>\n",
       "      <td>12</td>\n",
       "      <td>4.505904</td>\n",
       "    </tr>\n",
       "    <tr>\n",
       "      <th>13</th>\n",
       "      <td>13</td>\n",
       "      <td>4.431285</td>\n",
       "    </tr>\n",
       "    <tr>\n",
       "      <th>14</th>\n",
       "      <td>14</td>\n",
       "      <td>4.272580</td>\n",
       "    </tr>\n",
       "    <tr>\n",
       "      <th>15</th>\n",
       "      <td>15</td>\n",
       "      <td>4.964963</td>\n",
       "    </tr>\n",
       "    <tr>\n",
       "      <th>16</th>\n",
       "      <td>16</td>\n",
       "      <td>7.757605</td>\n",
       "    </tr>\n",
       "    <tr>\n",
       "      <th>17</th>\n",
       "      <td>17</td>\n",
       "      <td>12.136188</td>\n",
       "    </tr>\n",
       "    <tr>\n",
       "      <th>18</th>\n",
       "      <td>18</td>\n",
       "      <td>9.464471</td>\n",
       "    </tr>\n",
       "    <tr>\n",
       "      <th>19</th>\n",
       "      <td>19</td>\n",
       "      <td>5.811872</td>\n",
       "    </tr>\n",
       "    <tr>\n",
       "      <th>20</th>\n",
       "      <td>20</td>\n",
       "      <td>3.738390</td>\n",
       "    </tr>\n",
       "    <tr>\n",
       "      <th>21</th>\n",
       "      <td>21</td>\n",
       "      <td>2.650482</td>\n",
       "    </tr>\n",
       "    <tr>\n",
       "      <th>22</th>\n",
       "      <td>22</td>\n",
       "      <td>1.737481</td>\n",
       "    </tr>\n",
       "    <tr>\n",
       "      <th>23</th>\n",
       "      <td>23</td>\n",
       "      <td>1.005955</td>\n",
       "    </tr>\n",
       "  </tbody>\n",
       "</table>\n",
       "</div>"
      ],
      "text/plain": [
       "    start_time    bike_id\n",
       "0            0   0.548346\n",
       "1            1   0.322441\n",
       "2            2   0.205523\n",
       "3            3   0.103103\n",
       "4            4   0.140626\n",
       "5            5   0.532314\n",
       "6            6   2.040308\n",
       "7            7   5.667153\n",
       "8            8  11.147289\n",
       "9            9   8.563069\n",
       "10          10   4.263114\n",
       "11          11   3.989538\n",
       "12          12   4.505904\n",
       "13          13   4.431285\n",
       "14          14   4.272580\n",
       "15          15   4.964963\n",
       "16          16   7.757605\n",
       "17          17  12.136188\n",
       "18          18   9.464471\n",
       "19          19   5.811872\n",
       "20          20   3.738390\n",
       "21          21   2.650482\n",
       "22          22   1.737481\n",
       "23          23   1.005955"
      ]
     },
     "execution_count": 45,
     "metadata": {},
     "output_type": "execute_result"
    }
   ],
   "source": [
    "#calculating to number of bikes\n",
    "total_bikes = start_hour_df.bike_id.sum()\n",
    "\n",
    "#calculating percentage of bikes running per hour\n",
    "start_hour_df.bike_id = start_hour_df.bike_id*100/total_bikes\n",
    "start_hour_df"
   ]
  },
  {
   "cell_type": "code",
   "execution_count": 46,
   "metadata": {
    "scrolled": false
   },
   "outputs": [
    {
     "data": {
      "image/png": "[encoded data removed]",
      "text/plain": [
       "<Figure size 1080x648 with 1 Axes>"
      ]
     },
     "metadata": {},
     "output_type": "display_data"
    }
   ],
   "source": [
    "plt.figure(figsize=(15,9))\n",
    "sb.pointplot(x='start_time', y='bike_id', scale=.7, color='orange', data=start_hour_df)\n",
    "plt.title('Percentage of bikes running', fontsize=22, y=1.02)\n",
    "plt.xlabel('Hour of the day', labelpad=16)\n",
    "plt.ylabel('Percentage(%) bikes', labelpad=16);"
   ]
  },
  {
   "cell_type": "markdown",
   "metadata": {},
   "source": [
    "### Discuss the distribution(s) of your variable(s) of interest. Were there any unusual points? Did you need to perform any transformations?\n",
    "\n",
    "Since the cleaning was done well before the exploratory analysis, there were no major changes that were needed. One change was that in the gender, there were 2 different notations found for each sex. Example, 'male' and 'M'. This was combined into one.\n",
    "<br>\n",
    "1. There is a a big gender gap. The males are using the service a lot more than the females. This could mean that the females do not like the service a lot or they do not travel a lot.\n",
    "2. People in the age group 20 to 40 are mostly using the service. This attributes to student and working professionals.\n",
    "\n",
    "### Of the features you investigated, were there any unusual distributions? Did you perform any operations on the data to tidy, adjust, or change the form of the data? If so, why did you do this?\n",
    "\n",
    "1. The age of some of the users were a lot more than expected as was seen in the bar plot. These ages were not considered for the plots. \n",
    "2. A new field for the ages of the user and the distance travelled by each ride was created to help with the plots.\n",
    "3. I calulated the number of bikes running at particular hour of the day. we can see that the ride service mostly used between 7Am to 10AM or 4PM to 8PM. This is the peak time when people go to work or to institutions of learning. "
   ]
  },
  {
   "cell_type": "markdown",
   "metadata": {},
   "source": [
    "## Bivariate Exploration\n"
   ]
  },
  {
   "cell_type": "code",
   "execution_count": 47,
   "metadata": {},
   "outputs": [
    {
     "data": {
      "text/html": [
       "<div>\n",
       "<style scoped>\n",
       "    .dataframe tbody tr th:only-of-type {\n",
       "        vertical-align: middle;\n",
       "    }\n",
       "\n",
       "    .dataframe tbody tr th {\n",
       "        vertical-align: top;\n",
       "    }\n",
       "\n",
       "    .dataframe thead th {\n",
       "        text-align: right;\n",
       "    }\n",
       "</style>\n",
       "<table border=\"1\" class=\"dataframe\">\n",
       "  <thead>\n",
       "    <tr style=\"text-align: right;\">\n",
       "      <th></th>\n",
       "      <th>start_time</th>\n",
       "      <th>user_type</th>\n",
       "      <th>bike_id</th>\n",
       "    </tr>\n",
       "  </thead>\n",
       "  <tbody>\n",
       "    <tr>\n",
       "      <th>0</th>\n",
       "      <td>0</td>\n",
       "      <td>Customer</td>\n",
       "      <td>16466</td>\n",
       "    </tr>\n",
       "    <tr>\n",
       "      <th>1</th>\n",
       "      <td>0</td>\n",
       "      <td>Subscriber</td>\n",
       "      <td>161698</td>\n",
       "    </tr>\n",
       "    <tr>\n",
       "      <th>2</th>\n",
       "      <td>1</td>\n",
       "      <td>Customer</td>\n",
       "      <td>17312</td>\n",
       "    </tr>\n",
       "    <tr>\n",
       "      <th>3</th>\n",
       "      <td>1</td>\n",
       "      <td>Subscriber</td>\n",
       "      <td>178895</td>\n",
       "    </tr>\n",
       "    <tr>\n",
       "      <th>4</th>\n",
       "      <td>2</td>\n",
       "      <td>Customer</td>\n",
       "      <td>17384</td>\n",
       "    </tr>\n",
       "    <tr>\n",
       "      <th>5</th>\n",
       "      <td>2</td>\n",
       "      <td>Subscriber</td>\n",
       "      <td>179836</td>\n",
       "    </tr>\n",
       "    <tr>\n",
       "      <th>6</th>\n",
       "      <td>3</td>\n",
       "      <td>Customer</td>\n",
       "      <td>19055</td>\n",
       "    </tr>\n",
       "    <tr>\n",
       "      <th>7</th>\n",
       "      <td>3</td>\n",
       "      <td>Subscriber</td>\n",
       "      <td>189519</td>\n",
       "    </tr>\n",
       "    <tr>\n",
       "      <th>8</th>\n",
       "      <td>4</td>\n",
       "      <td>Customer</td>\n",
       "      <td>20744</td>\n",
       "    </tr>\n",
       "    <tr>\n",
       "      <th>9</th>\n",
       "      <td>4</td>\n",
       "      <td>Subscriber</td>\n",
       "      <td>169200</td>\n",
       "    </tr>\n",
       "    <tr>\n",
       "      <th>10</th>\n",
       "      <td>5</td>\n",
       "      <td>Customer</td>\n",
       "      <td>22052</td>\n",
       "    </tr>\n",
       "    <tr>\n",
       "      <th>11</th>\n",
       "      <td>5</td>\n",
       "      <td>Subscriber</td>\n",
       "      <td>84561</td>\n",
       "    </tr>\n",
       "    <tr>\n",
       "      <th>12</th>\n",
       "      <td>6</td>\n",
       "      <td>Customer</td>\n",
       "      <td>19404</td>\n",
       "    </tr>\n",
       "    <tr>\n",
       "      <th>13</th>\n",
       "      <td>6</td>\n",
       "      <td>Subscriber</td>\n",
       "      <td>76491</td>\n",
       "    </tr>\n",
       "  </tbody>\n",
       "</table>\n",
       "</div>"
      ],
      "text/plain": [
       "    start_time   user_type  bike_id\n",
       "0            0    Customer    16466\n",
       "1            0  Subscriber   161698\n",
       "2            1    Customer    17312\n",
       "3            1  Subscriber   178895\n",
       "4            2    Customer    17384\n",
       "5            2  Subscriber   179836\n",
       "6            3    Customer    19055\n",
       "7            3  Subscriber   189519\n",
       "8            4    Customer    20744\n",
       "9            4  Subscriber   169200\n",
       "10           5    Customer    22052\n",
       "11           5  Subscriber    84561\n",
       "12           6    Customer    19404\n",
       "13           6  Subscriber    76491"
      ]
     },
     "execution_count": 47,
     "metadata": {},
     "output_type": "execute_result"
    }
   ],
   "source": [
    "# Customer Usage by Weekday vs. Subscriber Usage by Weekday\n",
    "df_cleaned_user_week = master_cleaned.groupby([master_cleaned.start_time.dt.weekday, master_cleaned.user_type]).agg({'bike_id':'count'}).reset_index()\n",
    "df_cleaned_user_week.rename(columns = {'O':'size'})\n",
    "#x tick values\n",
    "weekday = ['Mon', 'Tue', 'Wed', 'Thu', 'Fri', 'Sat', 'Sun']\n",
    "df_cleaned_user_week"
   ]
  },
  {
   "cell_type": "code",
   "execution_count": 48,
   "metadata": {
    "scrolled": false
   },
   "outputs": [
    {
     "name": "stderr",
     "output_type": "stream",
     "text": [
      "/home/gautam/anaconda3/lib/python3.7/site-packages/matplotlib/cbook/__init__.py:424: MatplotlibDeprecationWarning: \n",
      "Passing one of 'on', 'true', 'off', 'false' as a boolean is deprecated; use an actual boolean (True/False) instead.\n",
      "  warn_deprecated(\"2.2\", \"Passing one of 'on', 'true', 'off', 'false' as a \"\n"
     ]
    },
    {
     "data": {
      "image/png": "[encoded data removed]",
      "text/plain": [
       "<Figure size 864x360 with 1 Axes>"
      ]
     },
     "metadata": {},
     "output_type": "display_data"
    }
   ],
   "source": [
    "# Customer Usage by Weekday vs. Subscriber Usage by Weekday\n",
    "subscriber = df_cleaned_user_week.query(\"user_type == 'Subscriber'\")\n",
    "customer = df_cleaned_user_week.query(\"user_type == 'Customer'\")\n",
    "\n",
    "fig = plt.figure(figsize=(12, 5))\n",
    "#create subplot for multiple point plots\n",
    "ax1 = fig.add_subplot(111)\n",
    "\n",
    "#plot of subscriber\n",
    "ax1.plot(subscriber.start_time, subscriber.bike_id, label='Subscriber', color='green', marker='o')\n",
    "#plot of customer\n",
    "ax1.plot(customer.start_time, customer.bike_id, label='Customer', color='blue', marker='o')\n",
    "plt.xticks([0,1,2,3,4,5,6],weekday)\n",
    "plt.title(\"Subscriber vs Customer weekly ride count - pyplot\", fontweight='bold', y =1.02, fontsize=16)\n",
    "plt.xlabel('Days of the week',fontweight='bold', fontsize=12)\n",
    "plt.ylabel('Number of rides',fontweight='bold', fontsize=12)\n",
    "\n",
    "handles, labels = ax1.get_legend_handles_labels()\n",
    "lgd = ax1.legend(handles, labels, loc='upper center', bbox_to_anchor=(1.15,1))\n",
    "\n",
    "ax1.grid('on');"
   ]
  },
  {
   "cell_type": "markdown",
   "metadata": {},
   "source": [
    "**We do notice that the company has a good amount of subscriber when compared to guest customers.** This could mean good news for the company since there will be users who will use the service regularly. "
   ]
  },
  {
   "cell_type": "markdown",
   "metadata": {},
   "source": [
    "Now lets plot the same using Seaborn"
   ]
  },
  {
   "cell_type": "code",
   "execution_count": 49,
   "metadata": {},
   "outputs": [
    {
     "data": {
      "image/png": "[encoded data removed]",
      "text/plain": [
       "<Figure size 720x432 with 1 Axes>"
      ]
     },
     "metadata": {},
     "output_type": "display_data"
    }
   ],
   "source": [
    "#Number of rides per day using seaborn\n",
    "plt.figure(figsize=(10,6))\n",
    "ax = sb.pointplot(x='start_time', y='bike_id', palette='Set2', hue='user_type', data=df_cleaned_user_week);\n",
    "ax.set_title('Subscriber vs Customer weekly ride count - Seaborn')\n",
    "ax.set(xlabel='Days of the week', ylabel='Number of rides');\n",
    "plt.xticks([0,1,2,3,4,5,6],weekday);"
   ]
  },
  {
   "cell_type": "code",
   "execution_count": 50,
   "metadata": {
    "scrolled": false
   },
   "outputs": [
    {
     "name": "stderr",
     "output_type": "stream",
     "text": [
      "/home/gautam/anaconda3/lib/python3.7/site-packages/scipy/stats/stats.py:1713: FutureWarning: Using a non-tuple sequence for multidimensional indexing is deprecated; use `arr[tuple(seq)]` instead of `arr[seq]`. In the future this will be interpreted as an array index, `arr[np.array(seq)]`, which will result either in an error or a different result.\n",
      "  return np.add.reduce(sorted[indexer] * weights, axis=axis) / sumval\n"
     ]
    },
    {
     "data": {
      "image/png": "[encoded data removed]",
      "text/plain": [
       "<Figure size 720x504 with 1 Axes>"
      ]
     },
     "metadata": {},
     "output_type": "display_data"
    }
   ],
   "source": [
    "plt.figure(figsize=(10,7))\n",
    "ax = sb.pointplot(x='member_gender', y='speed', palette='Set2', hue='user_type', data=master_cleaned);\n",
    "ax.set_title('User type based trip speeds for each gender',fontsize=15, y=1.02)\n",
    "ax.set(xlabel='Gender', ylabel='Speed')\n",
    "\n",
    "#plotting the legend outside the graph\n",
    "handles, labels = ax.get_legend_handles_labels()\n",
    "lgd = ax.legend(handles, labels, loc='upper center', bbox_to_anchor=(1.15,1))\n"
   ]
  },
  {
   "cell_type": "markdown",
   "metadata": {},
   "source": [
    "The average male riding speeds among the subscribers seems to bit **slower** than the female users. This means females are faster in their rides than the males. The scenario changes when t comes to customers."
   ]
  },
  {
   "cell_type": "markdown",
   "metadata": {},
   "source": [
    "**Speed based on gender**"
   ]
  },
  {
   "cell_type": "code",
   "execution_count": 54,
   "metadata": {
    "scrolled": true
   },
   "outputs": [
    {
     "data": {
      "image/png": "[encoded data removed]",
      "text/plain": [
       "<Figure size 576x576 with 1 Axes>"
      ]
     },
     "metadata": {},
     "output_type": "display_data"
    }
   ],
   "source": [
    "plt.figure(figsize=(8,8))\n",
    "# boxplot\n",
    "ax = sb.boxplot(x='month', y='speed', palette='Set2', hue='member_gender', data=master_cleaned.query('speed < 100'))\n",
    "ax.set_title('Trip speeds based on gender for each Month', fontweight='bold', fontsize=16)\n",
    "ax.set(xlabel='Month', ylabel='Speed')\n",
    "\n",
    "#legend outside the chart\n",
    "handles, labels = ax.get_legend_handles_labels()\n",
    "lgd = ax.legend(handles, labels, loc='upper center', bbox_to_anchor=(1.15,1))\n"
   ]
  },
  {
   "cell_type": "markdown",
   "metadata": {},
   "source": [
    "1. The mean speed of Male users is bit highers than the other 2. \n",
    "2. We can also see that the overall speed of all the 3 genders has come down for the month of May and June. This could be the **Summer effect** where people slow down due to **tiredness from heat**."
   ]
  },
  {
   "cell_type": "code",
   "execution_count": 55,
   "metadata": {},
   "outputs": [
    {
     "data": {
      "text/html": [
       "<div>\n",
       "<style scoped>\n",
       "    .dataframe tbody tr th:only-of-type {\n",
       "        vertical-align: middle;\n",
       "    }\n",
       "\n",
       "    .dataframe tbody tr th {\n",
       "        vertical-align: top;\n",
       "    }\n",
       "\n",
       "    .dataframe thead th {\n",
       "        text-align: right;\n",
       "    }\n",
       "</style>\n",
       "<table border=\"1\" class=\"dataframe\">\n",
       "  <thead>\n",
       "    <tr style=\"text-align: right;\">\n",
       "      <th></th>\n",
       "      <th>month</th>\n",
       "      <th>user_type</th>\n",
       "      <th>bike_id</th>\n",
       "    </tr>\n",
       "  </thead>\n",
       "  <tbody>\n",
       "    <tr>\n",
       "      <th>0</th>\n",
       "      <td>2019-01</td>\n",
       "      <td>Customer</td>\n",
       "      <td>17810</td>\n",
       "    </tr>\n",
       "    <tr>\n",
       "      <th>1</th>\n",
       "      <td>2019-01</td>\n",
       "      <td>Subscriber</td>\n",
       "      <td>163965</td>\n",
       "    </tr>\n",
       "    <tr>\n",
       "      <th>2</th>\n",
       "      <td>2019-02</td>\n",
       "      <td>Customer</td>\n",
       "      <td>16613</td>\n",
       "    </tr>\n",
       "    <tr>\n",
       "      <th>3</th>\n",
       "      <td>2019-02</td>\n",
       "      <td>Subscriber</td>\n",
       "      <td>157959</td>\n",
       "    </tr>\n",
       "    <tr>\n",
       "      <th>4</th>\n",
       "      <td>2019-03</td>\n",
       "      <td>Customer</td>\n",
       "      <td>30938</td>\n",
       "    </tr>\n",
       "    <tr>\n",
       "      <th>5</th>\n",
       "      <td>2019-03</td>\n",
       "      <td>Subscriber</td>\n",
       "      <td>212903</td>\n",
       "    </tr>\n",
       "    <tr>\n",
       "      <th>6</th>\n",
       "      <td>2019-04</td>\n",
       "      <td>Customer</td>\n",
       "      <td>29360</td>\n",
       "    </tr>\n",
       "    <tr>\n",
       "      <th>7</th>\n",
       "      <td>2019-04</td>\n",
       "      <td>Subscriber</td>\n",
       "      <td>197957</td>\n",
       "    </tr>\n",
       "    <tr>\n",
       "      <th>8</th>\n",
       "      <td>2019-05</td>\n",
       "      <td>Customer</td>\n",
       "      <td>19998</td>\n",
       "    </tr>\n",
       "    <tr>\n",
       "      <th>9</th>\n",
       "      <td>2019-05</td>\n",
       "      <td>Subscriber</td>\n",
       "      <td>153013</td>\n",
       "    </tr>\n",
       "    <tr>\n",
       "      <th>10</th>\n",
       "      <td>2019-06</td>\n",
       "      <td>Customer</td>\n",
       "      <td>17698</td>\n",
       "    </tr>\n",
       "    <tr>\n",
       "      <th>11</th>\n",
       "      <td>2019-06</td>\n",
       "      <td>Subscriber</td>\n",
       "      <td>154403</td>\n",
       "    </tr>\n",
       "  </tbody>\n",
       "</table>\n",
       "</div>"
      ],
      "text/plain": [
       "     month   user_type  bike_id\n",
       "0  2019-01    Customer    17810\n",
       "1  2019-01  Subscriber   163965\n",
       "2  2019-02    Customer    16613\n",
       "3  2019-02  Subscriber   157959\n",
       "4  2019-03    Customer    30938\n",
       "5  2019-03  Subscriber   212903\n",
       "6  2019-04    Customer    29360\n",
       "7  2019-04  Subscriber   197957\n",
       "8  2019-05    Customer    19998\n",
       "9  2019-05  Subscriber   153013\n",
       "10 2019-06    Customer    17698\n",
       "11 2019-06  Subscriber   154403"
      ]
     },
     "execution_count": 55,
     "metadata": {},
     "output_type": "execute_result"
    }
   ],
   "source": [
    "monthly_user = master_cleaned.groupby(['month', 'user_type']).agg({'bike_id':'count'}).reset_index()\n",
    "monthly_user"
   ]
  },
  {
   "cell_type": "code",
   "execution_count": 57,
   "metadata": {},
   "outputs": [
    {
     "data": {
      "image/png": "[encoded data removed]",
      "text/plain": [
       "<Figure size 576x576 with 1 Axes>"
      ]
     },
     "metadata": {},
     "output_type": "display_data"
    }
   ],
   "source": [
    "plt.figure(figsize=(8,8))\n",
    "ax = sb.pointplot(x='month', y='bike_id', palette='Set2', hue='user_type', data=monthly_user)\n",
    "ax.set_title('Monthly rides based on User type',fontweight='bold', fontsize=16)\n",
    "ax.set(xlabel='Month', ylabel='Number of rides');\n"
   ]
  },
  {
   "cell_type": "markdown",
   "metadata": {},
   "source": [
    "### Talk about some of the relationships you observed in this part of the investigation. How did the feature(s) of interest vary with other features in the dataset?\n",
    "\n",
    "1. The average speed is more for that of Males than the females and others.\n",
    "2. When compared month on month, there is a steep increase in the riderships in the Month on March 2019 for both subscribers and the customers. the falls a bit in April and falls again in May.\n",
    "3. The average male riding speeds among the subscribers seems to bit slower than the female users. This means females are faster in their rides than the males. The scenario changes when t comes to customers.\n",
    "\n",
    "### Did you observe any interesting relationships between the other features (not the main feature(s) of interest)?\n",
    "\n",
    "I noticed the interesting trends of decrease in speeds with different seasons. With Spring, The speeds are good and when there is Summer, the speeds come down. This could be with the tiredness coming in with the heat."
   ]
  },
  {
   "cell_type": "markdown",
   "metadata": {},
   "source": [
    "## Multivariate Exploration\n"
   ]
  },
  {
   "cell_type": "code",
   "execution_count": 58,
   "metadata": {},
   "outputs": [
    {
     "data": {
      "text/html": [
       "<div>\n",
       "<style scoped>\n",
       "    .dataframe tbody tr th:only-of-type {\n",
       "        vertical-align: middle;\n",
       "    }\n",
       "\n",
       "    .dataframe tbody tr th {\n",
       "        vertical-align: top;\n",
       "    }\n",
       "\n",
       "    .dataframe thead th {\n",
       "        text-align: right;\n",
       "    }\n",
       "</style>\n",
       "<table border=\"1\" class=\"dataframe\">\n",
       "  <thead>\n",
       "    <tr style=\"text-align: right;\">\n",
       "      <th></th>\n",
       "      <th>duration_sec</th>\n",
       "      <th>start_time</th>\n",
       "      <th>end_time</th>\n",
       "      <th>start_station_id</th>\n",
       "      <th>start_station_name</th>\n",
       "      <th>start_station_latitude</th>\n",
       "      <th>start_station_longitude</th>\n",
       "      <th>end_station_id</th>\n",
       "      <th>end_station_name</th>\n",
       "      <th>end_station_latitude</th>\n",
       "      <th>...</th>\n",
       "      <th>bike_id</th>\n",
       "      <th>user_type</th>\n",
       "      <th>member_birth_year</th>\n",
       "      <th>member_gender</th>\n",
       "      <th>bike_share_for_all_trip</th>\n",
       "      <th>member_age</th>\n",
       "      <th>distance_travelled</th>\n",
       "      <th>speed</th>\n",
       "      <th>month</th>\n",
       "      <th>duration_min</th>\n",
       "    </tr>\n",
       "  </thead>\n",
       "  <tbody>\n",
       "    <tr>\n",
       "      <th>0</th>\n",
       "      <td>80825.0</td>\n",
       "      <td>2019-01-31 17:57:44.613</td>\n",
       "      <td>2019-02-01 16:24:49.864</td>\n",
       "      <td>229.0</td>\n",
       "      <td>Foothill Blvd at 42nd Ave</td>\n",
       "      <td>37.775745</td>\n",
       "      <td>-122.213037</td>\n",
       "      <td>196.0</td>\n",
       "      <td>Grand Ave at Perkins St</td>\n",
       "      <td>37.808894</td>\n",
       "      <td>...</td>\n",
       "      <td>4861</td>\n",
       "      <td>Subscriber</td>\n",
       "      <td>1989.0</td>\n",
       "      <td>Male</td>\n",
       "      <td>No</td>\n",
       "      <td>30.0</td>\n",
       "      <td>5.307</td>\n",
       "      <td>0.236377</td>\n",
       "      <td>2019-01</td>\n",
       "      <td>1347.083333</td>\n",
       "    </tr>\n",
       "    <tr>\n",
       "      <th>1</th>\n",
       "      <td>65900.0</td>\n",
       "      <td>2019-01-31 20:58:33.886</td>\n",
       "      <td>2019-02-01 15:16:54.173</td>\n",
       "      <td>4.0</td>\n",
       "      <td>Cyril Magnin St at Ellis St</td>\n",
       "      <td>37.785881</td>\n",
       "      <td>-122.408915</td>\n",
       "      <td>134.0</td>\n",
       "      <td>Valencia St at 24th St</td>\n",
       "      <td>37.752428</td>\n",
       "      <td>...</td>\n",
       "      <td>5506</td>\n",
       "      <td>Subscriber</td>\n",
       "      <td>1989.0</td>\n",
       "      <td>Male</td>\n",
       "      <td>No</td>\n",
       "      <td>30.0</td>\n",
       "      <td>3.861</td>\n",
       "      <td>0.210920</td>\n",
       "      <td>2019-01</td>\n",
       "      <td>1098.333333</td>\n",
       "    </tr>\n",
       "    <tr>\n",
       "      <th>2</th>\n",
       "      <td>62633.0</td>\n",
       "      <td>2019-01-31 18:06:52.924</td>\n",
       "      <td>2019-02-01 11:30:46.530</td>\n",
       "      <td>245.0</td>\n",
       "      <td>Downtown Berkeley BART</td>\n",
       "      <td>37.870139</td>\n",
       "      <td>-122.268422</td>\n",
       "      <td>157.0</td>\n",
       "      <td>65th St at Hollis St</td>\n",
       "      <td>37.846784</td>\n",
       "      <td>...</td>\n",
       "      <td>2717</td>\n",
       "      <td>Customer</td>\n",
       "      <td>1965.0</td>\n",
       "      <td>Female</td>\n",
       "      <td>No</td>\n",
       "      <td>54.0</td>\n",
       "      <td>3.288</td>\n",
       "      <td>0.188987</td>\n",
       "      <td>2019-01</td>\n",
       "      <td>1043.883333</td>\n",
       "    </tr>\n",
       "    <tr>\n",
       "      <th>3</th>\n",
       "      <td>44680.0</td>\n",
       "      <td>2019-01-31 19:46:09.719</td>\n",
       "      <td>2019-02-01 08:10:50.318</td>\n",
       "      <td>85.0</td>\n",
       "      <td>Church St at Duboce Ave</td>\n",
       "      <td>37.770083</td>\n",
       "      <td>-122.429156</td>\n",
       "      <td>53.0</td>\n",
       "      <td>Grove St at Divisadero</td>\n",
       "      <td>37.775946</td>\n",
       "      <td>...</td>\n",
       "      <td>4557</td>\n",
       "      <td>Customer</td>\n",
       "      <td>1974.0</td>\n",
       "      <td>Male</td>\n",
       "      <td>No</td>\n",
       "      <td>45.0</td>\n",
       "      <td>1.000</td>\n",
       "      <td>0.080573</td>\n",
       "      <td>2019-01</td>\n",
       "      <td>744.666667</td>\n",
       "    </tr>\n",
       "    <tr>\n",
       "      <th>5</th>\n",
       "      <td>6733.0</td>\n",
       "      <td>2019-01-31 22:35:50.813</td>\n",
       "      <td>2019-02-01 00:28:04.512</td>\n",
       "      <td>245.0</td>\n",
       "      <td>Downtown Berkeley BART</td>\n",
       "      <td>37.870139</td>\n",
       "      <td>-122.268422</td>\n",
       "      <td>266.0</td>\n",
       "      <td>Parker St at Fulton St</td>\n",
       "      <td>37.862464</td>\n",
       "      <td>...</td>\n",
       "      <td>3532</td>\n",
       "      <td>Subscriber</td>\n",
       "      <td>1994.0</td>\n",
       "      <td>Male</td>\n",
       "      <td>No</td>\n",
       "      <td>25.0</td>\n",
       "      <td>0.911</td>\n",
       "      <td>0.487093</td>\n",
       "      <td>2019-01</td>\n",
       "      <td>112.216667</td>\n",
       "    </tr>\n",
       "  </tbody>\n",
       "</table>\n",
       "<p>5 rows × 21 columns</p>\n",
       "</div>"
      ],
      "text/plain": [
       "   duration_sec              start_time                end_time  \\\n",
       "0       80825.0 2019-01-31 17:57:44.613 2019-02-01 16:24:49.864   \n",
       "1       65900.0 2019-01-31 20:58:33.886 2019-02-01 15:16:54.173   \n",
       "2       62633.0 2019-01-31 18:06:52.924 2019-02-01 11:30:46.530   \n",
       "3       44680.0 2019-01-31 19:46:09.719 2019-02-01 08:10:50.318   \n",
       "5        6733.0 2019-01-31 22:35:50.813 2019-02-01 00:28:04.512   \n",
       "\n",
       "  start_station_id           start_station_name  start_station_latitude  \\\n",
       "0            229.0    Foothill Blvd at 42nd Ave               37.775745   \n",
       "1              4.0  Cyril Magnin St at Ellis St               37.785881   \n",
       "2            245.0       Downtown Berkeley BART               37.870139   \n",
       "3             85.0      Church St at Duboce Ave               37.770083   \n",
       "5            245.0       Downtown Berkeley BART               37.870139   \n",
       "\n",
       "   start_station_longitude end_station_id         end_station_name  \\\n",
       "0              -122.213037          196.0  Grand Ave at Perkins St   \n",
       "1              -122.408915          134.0   Valencia St at 24th St   \n",
       "2              -122.268422          157.0     65th St at Hollis St   \n",
       "3              -122.429156           53.0   Grove St at Divisadero   \n",
       "5              -122.268422          266.0   Parker St at Fulton St   \n",
       "\n",
       "   end_station_latitude     ...       bike_id   user_type member_birth_year  \\\n",
       "0             37.808894     ...          4861  Subscriber            1989.0   \n",
       "1             37.752428     ...          5506  Subscriber            1989.0   \n",
       "2             37.846784     ...          2717    Customer            1965.0   \n",
       "3             37.775946     ...          4557    Customer            1974.0   \n",
       "5             37.862464     ...          3532  Subscriber            1994.0   \n",
       "\n",
       "   member_gender bike_share_for_all_trip member_age  distance_travelled  \\\n",
       "0           Male                      No       30.0               5.307   \n",
       "1           Male                      No       30.0               3.861   \n",
       "2         Female                      No       54.0               3.288   \n",
       "3           Male                      No       45.0               1.000   \n",
       "5           Male                      No       25.0               0.911   \n",
       "\n",
       "      speed   month duration_min  \n",
       "0  0.236377 2019-01  1347.083333  \n",
       "1  0.210920 2019-01  1098.333333  \n",
       "2  0.188987 2019-01  1043.883333  \n",
       "3  0.080573 2019-01   744.666667  \n",
       "5  0.487093 2019-01   112.216667  \n",
       "\n",
       "[5 rows x 21 columns]"
      ]
     },
     "execution_count": 58,
     "metadata": {},
     "output_type": "execute_result"
    }
   ],
   "source": [
    "master_cleaned['duration_min'] = master_cleaned.duration_sec/60\n",
    "master_cleaned.head()"
   ]
  },
  {
   "cell_type": "code",
   "execution_count": 59,
   "metadata": {},
   "outputs": [
    {
     "name": "stderr",
     "output_type": "stream",
     "text": [
      "/home/gautam/anaconda3/lib/python3.7/site-packages/scipy/stats/stats.py:1713: FutureWarning: Using a non-tuple sequence for multidimensional indexing is deprecated; use `arr[tuple(seq)]` instead of `arr[seq]`. In the future this will be interpreted as an array index, `arr[np.array(seq)]`, which will result either in an error or a different result.\n",
      "  return np.add.reduce(sorted[indexer] * weights, axis=axis) / sumval\n"
     ]
    },
    {
     "data": {
      "image/png": "[encoded data removed]",
      "text/plain": [
       "<Figure size 810.375x360 with 1 Axes>"
      ]
     },
     "metadata": {},
     "output_type": "display_data"
    }
   ],
   "source": [
    "graph = sb.catplot(data=master_cleaned.query('duration_min < 75'), \n",
    "                   x='user_type', y='duration_min', hue=\"member_gender\", \n",
    "                   kind=\"violin\", height=5, aspect=2);\n",
    "\n",
    "graph.set_axis_labels(\"User Type\", \"Trip Duration (Min)\")\n",
    "graph._legend.set_title('Gender')\n",
    "graph.fig.suptitle('Baywheels - Trip Duration (Min) Per User Type and Gender', y=1.05, fontsize=16, fontweight='bold');"
   ]
  },
  {
   "cell_type": "markdown",
   "metadata": {},
   "source": [
    "The trip duration of customers looks to be greater than subscribers. This is mostly because guests customer use the service in the weekend for longer trips."
   ]
  },
  {
   "cell_type": "code",
   "execution_count": 60,
   "metadata": {},
   "outputs": [
    {
     "data": {
      "text/html": [
       "<div>\n",
       "<style scoped>\n",
       "    .dataframe tbody tr th:only-of-type {\n",
       "        vertical-align: middle;\n",
       "    }\n",
       "\n",
       "    .dataframe tbody tr th {\n",
       "        vertical-align: top;\n",
       "    }\n",
       "\n",
       "    .dataframe thead th {\n",
       "        text-align: right;\n",
       "    }\n",
       "</style>\n",
       "<table border=\"1\" class=\"dataframe\">\n",
       "  <thead>\n",
       "    <tr style=\"text-align: right;\">\n",
       "      <th></th>\n",
       "      <th>month</th>\n",
       "      <th>start_station_name</th>\n",
       "      <th>bike_id</th>\n",
       "    </tr>\n",
       "  </thead>\n",
       "  <tbody>\n",
       "    <tr>\n",
       "      <th>0</th>\n",
       "      <td>2019-01</td>\n",
       "      <td>10th Ave at E 15th St</td>\n",
       "      <td>65</td>\n",
       "    </tr>\n",
       "    <tr>\n",
       "      <th>1</th>\n",
       "      <td>2019-01</td>\n",
       "      <td>10th St at Fallon St</td>\n",
       "      <td>339</td>\n",
       "    </tr>\n",
       "    <tr>\n",
       "      <th>2</th>\n",
       "      <td>2019-01</td>\n",
       "      <td>10th St at University Ave</td>\n",
       "      <td>247</td>\n",
       "    </tr>\n",
       "    <tr>\n",
       "      <th>3</th>\n",
       "      <td>2019-01</td>\n",
       "      <td>11th St at Bryant St</td>\n",
       "      <td>883</td>\n",
       "    </tr>\n",
       "    <tr>\n",
       "      <th>4</th>\n",
       "      <td>2019-01</td>\n",
       "      <td>11th St at Natoma St</td>\n",
       "      <td>874</td>\n",
       "    </tr>\n",
       "  </tbody>\n",
       "</table>\n",
       "</div>"
      ],
      "text/plain": [
       "    month         start_station_name  bike_id\n",
       "0 2019-01      10th Ave at E 15th St       65\n",
       "1 2019-01       10th St at Fallon St      339\n",
       "2 2019-01  10th St at University Ave      247\n",
       "3 2019-01       11th St at Bryant St      883\n",
       "4 2019-01       11th St at Natoma St      874"
      ]
     },
     "execution_count": 60,
     "metadata": {},
     "output_type": "execute_result"
    }
   ],
   "source": [
    "# group by the month and staion name and then count the unique bike_ids per station\n",
    "station_details = master_cleaned.groupby(['month','start_station_name']).bike_id.count().reset_index()\n",
    "station_details.head()"
   ]
  },
  {
   "cell_type": "code",
   "execution_count": 61,
   "metadata": {},
   "outputs": [
    {
     "data": {
      "text/html": [
       "<div>\n",
       "<style scoped>\n",
       "    .dataframe tbody tr th:only-of-type {\n",
       "        vertical-align: middle;\n",
       "    }\n",
       "\n",
       "    .dataframe tbody tr th {\n",
       "        vertical-align: top;\n",
       "    }\n",
       "\n",
       "    .dataframe thead th {\n",
       "        text-align: right;\n",
       "    }\n",
       "</style>\n",
       "<table border=\"1\" class=\"dataframe\">\n",
       "  <thead>\n",
       "    <tr style=\"text-align: right;\">\n",
       "      <th></th>\n",
       "      <th>month</th>\n",
       "      <th>start_station_name</th>\n",
       "      <th>bike_id</th>\n",
       "    </tr>\n",
       "  </thead>\n",
       "  <tbody>\n",
       "    <tr>\n",
       "      <th>0</th>\n",
       "      <td>2019-03</td>\n",
       "      <td>Market St at 10th St</td>\n",
       "      <td>4969</td>\n",
       "    </tr>\n",
       "    <tr>\n",
       "      <th>1</th>\n",
       "      <td>2019-04</td>\n",
       "      <td>San Francisco Caltrain Station 2  (Townsend St...</td>\n",
       "      <td>4659</td>\n",
       "    </tr>\n",
       "    <tr>\n",
       "      <th>2</th>\n",
       "      <td>2019-03</td>\n",
       "      <td>San Francisco Caltrain Station 2  (Townsend St...</td>\n",
       "      <td>4582</td>\n",
       "    </tr>\n",
       "    <tr>\n",
       "      <th>3</th>\n",
       "      <td>2019-06</td>\n",
       "      <td>San Francisco Caltrain Station 2  (Townsend St...</td>\n",
       "      <td>4474</td>\n",
       "    </tr>\n",
       "    <tr>\n",
       "      <th>4</th>\n",
       "      <td>2019-04</td>\n",
       "      <td>Market St at 10th St</td>\n",
       "      <td>4285</td>\n",
       "    </tr>\n",
       "  </tbody>\n",
       "</table>\n",
       "</div>"
      ],
      "text/plain": [
       "    month                                 start_station_name  bike_id\n",
       "0 2019-03                               Market St at 10th St     4969\n",
       "1 2019-04  San Francisco Caltrain Station 2  (Townsend St...     4659\n",
       "2 2019-03  San Francisco Caltrain Station 2  (Townsend St...     4582\n",
       "3 2019-06  San Francisco Caltrain Station 2  (Townsend St...     4474\n",
       "4 2019-04                               Market St at 10th St     4285"
      ]
     },
     "execution_count": 61,
     "metadata": {},
     "output_type": "execute_result"
    }
   ],
   "source": [
    "# sort the data in the descending order of number of bike rides per station\n",
    "station_details = station_details.sort_values('bike_id', ascending=False).reset_index(drop=True)\n",
    "station_details.head()"
   ]
  },
  {
   "cell_type": "code",
   "execution_count": 62,
   "metadata": {},
   "outputs": [
    {
     "data": {
      "text/html": [
       "<div>\n",
       "<style scoped>\n",
       "    .dataframe tbody tr th:only-of-type {\n",
       "        vertical-align: middle;\n",
       "    }\n",
       "\n",
       "    .dataframe tbody tr th {\n",
       "        vertical-align: top;\n",
       "    }\n",
       "\n",
       "    .dataframe thead th {\n",
       "        text-align: right;\n",
       "    }\n",
       "</style>\n",
       "<table border=\"1\" class=\"dataframe\">\n",
       "  <thead>\n",
       "    <tr style=\"text-align: right;\">\n",
       "      <th></th>\n",
       "      <th>month</th>\n",
       "      <th>start_station_name</th>\n",
       "      <th>bike_id</th>\n",
       "    </tr>\n",
       "  </thead>\n",
       "  <tbody>\n",
       "    <tr>\n",
       "      <th>0</th>\n",
       "      <td>2019-03</td>\n",
       "      <td>Market St at 10th St</td>\n",
       "      <td>4969</td>\n",
       "    </tr>\n",
       "    <tr>\n",
       "      <th>1</th>\n",
       "      <td>2019-04</td>\n",
       "      <td>San Francisco Caltrain Station 2  (Townsend St...</td>\n",
       "      <td>4659</td>\n",
       "    </tr>\n",
       "    <tr>\n",
       "      <th>2</th>\n",
       "      <td>2019-03</td>\n",
       "      <td>San Francisco Caltrain Station 2  (Townsend St...</td>\n",
       "      <td>4582</td>\n",
       "    </tr>\n",
       "    <tr>\n",
       "      <th>3</th>\n",
       "      <td>2019-06</td>\n",
       "      <td>San Francisco Caltrain Station 2  (Townsend St...</td>\n",
       "      <td>4474</td>\n",
       "    </tr>\n",
       "    <tr>\n",
       "      <th>4</th>\n",
       "      <td>2019-04</td>\n",
       "      <td>Market St at 10th St</td>\n",
       "      <td>4285</td>\n",
       "    </tr>\n",
       "    <tr>\n",
       "      <th>5</th>\n",
       "      <td>2019-03</td>\n",
       "      <td>San Francisco Ferry Building (Harry Bridges Pl...</td>\n",
       "      <td>3929</td>\n",
       "    </tr>\n",
       "    <tr>\n",
       "      <th>6</th>\n",
       "      <td>2019-04</td>\n",
       "      <td>San Francisco Ferry Building (Harry Bridges Pl...</td>\n",
       "      <td>3900</td>\n",
       "    </tr>\n",
       "    <tr>\n",
       "      <th>7</th>\n",
       "      <td>2019-05</td>\n",
       "      <td>San Francisco Caltrain Station 2  (Townsend St...</td>\n",
       "      <td>3896</td>\n",
       "    </tr>\n",
       "    <tr>\n",
       "      <th>8</th>\n",
       "      <td>2019-03</td>\n",
       "      <td>Powell St BART Station (Market St at 4th St)</td>\n",
       "      <td>3689</td>\n",
       "    </tr>\n",
       "    <tr>\n",
       "      <th>9</th>\n",
       "      <td>2019-01</td>\n",
       "      <td>Market St at 10th St</td>\n",
       "      <td>3657</td>\n",
       "    </tr>\n",
       "    <tr>\n",
       "      <th>10</th>\n",
       "      <td>2019-03</td>\n",
       "      <td>Berry St at 4th St</td>\n",
       "      <td>3650</td>\n",
       "    </tr>\n",
       "    <tr>\n",
       "      <th>11</th>\n",
       "      <td>2019-02</td>\n",
       "      <td>Market St at 10th St</td>\n",
       "      <td>3644</td>\n",
       "    </tr>\n",
       "    <tr>\n",
       "      <th>12</th>\n",
       "      <td>2019-01</td>\n",
       "      <td>San Francisco Caltrain Station 2  (Townsend St...</td>\n",
       "      <td>3629</td>\n",
       "    </tr>\n",
       "    <tr>\n",
       "      <th>13</th>\n",
       "      <td>2019-03</td>\n",
       "      <td>Montgomery St BART Station (Market St at 2nd St)</td>\n",
       "      <td>3601</td>\n",
       "    </tr>\n",
       "    <tr>\n",
       "      <th>14</th>\n",
       "      <td>2019-04</td>\n",
       "      <td>Berry St at 4th St</td>\n",
       "      <td>3596</td>\n",
       "    </tr>\n",
       "    <tr>\n",
       "      <th>15</th>\n",
       "      <td>2019-02</td>\n",
       "      <td>San Francisco Caltrain Station 2  (Townsend St...</td>\n",
       "      <td>3385</td>\n",
       "    </tr>\n",
       "    <tr>\n",
       "      <th>16</th>\n",
       "      <td>2019-04</td>\n",
       "      <td>Montgomery St BART Station (Market St at 2nd St)</td>\n",
       "      <td>3342</td>\n",
       "    </tr>\n",
       "    <tr>\n",
       "      <th>17</th>\n",
       "      <td>2019-06</td>\n",
       "      <td>Market St at 10th St</td>\n",
       "      <td>3251</td>\n",
       "    </tr>\n",
       "    <tr>\n",
       "      <th>18</th>\n",
       "      <td>2019-06</td>\n",
       "      <td>Berry St at 4th St</td>\n",
       "      <td>3238</td>\n",
       "    </tr>\n",
       "    <tr>\n",
       "      <th>19</th>\n",
       "      <td>2019-03</td>\n",
       "      <td>Powell St BART Station (Market St at 5th St)</td>\n",
       "      <td>3231</td>\n",
       "    </tr>\n",
       "    <tr>\n",
       "      <th>20</th>\n",
       "      <td>2019-04</td>\n",
       "      <td>Powell St BART Station (Market St at 4th St)</td>\n",
       "      <td>3223</td>\n",
       "    </tr>\n",
       "    <tr>\n",
       "      <th>21</th>\n",
       "      <td>2019-04</td>\n",
       "      <td>San Francisco Caltrain (Townsend St at 4th St)</td>\n",
       "      <td>3195</td>\n",
       "    </tr>\n",
       "    <tr>\n",
       "      <th>22</th>\n",
       "      <td>2019-04</td>\n",
       "      <td>Powell St BART Station (Market St at 5th St)</td>\n",
       "      <td>3172</td>\n",
       "    </tr>\n",
       "    <tr>\n",
       "      <th>23</th>\n",
       "      <td>2019-03</td>\n",
       "      <td>Steuart St at Market St</td>\n",
       "      <td>3125</td>\n",
       "    </tr>\n",
       "    <tr>\n",
       "      <th>24</th>\n",
       "      <td>2019-03</td>\n",
       "      <td>San Francisco Caltrain (Townsend St at 4th St)</td>\n",
       "      <td>3061</td>\n",
       "    </tr>\n",
       "    <tr>\n",
       "      <th>25</th>\n",
       "      <td>2019-04</td>\n",
       "      <td>Steuart St at Market St</td>\n",
       "      <td>3011</td>\n",
       "    </tr>\n",
       "    <tr>\n",
       "      <th>26</th>\n",
       "      <td>2019-05</td>\n",
       "      <td>Market St at 10th St</td>\n",
       "      <td>3009</td>\n",
       "    </tr>\n",
       "    <tr>\n",
       "      <th>27</th>\n",
       "      <td>2019-01</td>\n",
       "      <td>Berry St at 4th St</td>\n",
       "      <td>3003</td>\n",
       "    </tr>\n",
       "    <tr>\n",
       "      <th>28</th>\n",
       "      <td>2019-03</td>\n",
       "      <td>The Embarcadero at Sansome St</td>\n",
       "      <td>2998</td>\n",
       "    </tr>\n",
       "    <tr>\n",
       "      <th>29</th>\n",
       "      <td>2019-01</td>\n",
       "      <td>Montgomery St BART Station (Market St at 2nd St)</td>\n",
       "      <td>2995</td>\n",
       "    </tr>\n",
       "    <tr>\n",
       "      <th>...</th>\n",
       "      <td>...</td>\n",
       "      <td>...</td>\n",
       "      <td>...</td>\n",
       "    </tr>\n",
       "    <tr>\n",
       "      <th>2064</th>\n",
       "      <td>2019-01</td>\n",
       "      <td>Woolsey St at Sacramento St1</td>\n",
       "      <td>7</td>\n",
       "    </tr>\n",
       "    <tr>\n",
       "      <th>2065</th>\n",
       "      <td>2019-06</td>\n",
       "      <td>21st Ave at International Blvd</td>\n",
       "      <td>7</td>\n",
       "    </tr>\n",
       "    <tr>\n",
       "      <th>2066</th>\n",
       "      <td>2019-02</td>\n",
       "      <td>Parker Ave at McAllister St</td>\n",
       "      <td>7</td>\n",
       "    </tr>\n",
       "    <tr>\n",
       "      <th>2067</th>\n",
       "      <td>2019-03</td>\n",
       "      <td>Bird Ave at Coe Ave</td>\n",
       "      <td>6</td>\n",
       "    </tr>\n",
       "    <tr>\n",
       "      <th>2068</th>\n",
       "      <td>2019-06</td>\n",
       "      <td>Palm St at Willow St</td>\n",
       "      <td>6</td>\n",
       "    </tr>\n",
       "    <tr>\n",
       "      <th>2069</th>\n",
       "      <td>2019-05</td>\n",
       "      <td>23rd St at Taylor St</td>\n",
       "      <td>6</td>\n",
       "    </tr>\n",
       "    <tr>\n",
       "      <th>2070</th>\n",
       "      <td>2019-01</td>\n",
       "      <td>Alamo Square (Steiner St at Fulton St)</td>\n",
       "      <td>6</td>\n",
       "    </tr>\n",
       "    <tr>\n",
       "      <th>2071</th>\n",
       "      <td>2019-06</td>\n",
       "      <td>16th St Depot</td>\n",
       "      <td>6</td>\n",
       "    </tr>\n",
       "    <tr>\n",
       "      <th>2072</th>\n",
       "      <td>2019-06</td>\n",
       "      <td>21st St at Santa Clara St</td>\n",
       "      <td>5</td>\n",
       "    </tr>\n",
       "    <tr>\n",
       "      <th>2073</th>\n",
       "      <td>2019-04</td>\n",
       "      <td>Delmas Ave at Virginia St</td>\n",
       "      <td>5</td>\n",
       "    </tr>\n",
       "    <tr>\n",
       "      <th>2074</th>\n",
       "      <td>2019-03</td>\n",
       "      <td>Willow St at Vine St</td>\n",
       "      <td>5</td>\n",
       "    </tr>\n",
       "    <tr>\n",
       "      <th>2075</th>\n",
       "      <td>2019-03</td>\n",
       "      <td>10th St at Mission St</td>\n",
       "      <td>5</td>\n",
       "    </tr>\n",
       "    <tr>\n",
       "      <th>2076</th>\n",
       "      <td>2019-03</td>\n",
       "      <td>21st Ave at International Blvd</td>\n",
       "      <td>5</td>\n",
       "    </tr>\n",
       "    <tr>\n",
       "      <th>2077</th>\n",
       "      <td>2019-02</td>\n",
       "      <td>21st Ave at International Blvd</td>\n",
       "      <td>4</td>\n",
       "    </tr>\n",
       "    <tr>\n",
       "      <th>2078</th>\n",
       "      <td>2019-02</td>\n",
       "      <td>Palm St at Willow St</td>\n",
       "      <td>3</td>\n",
       "    </tr>\n",
       "    <tr>\n",
       "      <th>2079</th>\n",
       "      <td>2019-03</td>\n",
       "      <td>1st St at Younger Ave</td>\n",
       "      <td>3</td>\n",
       "    </tr>\n",
       "    <tr>\n",
       "      <th>2080</th>\n",
       "      <td>2019-03</td>\n",
       "      <td>16th St Depot</td>\n",
       "      <td>3</td>\n",
       "    </tr>\n",
       "    <tr>\n",
       "      <th>2081</th>\n",
       "      <td>2019-03</td>\n",
       "      <td>Sonora Ave at 1st St</td>\n",
       "      <td>3</td>\n",
       "    </tr>\n",
       "    <tr>\n",
       "      <th>2082</th>\n",
       "      <td>2019-05</td>\n",
       "      <td>Auzerais Ave at Lincoln Ave</td>\n",
       "      <td>3</td>\n",
       "    </tr>\n",
       "    <tr>\n",
       "      <th>2083</th>\n",
       "      <td>2019-06</td>\n",
       "      <td>3rd St at Keyes St</td>\n",
       "      <td>2</td>\n",
       "    </tr>\n",
       "    <tr>\n",
       "      <th>2084</th>\n",
       "      <td>2019-02</td>\n",
       "      <td>16th St Depot</td>\n",
       "      <td>2</td>\n",
       "    </tr>\n",
       "    <tr>\n",
       "      <th>2085</th>\n",
       "      <td>2019-03</td>\n",
       "      <td>Raymond Bernal Jr Memorial Park (8th St at Hed...</td>\n",
       "      <td>2</td>\n",
       "    </tr>\n",
       "    <tr>\n",
       "      <th>2086</th>\n",
       "      <td>2019-03</td>\n",
       "      <td>Palm St at Willow St</td>\n",
       "      <td>2</td>\n",
       "    </tr>\n",
       "    <tr>\n",
       "      <th>2087</th>\n",
       "      <td>2019-03</td>\n",
       "      <td>Kerley Dr at Rosemary St</td>\n",
       "      <td>2</td>\n",
       "    </tr>\n",
       "    <tr>\n",
       "      <th>2088</th>\n",
       "      <td>2019-01</td>\n",
       "      <td>Palm St at Willow St</td>\n",
       "      <td>2</td>\n",
       "    </tr>\n",
       "    <tr>\n",
       "      <th>2089</th>\n",
       "      <td>2019-05</td>\n",
       "      <td>21st St at Santa Clara St</td>\n",
       "      <td>2</td>\n",
       "    </tr>\n",
       "    <tr>\n",
       "      <th>2090</th>\n",
       "      <td>2019-03</td>\n",
       "      <td>Asbury St at The Alameda</td>\n",
       "      <td>2</td>\n",
       "    </tr>\n",
       "    <tr>\n",
       "      <th>2091</th>\n",
       "      <td>2019-04</td>\n",
       "      <td>SF Test Station</td>\n",
       "      <td>1</td>\n",
       "    </tr>\n",
       "    <tr>\n",
       "      <th>2092</th>\n",
       "      <td>2019-03</td>\n",
       "      <td>Metro Dr at Technology Dr</td>\n",
       "      <td>1</td>\n",
       "    </tr>\n",
       "    <tr>\n",
       "      <th>2093</th>\n",
       "      <td>2019-06</td>\n",
       "      <td>MTL-ECO5-01</td>\n",
       "      <td>1</td>\n",
       "    </tr>\n",
       "  </tbody>\n",
       "</table>\n",
       "<p>2094 rows × 3 columns</p>\n",
       "</div>"
      ],
      "text/plain": [
       "       month                                 start_station_name  bike_id\n",
       "0    2019-03                               Market St at 10th St     4969\n",
       "1    2019-04  San Francisco Caltrain Station 2  (Townsend St...     4659\n",
       "2    2019-03  San Francisco Caltrain Station 2  (Townsend St...     4582\n",
       "3    2019-06  San Francisco Caltrain Station 2  (Townsend St...     4474\n",
       "4    2019-04                               Market St at 10th St     4285\n",
       "5    2019-03  San Francisco Ferry Building (Harry Bridges Pl...     3929\n",
       "6    2019-04  San Francisco Ferry Building (Harry Bridges Pl...     3900\n",
       "7    2019-05  San Francisco Caltrain Station 2  (Townsend St...     3896\n",
       "8    2019-03       Powell St BART Station (Market St at 4th St)     3689\n",
       "9    2019-01                               Market St at 10th St     3657\n",
       "10   2019-03                                 Berry St at 4th St     3650\n",
       "11   2019-02                               Market St at 10th St     3644\n",
       "12   2019-01  San Francisco Caltrain Station 2  (Townsend St...     3629\n",
       "13   2019-03   Montgomery St BART Station (Market St at 2nd St)     3601\n",
       "14   2019-04                                 Berry St at 4th St     3596\n",
       "15   2019-02  San Francisco Caltrain Station 2  (Townsend St...     3385\n",
       "16   2019-04   Montgomery St BART Station (Market St at 2nd St)     3342\n",
       "17   2019-06                               Market St at 10th St     3251\n",
       "18   2019-06                                 Berry St at 4th St     3238\n",
       "19   2019-03       Powell St BART Station (Market St at 5th St)     3231\n",
       "20   2019-04       Powell St BART Station (Market St at 4th St)     3223\n",
       "21   2019-04     San Francisco Caltrain (Townsend St at 4th St)     3195\n",
       "22   2019-04       Powell St BART Station (Market St at 5th St)     3172\n",
       "23   2019-03                            Steuart St at Market St     3125\n",
       "24   2019-03     San Francisco Caltrain (Townsend St at 4th St)     3061\n",
       "25   2019-04                            Steuart St at Market St     3011\n",
       "26   2019-05                               Market St at 10th St     3009\n",
       "27   2019-01                                 Berry St at 4th St     3003\n",
       "28   2019-03                      The Embarcadero at Sansome St     2998\n",
       "29   2019-01   Montgomery St BART Station (Market St at 2nd St)     2995\n",
       "...      ...                                                ...      ...\n",
       "2064 2019-01                       Woolsey St at Sacramento St1        7\n",
       "2065 2019-06                     21st Ave at International Blvd        7\n",
       "2066 2019-02                        Parker Ave at McAllister St        7\n",
       "2067 2019-03                                Bird Ave at Coe Ave        6\n",
       "2068 2019-06                               Palm St at Willow St        6\n",
       "2069 2019-05                               23rd St at Taylor St        6\n",
       "2070 2019-01             Alamo Square (Steiner St at Fulton St)        6\n",
       "2071 2019-06                                      16th St Depot        6\n",
       "2072 2019-06                          21st St at Santa Clara St        5\n",
       "2073 2019-04                          Delmas Ave at Virginia St        5\n",
       "2074 2019-03                               Willow St at Vine St        5\n",
       "2075 2019-03                              10th St at Mission St        5\n",
       "2076 2019-03                     21st Ave at International Blvd        5\n",
       "2077 2019-02                     21st Ave at International Blvd        4\n",
       "2078 2019-02                               Palm St at Willow St        3\n",
       "2079 2019-03                              1st St at Younger Ave        3\n",
       "2080 2019-03                                      16th St Depot        3\n",
       "2081 2019-03                               Sonora Ave at 1st St        3\n",
       "2082 2019-05                        Auzerais Ave at Lincoln Ave        3\n",
       "2083 2019-06                                 3rd St at Keyes St        2\n",
       "2084 2019-02                                      16th St Depot        2\n",
       "2085 2019-03  Raymond Bernal Jr Memorial Park (8th St at Hed...        2\n",
       "2086 2019-03                               Palm St at Willow St        2\n",
       "2087 2019-03                           Kerley Dr at Rosemary St        2\n",
       "2088 2019-01                               Palm St at Willow St        2\n",
       "2089 2019-05                          21st St at Santa Clara St        2\n",
       "2090 2019-03                           Asbury St at The Alameda        2\n",
       "2091 2019-04                                    SF Test Station        1\n",
       "2092 2019-03                          Metro Dr at Technology Dr        1\n",
       "2093 2019-06                                        MTL-ECO5-01        1\n",
       "\n",
       "[2094 rows x 3 columns]"
      ]
     },
     "execution_count": 62,
     "metadata": {},
     "output_type": "execute_result"
    }
   ],
   "source": [
    "# retrieve the top 6 stations of every month \n",
    "top_stations =station_details.groupby('month').head(6)\n",
    "station_details"
   ]
  },
  {
   "cell_type": "code",
   "execution_count": 63,
   "metadata": {
    "scrolled": true
   },
   "outputs": [
    {
     "data": {
      "image/png": "[encoded data removed]",
      "text/plain": [
       "<Figure size 864x576 with 1 Axes>"
      ]
     },
     "metadata": {},
     "output_type": "display_data"
    }
   ],
   "source": [
    "plt.figure(figsize=(12,8))\n",
    "ax = sb.barplot(x='month',y='bike_id',data=top_stations, hue='start_station_name')\n",
    "\n",
    "plt.title(\"The footfall in the top 6 station every month\", fontsize=18, fontweight='bold', y=1.02)\n",
    "plt.xlabel('Month of the year', fontweight='bold', fontsize=14)\n",
    "plt.ylabel('Number of rides started from the station', fontweight='bold', fontsize=14)\n",
    "\n",
    "handles, labels = ax.get_legend_handles_labels()\n",
    "lgd = ax.legend(handles, labels, loc='upper center', bbox_to_anchor=(1.15,1));"
   ]
  },
  {
   "cell_type": "code",
   "execution_count": 64,
   "metadata": {},
   "outputs": [],
   "source": [
    "# get only the month number\n",
    "master_cleaned['only_month'] = master_cleaned.start_time.dt.month"
   ]
  },
  {
   "cell_type": "code",
   "execution_count": 65,
   "metadata": {
    "scrolled": false
   },
   "outputs": [
    {
     "data": {
      "image/png": "[encoded data removed]",
      "text/plain": [
       "<Figure size 666.375x576 with 1 Axes>"
      ]
     },
     "metadata": {},
     "output_type": "display_data"
    }
   ],
   "source": [
    "# Finding out how the average trip time is affected by gender and month.\n",
    "g = sb.FacetGrid(data=master_cleaned, hue = 'member_gender', height = 8)\n",
    "g.map(plt.scatter, 'only_month','duration_min', alpha = 1/3)\n",
    "g.add_legend()\n",
    "plt.title('Trip Duration(min) Against Month and Gender', fontsize=16, fontweight='bold', y=1.02)\n",
    "plt.xlabel('Month of 2019')\n",
    "plt.xticks([1,2,3,4,5,6],['Jan','Feb','Mar','Apr','May','Jun'])\n",
    "plt.ylabel('Trip Duration(min)');"
   ]
  },
  {
   "cell_type": "markdown",
   "metadata": {},
   "source": [
    "I think there are equal number of people with the short duration. Thats why the color being green( mix of all 3 colors). We can see that most of the longer trips are made by Males. This can be realised by the greater number of blues in the upper region."
   ]
  },
  {
   "cell_type": "markdown",
   "metadata": {},
   "source": [
    "### Talk about some of the relationships you observed in this part of the investigation. Were there features that strengthened each other in terms of looking at your feature(s) of interest?\n",
    "1. With the catplot of the subscribers and customer, we can be sure that the customer make use of the bikes for a longer duration. this is mainly when the user during weekends goes for trips or exercise as well. \n",
    "2. The scatter plot shows that the Males have larger trip duration meaning better stamina. The females might not want to peddle longer distances.\n",
    "3. San Francisco Caltrain station 2 seems to be a busy station for Lyft. There are good number of users hopping on at this staion. The company hence need to stay on its  toes for better service and more bikes here.\n",
    "\n",
    "### Were there any interesting or surprising interactions between features?\n",
    "\n",
    "1. Every month the top 5 stations are almost the same staions that come up. This could be because of the commertial status of the stations. \n",
    "2. Subscribers use only for their daily work routines and hence their distance travelled is relatively less. The customers on the other hand, use the service to roam around for maybe a trip, shopping, movies whoch might be at a farther distance. Hence there is larger distance travelled by them."
   ]
  },
  {
   "cell_type": "markdown",
   "metadata": {},
   "source": [
    "                                                                      - Gautam Gadiyar"
   ]
  }
 ],
 "metadata": {
  "kernelspec": {
   "display_name": "Python 3",
   "language": "python",
   "name": "python3"
  },
  "language_info": {
   "codemirror_mode": {
    "name": "ipython",
    "version": 3
   },
   "file_extension": ".py",
   "mimetype": "text/x-python",
   "name": "python",
   "nbconvert_exporter": "python",
   "pygments_lexer": "ipython3",
   "version": "3.7.1"
  }
 },
 "nbformat": 4,
 "nbformat_minor": 2
}
