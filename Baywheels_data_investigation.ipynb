{
 "cells": [
  {
   "cell_type": "markdown",
   "metadata": {},
   "source": [
    "# Lyft - Baywheels Data Exploration\n",
    "## by Gautam Gadiyar\n",
    "\n",
    "## Introduction\n",
    "> The Lyft - Baywheels is a Bike sharing company that rents out bikes to customers who may hire a bike from any nearest point. It was a partnership program with Metropolitan Transportation Commission in order to motiate people to use envireonnment friendly means of transport. Beginning operation in August 2013 as Bay Area Bike Share, the Bay Wheels system currently has over 2,600 bicycles in 262 stations across San Francisco, East Bay and San Jose. On June 28, 2017, the system was re-launched as Ford GoBike in a partnership with Ford Motor Company.<br>\n",
    "After Motivate's acquisition by Lyft, the system was subsequently renamed to Bay Wheels in June 2019.The system provides bikes 24/7 to customers at nominal costs. The customers have access to all the bikes once they are a member or have a pass for themselves.\n",
    "\n",
    "## Preliminary Wrangling"
   ]
  },
  {
   "cell_type": "markdown",
   "metadata": {},
   "source": [
    "Firstly, the data that has been obtained from the Lyft site has to be checked for any anomalies. The data has to be cleaned and then we can start with the visualizations."
   ]
  },
  {
   "cell_type": "code",
   "execution_count": 1,
   "metadata": {},
   "outputs": [],
   "source": [
    "# import all packages and set plots to be embedded inline\n",
    "import numpy as np\n",
    "import pandas as pd\n",
    "import matplotlib.pyplot as plt\n",
    "import seaborn as sb\n",
    "import datetime\n",
    "import glob\n",
    "from math import radians, sin, cos, acos, atan2, sqrt\n",
    "\n",
    "%matplotlib inline"
   ]
  },
  {
   "cell_type": "markdown",
   "metadata": {},
   "source": [
    "> Load in your dataset and describe its properties through the questions below.\n",
    "Try and motivate your exploration goals through this section."
   ]
  },
  {
   "cell_type": "code",
   "execution_count": 2,
   "metadata": {
    "scrolled": true
   },
   "outputs": [],
   "source": [
    "path = './Datasets'\n",
    "all_files = glob.glob(path + \"/*.csv\")\n",
    "\n",
    "files_list = []\n",
    "for each_file in all_files:\n",
    "    df = pd.read_csv(each_file, index_col=None, header=0, low_memory=0)\n",
    "    files_list.append(df)\n",
    "\n",
    "master_df = pd.concat(files_list, axis=0, ignore_index=True, sort=False)"
   ]
  },
  {
   "cell_type": "code",
   "execution_count": 3,
   "metadata": {},
   "outputs": [],
   "source": [
    "master_df.to_csv('baywheels_master.csv')"
   ]
  },
  {
   "cell_type": "code",
   "execution_count": 2,
   "metadata": {
    "scrolled": true
   },
   "outputs": [
    {
     "data": {
      "text/html": [
       "<div>\n",
       "<style scoped>\n",
       "    .dataframe tbody tr th:only-of-type {\n",
       "        vertical-align: middle;\n",
       "    }\n",
       "\n",
       "    .dataframe tbody tr th {\n",
       "        vertical-align: top;\n",
       "    }\n",
       "\n",
       "    .dataframe thead th {\n",
       "        text-align: right;\n",
       "    }\n",
       "</style>\n",
       "<table border=\"1\" class=\"dataframe\">\n",
       "  <thead>\n",
       "    <tr style=\"text-align: right;\">\n",
       "      <th></th>\n",
       "      <th>duration_sec</th>\n",
       "      <th>start_time</th>\n",
       "      <th>end_time</th>\n",
       "      <th>start_station_id</th>\n",
       "      <th>start_station_name</th>\n",
       "      <th>start_station_latitude</th>\n",
       "      <th>start_station_longitude</th>\n",
       "      <th>end_station_id</th>\n",
       "      <th>end_station_name</th>\n",
       "      <th>end_station_latitude</th>\n",
       "      <th>end_station_longitude</th>\n",
       "      <th>bike_id</th>\n",
       "      <th>user_type</th>\n",
       "      <th>member_birth_year</th>\n",
       "      <th>member_gender</th>\n",
       "      <th>bike_share_for_all_trip</th>\n",
       "      <th>rental_access_method</th>\n",
       "    </tr>\n",
       "  </thead>\n",
       "  <tbody>\n",
       "    <tr>\n",
       "      <th>0</th>\n",
       "      <td>81695</td>\n",
       "      <td>2019-06-30 18:16:09.7730</td>\n",
       "      <td>2019-07-01 16:57:45.5920</td>\n",
       "      <td>109.0</td>\n",
       "      <td>17th St at Valencia St</td>\n",
       "      <td>37.763316</td>\n",
       "      <td>-122.421904</td>\n",
       "      <td>56.0</td>\n",
       "      <td>Koshland Park</td>\n",
       "      <td>37.773414</td>\n",
       "      <td>-122.427317</td>\n",
       "      <td>1502</td>\n",
       "      <td>Subscriber</td>\n",
       "      <td>1957.0</td>\n",
       "      <td>Male</td>\n",
       "      <td>No</td>\n",
       "      <td>NaN</td>\n",
       "    </tr>\n",
       "    <tr>\n",
       "      <th>1</th>\n",
       "      <td>74260</td>\n",
       "      <td>2019-06-30 18:09:55.8300</td>\n",
       "      <td>2019-07-01 14:47:36.6810</td>\n",
       "      <td>50.0</td>\n",
       "      <td>2nd St at Townsend St</td>\n",
       "      <td>37.780526</td>\n",
       "      <td>-122.390288</td>\n",
       "      <td>101.0</td>\n",
       "      <td>15th St at Potrero Ave</td>\n",
       "      <td>37.767079</td>\n",
       "      <td>-122.407359</td>\n",
       "      <td>2526</td>\n",
       "      <td>Customer</td>\n",
       "      <td>NaN</td>\n",
       "      <td>NaN</td>\n",
       "      <td>No</td>\n",
       "      <td>NaN</td>\n",
       "    </tr>\n",
       "    <tr>\n",
       "      <th>2</th>\n",
       "      <td>59603</td>\n",
       "      <td>2019-06-30 15:40:31.0380</td>\n",
       "      <td>2019-07-01 08:13:54.3490</td>\n",
       "      <td>23.0</td>\n",
       "      <td>The Embarcadero at Steuart St</td>\n",
       "      <td>37.791464</td>\n",
       "      <td>-122.391034</td>\n",
       "      <td>30.0</td>\n",
       "      <td>San Francisco Caltrain (Townsend St at 4th St)</td>\n",
       "      <td>37.776598</td>\n",
       "      <td>-122.395282</td>\n",
       "      <td>2427</td>\n",
       "      <td>Subscriber</td>\n",
       "      <td>1985.0</td>\n",
       "      <td>Male</td>\n",
       "      <td>No</td>\n",
       "      <td>NaN</td>\n",
       "    </tr>\n",
       "    <tr>\n",
       "      <th>3</th>\n",
       "      <td>67932</td>\n",
       "      <td>2019-06-30 12:49:47.7810</td>\n",
       "      <td>2019-07-01 07:42:00.5430</td>\n",
       "      <td>169.0</td>\n",
       "      <td>Bushrod Park</td>\n",
       "      <td>37.846516</td>\n",
       "      <td>-122.265304</td>\n",
       "      <td>248.0</td>\n",
       "      <td>Telegraph Ave at Ashby Ave</td>\n",
       "      <td>37.855956</td>\n",
       "      <td>-122.259795</td>\n",
       "      <td>1261</td>\n",
       "      <td>Customer</td>\n",
       "      <td>NaN</td>\n",
       "      <td>NaN</td>\n",
       "      <td>No</td>\n",
       "      <td>NaN</td>\n",
       "    </tr>\n",
       "    <tr>\n",
       "      <th>4</th>\n",
       "      <td>48894</td>\n",
       "      <td>2019-06-30 17:21:00.0550</td>\n",
       "      <td>2019-07-01 06:55:54.9960</td>\n",
       "      <td>15.0</td>\n",
       "      <td>San Francisco Ferry Building (Harry Bridges Pl...</td>\n",
       "      <td>37.795392</td>\n",
       "      <td>-122.394203</td>\n",
       "      <td>30.0</td>\n",
       "      <td>San Francisco Caltrain (Townsend St at 4th St)</td>\n",
       "      <td>37.776598</td>\n",
       "      <td>-122.395282</td>\n",
       "      <td>1070</td>\n",
       "      <td>Customer</td>\n",
       "      <td>NaN</td>\n",
       "      <td>NaN</td>\n",
       "      <td>No</td>\n",
       "      <td>NaN</td>\n",
       "    </tr>\n",
       "  </tbody>\n",
       "</table>\n",
       "</div>"
      ],
      "text/plain": [
       "   duration_sec                start_time                  end_time  \\\n",
       "0         81695  2019-06-30 18:16:09.7730  2019-07-01 16:57:45.5920   \n",
       "1         74260  2019-06-30 18:09:55.8300  2019-07-01 14:47:36.6810   \n",
       "2         59603  2019-06-30 15:40:31.0380  2019-07-01 08:13:54.3490   \n",
       "3         67932  2019-06-30 12:49:47.7810  2019-07-01 07:42:00.5430   \n",
       "4         48894  2019-06-30 17:21:00.0550  2019-07-01 06:55:54.9960   \n",
       "\n",
       "   start_station_id                                 start_station_name  \\\n",
       "0             109.0                             17th St at Valencia St   \n",
       "1              50.0                              2nd St at Townsend St   \n",
       "2              23.0                      The Embarcadero at Steuart St   \n",
       "3             169.0                                       Bushrod Park   \n",
       "4              15.0  San Francisco Ferry Building (Harry Bridges Pl...   \n",
       "\n",
       "   start_station_latitude  start_station_longitude  end_station_id  \\\n",
       "0               37.763316              -122.421904            56.0   \n",
       "1               37.780526              -122.390288           101.0   \n",
       "2               37.791464              -122.391034            30.0   \n",
       "3               37.846516              -122.265304           248.0   \n",
       "4               37.795392              -122.394203            30.0   \n",
       "\n",
       "                                 end_station_name  end_station_latitude  \\\n",
       "0                                   Koshland Park             37.773414   \n",
       "1                          15th St at Potrero Ave             37.767079   \n",
       "2  San Francisco Caltrain (Townsend St at 4th St)             37.776598   \n",
       "3                      Telegraph Ave at Ashby Ave             37.855956   \n",
       "4  San Francisco Caltrain (Townsend St at 4th St)             37.776598   \n",
       "\n",
       "   end_station_longitude  bike_id   user_type  member_birth_year  \\\n",
       "0            -122.427317     1502  Subscriber             1957.0   \n",
       "1            -122.407359     2526    Customer                NaN   \n",
       "2            -122.395282     2427  Subscriber             1985.0   \n",
       "3            -122.259795     1261    Customer                NaN   \n",
       "4            -122.395282     1070    Customer                NaN   \n",
       "\n",
       "  member_gender bike_share_for_all_trip rental_access_method  \n",
       "0          Male                      No                  NaN  \n",
       "1           NaN                      No                  NaN  \n",
       "2          Male                      No                  NaN  \n",
       "3           NaN                      No                  NaN  \n",
       "4           NaN                      No                  NaN  "
      ]
     },
     "execution_count": 2,
     "metadata": {},
     "output_type": "execute_result"
    }
   ],
   "source": [
    "master_df = pd.read_csv(\"/home/gautam/Documents/Udacity/Communicate_Data_Findings/Datasets/201906-baywheels-tripdata.csv\", low_memory=False)\n",
    "master_df.head()"
   ]
  },
  {
   "cell_type": "code",
   "execution_count": 3,
   "metadata": {},
   "outputs": [
    {
     "data": {
      "text/plain": [
       "(191772, 17)"
      ]
     },
     "execution_count": 3,
     "metadata": {},
     "output_type": "execute_result"
    }
   ],
   "source": [
    "master_df.shape"
   ]
  },
  {
   "cell_type": "code",
   "execution_count": 4,
   "metadata": {
    "scrolled": false
   },
   "outputs": [
    {
     "name": "stdout",
     "output_type": "stream",
     "text": [
      "<class 'pandas.core.frame.DataFrame'>\n",
      "RangeIndex: 191772 entries, 0 to 191771\n",
      "Data columns (total 17 columns):\n",
      "duration_sec               191772 non-null int64\n",
      "start_time                 191772 non-null object\n",
      "end_time                   191772 non-null object\n",
      "start_station_id           189612 non-null float64\n",
      "start_station_name         189612 non-null object\n",
      "start_station_latitude     191772 non-null float64\n",
      "start_station_longitude    191772 non-null float64\n",
      "end_station_id             189510 non-null float64\n",
      "end_station_name           189510 non-null object\n",
      "end_station_latitude       191772 non-null float64\n",
      "end_station_longitude      191772 non-null float64\n",
      "bike_id                    191772 non-null int64\n",
      "user_type                  191772 non-null object\n",
      "member_birth_year          172635 non-null float64\n",
      "member_gender              172853 non-null object\n",
      "bike_share_for_all_trip    187879 non-null object\n",
      "rental_access_method       3893 non-null object\n",
      "dtypes: float64(7), int64(2), object(8)\n",
      "memory usage: 24.9+ MB\n"
     ]
    }
   ],
   "source": [
    "master_df.info()"
   ]
  },
  {
   "cell_type": "markdown",
   "metadata": {},
   "source": [
    "The start and end times are not in datetime format. This needs a change."
   ]
  },
  {
   "cell_type": "markdown",
   "metadata": {},
   "source": [
    "We can notice that there are a lot of missing values in 'rental_access_method'. So we can drop the column."
   ]
  },
  {
   "cell_type": "code",
   "execution_count": 5,
   "metadata": {
    "scrolled": true
   },
   "outputs": [
    {
     "data": {
      "text/html": [
       "<div>\n",
       "<style scoped>\n",
       "    .dataframe tbody tr th:only-of-type {\n",
       "        vertical-align: middle;\n",
       "    }\n",
       "\n",
       "    .dataframe tbody tr th {\n",
       "        vertical-align: top;\n",
       "    }\n",
       "\n",
       "    .dataframe thead th {\n",
       "        text-align: right;\n",
       "    }\n",
       "</style>\n",
       "<table border=\"1\" class=\"dataframe\">\n",
       "  <thead>\n",
       "    <tr style=\"text-align: right;\">\n",
       "      <th></th>\n",
       "      <th>duration_sec</th>\n",
       "      <th>start_station_id</th>\n",
       "      <th>start_station_latitude</th>\n",
       "      <th>start_station_longitude</th>\n",
       "      <th>end_station_id</th>\n",
       "      <th>end_station_latitude</th>\n",
       "      <th>end_station_longitude</th>\n",
       "      <th>bike_id</th>\n",
       "      <th>member_birth_year</th>\n",
       "    </tr>\n",
       "  </thead>\n",
       "  <tbody>\n",
       "    <tr>\n",
       "      <th>count</th>\n",
       "      <td>191772.000000</td>\n",
       "      <td>189612.000000</td>\n",
       "      <td>191772.000000</td>\n",
       "      <td>191772.000000</td>\n",
       "      <td>189510.000000</td>\n",
       "      <td>191772.000000</td>\n",
       "      <td>191772.000000</td>\n",
       "      <td>191772.000000</td>\n",
       "      <td>172635.000000</td>\n",
       "    </tr>\n",
       "    <tr>\n",
       "      <th>mean</th>\n",
       "      <td>841.814608</td>\n",
       "      <td>139.909505</td>\n",
       "      <td>37.762560</td>\n",
       "      <td>-122.348320</td>\n",
       "      <td>137.484645</td>\n",
       "      <td>37.762698</td>\n",
       "      <td>-122.347756</td>\n",
       "      <td>10641.887439</td>\n",
       "      <td>1984.842378</td>\n",
       "    </tr>\n",
       "    <tr>\n",
       "      <th>std</th>\n",
       "      <td>1936.720801</td>\n",
       "      <td>118.054453</td>\n",
       "      <td>0.112639</td>\n",
       "      <td>0.169730</td>\n",
       "      <td>117.447948</td>\n",
       "      <td>0.112538</td>\n",
       "      <td>0.169336</td>\n",
       "      <td>68253.875020</td>\n",
       "      <td>10.186821</td>\n",
       "    </tr>\n",
       "    <tr>\n",
       "      <th>min</th>\n",
       "      <td>60.000000</td>\n",
       "      <td>3.000000</td>\n",
       "      <td>37.290060</td>\n",
       "      <td>-122.453704</td>\n",
       "      <td>3.000000</td>\n",
       "      <td>37.255975</td>\n",
       "      <td>-122.453704</td>\n",
       "      <td>12.000000</td>\n",
       "      <td>1896.000000</td>\n",
       "    </tr>\n",
       "    <tr>\n",
       "      <th>25%</th>\n",
       "      <td>375.000000</td>\n",
       "      <td>44.000000</td>\n",
       "      <td>37.769305</td>\n",
       "      <td>-122.411738</td>\n",
       "      <td>43.000000</td>\n",
       "      <td>37.770030</td>\n",
       "      <td>-122.411306</td>\n",
       "      <td>1028.000000</td>\n",
       "      <td>1980.000000</td>\n",
       "    </tr>\n",
       "    <tr>\n",
       "      <th>50%</th>\n",
       "      <td>596.000000</td>\n",
       "      <td>98.000000</td>\n",
       "      <td>37.780526</td>\n",
       "      <td>-122.398113</td>\n",
       "      <td>96.000000</td>\n",
       "      <td>37.780526</td>\n",
       "      <td>-122.397086</td>\n",
       "      <td>1937.500000</td>\n",
       "      <td>1987.000000</td>\n",
       "    </tr>\n",
       "    <tr>\n",
       "      <th>75%</th>\n",
       "      <td>925.000000</td>\n",
       "      <td>226.000000</td>\n",
       "      <td>37.795392</td>\n",
       "      <td>-122.293400</td>\n",
       "      <td>220.000000</td>\n",
       "      <td>37.795392</td>\n",
       "      <td>-122.293528</td>\n",
       "      <td>2975.000000</td>\n",
       "      <td>1992.000000</td>\n",
       "    </tr>\n",
       "    <tr>\n",
       "      <th>max</th>\n",
       "      <td>85952.000000</td>\n",
       "      <td>443.000000</td>\n",
       "      <td>45.510000</td>\n",
       "      <td>-73.570000</td>\n",
       "      <td>443.000000</td>\n",
       "      <td>45.510000</td>\n",
       "      <td>-73.570000</td>\n",
       "      <td>985110.000000</td>\n",
       "      <td>2001.000000</td>\n",
       "    </tr>\n",
       "  </tbody>\n",
       "</table>\n",
       "</div>"
      ],
      "text/plain": [
       "        duration_sec  start_station_id  start_station_latitude  \\\n",
       "count  191772.000000     189612.000000           191772.000000   \n",
       "mean      841.814608        139.909505               37.762560   \n",
       "std      1936.720801        118.054453                0.112639   \n",
       "min        60.000000          3.000000               37.290060   \n",
       "25%       375.000000         44.000000               37.769305   \n",
       "50%       596.000000         98.000000               37.780526   \n",
       "75%       925.000000        226.000000               37.795392   \n",
       "max     85952.000000        443.000000               45.510000   \n",
       "\n",
       "       start_station_longitude  end_station_id  end_station_latitude  \\\n",
       "count            191772.000000   189510.000000         191772.000000   \n",
       "mean               -122.348320      137.484645             37.762698   \n",
       "std                   0.169730      117.447948              0.112538   \n",
       "min                -122.453704        3.000000             37.255975   \n",
       "25%                -122.411738       43.000000             37.770030   \n",
       "50%                -122.398113       96.000000             37.780526   \n",
       "75%                -122.293400      220.000000             37.795392   \n",
       "max                 -73.570000      443.000000             45.510000   \n",
       "\n",
       "       end_station_longitude        bike_id  member_birth_year  \n",
       "count          191772.000000  191772.000000      172635.000000  \n",
       "mean             -122.347756   10641.887439        1984.842378  \n",
       "std                 0.169336   68253.875020          10.186821  \n",
       "min              -122.453704      12.000000        1896.000000  \n",
       "25%              -122.411306    1028.000000        1980.000000  \n",
       "50%              -122.397086    1937.500000        1987.000000  \n",
       "75%              -122.293528    2975.000000        1992.000000  \n",
       "max               -73.570000  985110.000000        2001.000000  "
      ]
     },
     "execution_count": 5,
     "metadata": {},
     "output_type": "execute_result"
    }
   ],
   "source": [
    "master_df.describe()"
   ]
  },
  {
   "cell_type": "markdown",
   "metadata": {},
   "source": [
    "The birth year of some users seem to be wrong. For example, 1896 might be a wrong birth year. The user can't be more than a 100 years of age!"
   ]
  },
  {
   "cell_type": "code",
   "execution_count": 6,
   "metadata": {},
   "outputs": [],
   "source": [
    "rental_access = master_df[master_df.rental_access_method.notnull()].rental_access_method.value_counts()"
   ]
  },
  {
   "cell_type": "code",
   "execution_count": 7,
   "metadata": {
    "scrolled": true
   },
   "outputs": [
    {
     "data": {
      "image/png": "[encoded data removed]",
      "text/plain": [
       "<Figure size 432x288 with 1 Axes>"
      ]
     },
     "metadata": {
      "needs_background": "light"
     },
     "output_type": "display_data"
    }
   ],
   "source": [
    "sb.barplot(rental_access.index, rental_access);"
   ]
  },
  {
   "cell_type": "markdown",
   "metadata": {},
   "source": [
    "Of the 3893 records that we have for rental_access_method, it seems most of the bookings came via the app. But since the number is less compared to the total records that we have, it might not be the right result."
   ]
  },
  {
   "cell_type": "code",
   "execution_count": 8,
   "metadata": {
    "scrolled": true
   },
   "outputs": [
    {
     "data": {
      "text/plain": [
       "duration_sec                    0\n",
       "start_time                      0\n",
       "end_time                        0\n",
       "start_station_id             2160\n",
       "start_station_name           2160\n",
       "start_station_latitude          0\n",
       "start_station_longitude         0\n",
       "end_station_id               2262\n",
       "end_station_name             2262\n",
       "end_station_latitude            0\n",
       "end_station_longitude           0\n",
       "bike_id                         0\n",
       "user_type                       0\n",
       "member_birth_year           19137\n",
       "member_gender               18919\n",
       "bike_share_for_all_trip      3893\n",
       "rental_access_method       187879\n",
       "dtype: int64"
      ]
     },
     "execution_count": 8,
     "metadata": {},
     "output_type": "execute_result"
    }
   ],
   "source": [
    "master_df.isnull().sum()"
   ]
  },
  {
   "cell_type": "markdown",
   "metadata": {},
   "source": [
    "The missing values of age and gender is a lot. Rental access method is a lot more missing. So we can drop the column."
   ]
  },
  {
   "cell_type": "code",
   "execution_count": 9,
   "metadata": {},
   "outputs": [
    {
     "data": {
      "text/plain": [
       "0"
      ]
     },
     "execution_count": 9,
     "metadata": {},
     "output_type": "execute_result"
    }
   ],
   "source": [
    "master_df.duplicated().sum()"
   ]
  },
  {
   "cell_type": "markdown",
   "metadata": {},
   "source": [
    "There are no duplicates! Nice!"
   ]
  },
  {
   "cell_type": "markdown",
   "metadata": {},
   "source": [
    "## Data Cleaning\n",
    "\n",
    "There seems to be a few quality issues with the data. The following are a few:\n",
    "1. The start/end time should be in timestamp datatype. Birth year should be in integer\n",
    "2. The gender, user_type, bike-share-for-all can be categorical data\n",
    "3. Birth years might be wrong, since some users are more than 100 years of age.\n",
    "4. The latitudes and longitudes are not readable by users. Need to calculate the distance travelled.\n",
    "5. Delete the rental access method"
   ]
  },
  {
   "cell_type": "code",
   "execution_count": 10,
   "metadata": {},
   "outputs": [],
   "source": [
    "master_cleaned = master_df.copy()"
   ]
  },
  {
   "cell_type": "markdown",
   "metadata": {},
   "source": [
    "**The start/end time should be in timestamp datatype.**"
   ]
  },
  {
   "cell_type": "markdown",
   "metadata": {},
   "source": [
    "**Code:**"
   ]
  },
  {
   "cell_type": "code",
   "execution_count": 11,
   "metadata": {},
   "outputs": [],
   "source": [
    "master_cleaned.start_time = pd.to_datetime(master_cleaned.start_time)\n",
    "master_cleaned.end_time = pd.to_datetime(master_cleaned.end_time)"
   ]
  },
  {
   "cell_type": "code",
   "execution_count": 12,
   "metadata": {},
   "outputs": [],
   "source": [
    "master_cleaned.bike_id = master_cleaned.bike_id.astype(str)"
   ]
  },
  {
   "cell_type": "code",
   "execution_count": 13,
   "metadata": {},
   "outputs": [],
   "source": [
    "master_cleaned.start_station_id = master_cleaned.start_station_id.astype(str)\n",
    "master_cleaned.end_station_id = master_cleaned.end_station_id.astype(str)"
   ]
  },
  {
   "cell_type": "markdown",
   "metadata": {},
   "source": [
    "**Test**"
   ]
  },
  {
   "cell_type": "code",
   "execution_count": 14,
   "metadata": {},
   "outputs": [
    {
     "name": "stdout",
     "output_type": "stream",
     "text": [
      "<class 'pandas.core.frame.DataFrame'>\n",
      "RangeIndex: 191772 entries, 0 to 191771\n",
      "Data columns (total 17 columns):\n",
      "duration_sec               191772 non-null int64\n",
      "start_time                 191772 non-null datetime64[ns]\n",
      "end_time                   191772 non-null datetime64[ns]\n",
      "start_station_id           191772 non-null object\n",
      "start_station_name         189612 non-null object\n",
      "start_station_latitude     191772 non-null float64\n",
      "start_station_longitude    191772 non-null float64\n",
      "end_station_id             191772 non-null object\n",
      "end_station_name           189510 non-null object\n",
      "end_station_latitude       191772 non-null float64\n",
      "end_station_longitude      191772 non-null float64\n",
      "bike_id                    191772 non-null object\n",
      "user_type                  191772 non-null object\n",
      "member_birth_year          172635 non-null float64\n",
      "member_gender              172853 non-null object\n",
      "bike_share_for_all_trip    187879 non-null object\n",
      "rental_access_method       3893 non-null object\n",
      "dtypes: datetime64[ns](2), float64(5), int64(1), object(9)\n",
      "memory usage: 24.9+ MB\n"
     ]
    }
   ],
   "source": [
    "master_cleaned.info()"
   ]
  },
  {
   "cell_type": "code",
   "execution_count": 15,
   "metadata": {},
   "outputs": [
    {
     "data": {
      "text/plain": [
       "67.0    4832\n",
       "15.0    3684\n",
       "81.0    3672\n",
       "58.0    3653\n",
       "21.0    3036\n",
       "3.0     2862\n",
       "16.0    2662\n",
       "5.0     2591\n",
       "6.0     2568\n",
       "22.0    2496\n",
       "50.0    2266\n",
       "nan     2160\n",
       "66.0    2156\n",
       "90.0    1945\n",
       "27.0    1892\n",
       "30.0    1825\n",
       "44.0    1781\n",
       "17.0    1767\n",
       "93.0    1760\n",
       "23.0    1704\n",
       "Name: start_station_id, dtype: int64"
      ]
     },
     "execution_count": 15,
     "metadata": {},
     "output_type": "execute_result"
    }
   ],
   "source": [
    "master_cleaned.start_station_id.value_counts().head(20)"
   ]
  },
  {
   "cell_type": "markdown",
   "metadata": {},
   "source": [
    "**Birth years might be wrong, since some users are more than 100 years of age.**"
   ]
  },
  {
   "cell_type": "code",
   "execution_count": 16,
   "metadata": {},
   "outputs": [],
   "source": [
    "master_cleaned['member_age'] = datetime.datetime.now().year - master_cleaned.member_birth_year"
   ]
  },
  {
   "cell_type": "code",
   "execution_count": 17,
   "metadata": {},
   "outputs": [
    {
     "data": {
      "text/plain": [
       "14.623072175570378"
      ]
     },
     "execution_count": 17,
     "metadata": {},
     "output_type": "execute_result"
    }
   ],
   "source": [
    "age_less_than_60 = len(master_cleaned.query('member_age < 70'))\n",
    "age_less_than_60*100/1176326"
   ]
  },
  {
   "cell_type": "code",
   "execution_count": 18,
   "metadata": {},
   "outputs": [
    {
     "data": {
      "text/html": [
       "<div>\n",
       "<style scoped>\n",
       "    .dataframe tbody tr th:only-of-type {\n",
       "        vertical-align: middle;\n",
       "    }\n",
       "\n",
       "    .dataframe tbody tr th {\n",
       "        vertical-align: top;\n",
       "    }\n",
       "\n",
       "    .dataframe thead th {\n",
       "        text-align: right;\n",
       "    }\n",
       "</style>\n",
       "<table border=\"1\" class=\"dataframe\">\n",
       "  <thead>\n",
       "    <tr style=\"text-align: right;\">\n",
       "      <th></th>\n",
       "      <th>member_birth_year</th>\n",
       "      <th>member_age</th>\n",
       "    </tr>\n",
       "  </thead>\n",
       "  <tbody>\n",
       "    <tr>\n",
       "      <th>0</th>\n",
       "      <td>1957.0</td>\n",
       "      <td>62.0</td>\n",
       "    </tr>\n",
       "    <tr>\n",
       "      <th>1</th>\n",
       "      <td>NaN</td>\n",
       "      <td>NaN</td>\n",
       "    </tr>\n",
       "    <tr>\n",
       "      <th>2</th>\n",
       "      <td>1985.0</td>\n",
       "      <td>34.0</td>\n",
       "    </tr>\n",
       "    <tr>\n",
       "      <th>3</th>\n",
       "      <td>NaN</td>\n",
       "      <td>NaN</td>\n",
       "    </tr>\n",
       "    <tr>\n",
       "      <th>4</th>\n",
       "      <td>NaN</td>\n",
       "      <td>NaN</td>\n",
       "    </tr>\n",
       "  </tbody>\n",
       "</table>\n",
       "</div>"
      ],
      "text/plain": [
       "   member_birth_year  member_age\n",
       "0             1957.0        62.0\n",
       "1                NaN         NaN\n",
       "2             1985.0        34.0\n",
       "3                NaN         NaN\n",
       "4                NaN         NaN"
      ]
     },
     "execution_count": 18,
     "metadata": {},
     "output_type": "execute_result"
    }
   ],
   "source": [
    "master_cleaned[['member_birth_year', 'member_age']].head()"
   ]
  },
  {
   "cell_type": "code",
   "execution_count": 19,
   "metadata": {
    "scrolled": true
   },
   "outputs": [
    {
     "data": {
      "text/plain": [
       "Text(0.5, 0, 'Age')"
      ]
     },
     "execution_count": 19,
     "metadata": {},
     "output_type": "execute_result"
    },
    {
     "data": {
      "image/png": "[encoded data removed]",
      "text/plain": [
       "<Figure size 864x432 with 1 Axes>"
      ]
     },
     "metadata": {
      "needs_background": "light"
     },
     "output_type": "display_data"
    }
   ],
   "source": [
    "plt.figure(figsize=(12,6))\n",
    "sb.boxplot(x='member_age', data=master_cleaned, palette='copper', orient='h')\n",
    "plt.title(\"The age distribution of Members\", fontsize=15)\n",
    "plt.xlabel(\"Age\")"
   ]
  },
  {
   "cell_type": "markdown",
   "metadata": {},
   "source": [
    "Since most of the users are below the age of 70, we can forget the rest of the data."
   ]
  },
  {
   "cell_type": "code",
   "execution_count": 20,
   "metadata": {},
   "outputs": [],
   "source": [
    "master_cleaned[master_cleaned.member_age > 70] = None"
   ]
  },
  {
   "cell_type": "markdown",
   "metadata": {},
   "source": [
    "**Test:**"
   ]
  },
  {
   "cell_type": "code",
   "execution_count": 21,
   "metadata": {
    "scrolled": true
   },
   "outputs": [
    {
     "data": {
      "text/plain": [
       "Text(0.5, 0, 'Age')"
      ]
     },
     "execution_count": 21,
     "metadata": {},
     "output_type": "execute_result"
    },
    {
     "data": {
      "image/png": "[encoded data removed]",
      "text/plain": [
       "<Figure size 864x432 with 1 Axes>"
      ]
     },
     "metadata": {
      "needs_background": "light"
     },
     "output_type": "display_data"
    }
   ],
   "source": [
    "plt.figure(figsize=(12,6))\n",
    "sb.boxplot(x='member_age', data=master_cleaned, palette='copper', orient='h')\n",
    "plt.title(\"The age distribution of Members\", fontsize=15)\n",
    "plt.xlabel(\"Age\")"
   ]
  },
  {
   "cell_type": "markdown",
   "metadata": {},
   "source": [
    "**The latitudes and longitudes are not readable by users. Need to calculate the distance travelled.*"
   ]
  },
  {
   "cell_type": "markdown",
   "metadata": {},
   "source": [
    "**Code:**<br>\n",
    "Let us start by creating a function that gives the distance in kilometers"
   ]
  },
  {
   "cell_type": "code",
   "execution_count": 22,
   "metadata": {},
   "outputs": [],
   "source": [
    "# function to calculate the distance from coordinates\n",
    "def calculate_distance(latitude1, latitude2, longitude1, longitude2):\n",
    "    # approximate radius of earth in km\n",
    "    R = 6373.0\n",
    "    \n",
    "    try:\n",
    "        lat1 = radians(latitude1)\n",
    "        lon1 = radians(longitude1)\n",
    "        lat2 = radians(latitude2)\n",
    "        lon2 = radians(longitude2)\n",
    "    #coversion to radians\n",
    "    except:\n",
    "        # if the coordinates are Null\n",
    "        return None\n",
    "\n",
    "    dlon = lon2 - lon1\n",
    "    dlat = lat2 - lat1\n",
    "    #difference in the coordinates \n",
    "\n",
    "    a = sin(dlat / 2)**2 + cos(lat1) * cos(lat2) * sin(dlon / 2)**2\n",
    "    c = 2 * atan2(sqrt(a), sqrt(1 - a))\n",
    "\n",
    "    distance = R * c\n",
    "    return distance"
   ]
  },
  {
   "cell_type": "code",
   "execution_count": 23,
   "metadata": {},
   "outputs": [],
   "source": [
    "master_cleaned['distance_travelled'] = master_cleaned.apply(lambda x: calculate_distance(x['start_station_latitude'],\n",
    "                                                                                        x['end_station_latitude'],\n",
    "                                                                                        x['start_station_longitude'],\n",
    "                                                                                        x['end_station_longitude']),axis=1)"
   ]
  },
  {
   "cell_type": "code",
   "execution_count": 24,
   "metadata": {
    "scrolled": true
   },
   "outputs": [
    {
     "data": {
      "text/plain": [
       "count    191232.000000\n",
       "mean          1.672589\n",
       "std           1.055953\n",
       "min           0.000000\n",
       "25%           0.929520\n",
       "50%           1.441241\n",
       "75%           2.187356\n",
       "max          13.647852\n",
       "Name: distance_travelled, dtype: float64"
      ]
     },
     "execution_count": 24,
     "metadata": {},
     "output_type": "execute_result"
    }
   ],
   "source": [
    "master_cleaned.describe()['distance_travelled']"
   ]
  },
  {
   "cell_type": "code",
   "execution_count": 25,
   "metadata": {},
   "outputs": [
    {
     "data": {
      "text/plain": [
       "count    191232.000000\n",
       "mean          1.672584\n",
       "std           1.055953\n",
       "min           0.000000\n",
       "25%           0.930000\n",
       "50%           1.441000\n",
       "75%           2.187000\n",
       "max          13.648000\n",
       "Name: distance_travelled, dtype: float64"
      ]
     },
     "execution_count": 25,
     "metadata": {},
     "output_type": "execute_result"
    }
   ],
   "source": [
    "master_cleaned = master_cleaned.round({'distance_travelled':3})\n",
    "master_cleaned.describe().distance_travelled"
   ]
  },
  {
   "cell_type": "markdown",
   "metadata": {},
   "source": [
    "Now we can see that the distance was mostly less. The distance is calculated in kilometers"
   ]
  },
  {
   "cell_type": "markdown",
   "metadata": {},
   "source": [
    "**Delete the rental access method**<br>\n",
    "\n",
    "**Code:**"
   ]
  },
  {
   "cell_type": "code",
   "execution_count": 26,
   "metadata": {},
   "outputs": [],
   "source": [
    "master_cleaned.drop('rental_access_method', axis=1, inplace=True)"
   ]
  },
  {
   "cell_type": "markdown",
   "metadata": {},
   "source": [
    "**Test:**"
   ]
  },
  {
   "cell_type": "code",
   "execution_count": 88,
   "metadata": {
    "scrolled": true
   },
   "outputs": [
    {
     "name": "stdout",
     "output_type": "stream",
     "text": [
      "<class 'pandas.core.frame.DataFrame'>\n",
      "RangeIndex: 191772 entries, 0 to 191771\n",
      "Data columns (total 19 columns):\n",
      "duration_sec               191232 non-null float64\n",
      "start_time                 191232 non-null datetime64[ns]\n",
      "end_time                   191232 non-null datetime64[ns]\n",
      "start_station_id           191232 non-null object\n",
      "start_station_name         189072 non-null object\n",
      "start_station_latitude     191232 non-null float64\n",
      "start_station_longitude    191232 non-null float64\n",
      "end_station_id             191232 non-null object\n",
      "end_station_name           188970 non-null object\n",
      "end_station_latitude       191232 non-null float64\n",
      "end_station_longitude      191232 non-null float64\n",
      "bike_id                    191232 non-null object\n",
      "user_type                  191232 non-null object\n",
      "member_birth_year          172095 non-null float64\n",
      "member_gender              172313 non-null object\n",
      "bike_share_for_all_trip    187339 non-null object\n",
      "member_age                 172095 non-null float64\n",
      "distance_travelled         191232 non-null float64\n",
      "speed                      191232 non-null float64\n",
      "dtypes: datetime64[ns](2), float64(9), object(8)\n",
      "memory usage: 27.8+ MB\n"
     ]
    }
   ],
   "source": [
    "master_cleaned.info()"
   ]
  },
  {
   "cell_type": "code",
   "execution_count": null,
   "metadata": {},
   "outputs": [],
   "source": [
    "df['month'] = master_cleaned.start_time.dt.to_period('M')"
   ]
  },
  {
   "cell_type": "code",
   "execution_count": 96,
   "metadata": {},
   "outputs": [
    {
     "data": {
      "text/plain": [
       "count    172101.000000\n",
       "mean          9.577615\n",
       "std           3.347028\n",
       "min           0.000000\n",
       "25%           7.802871\n",
       "50%           9.715663\n",
       "75%          11.655849\n",
       "max          24.444000\n",
       "Name: speed, dtype: float64"
      ]
     },
     "execution_count": 96,
     "metadata": {},
     "output_type": "execute_result"
    }
   ],
   "source": [
    "master_cleaned['speed'] = master_cleaned.distance_travelled / (master_cleaned.duration_sec/3600)\n",
    "master_cleaned.describe().speed"
   ]
  },
  {
   "cell_type": "markdown",
   "metadata": {},
   "source": [
    "**Store dataframe in new csv**"
   ]
  },
  {
   "cell_type": "code",
   "execution_count": 28,
   "metadata": {},
   "outputs": [],
   "source": [
    "master_cleaned.to_csv('baywheel_data_updated.csv', index=False)"
   ]
  },
  {
   "cell_type": "markdown",
   "metadata": {},
   "source": [
    "### What is the structure of your dataset?\n",
    "\n",
    "The dataset is a collection user rides data that provided the distance, time, station data with most of the data being clean. There are 191772 records dated for June 2019. This gives a very clear insight to the trends. Most values are numeric in the dataset.\n",
    "\n",
    "The following are the features present:\n",
    "1. Duration in seconds\n",
    "2. Start time              \n",
    "3. End_time                   \n",
    "4. Start_station_id           \n",
    "5. Start_station_name         \n",
    "6. Start_station_latitude     \n",
    "7. Start_station_longitude    \n",
    "8. End_station_id             \n",
    "9. End_station_name           \n",
    "10. End_station_latitude       \n",
    "11. End_station_longitude      \n",
    "12. Bike_id                    \n",
    "13. User_type                  \n",
    "14. Member_birth_year          \n",
    "15. Member_gender              \n",
    "16. Bike_share_for_all_trip    \n",
    "17. Member_age                 \n",
    "18. Distance_travelled\n",
    "\n",
    "### What is/are the main feature(s) of interest in your dataset?\n",
    "\n",
    "Some of the interesting features to look out for are:\n",
    "1. What age group is most prevalent in using the service.\n",
    "2. What is the most popular station and the popular destination.\n",
    "3. Does the distance travelled increase/decrease with age?\n",
    "4. Is the Bike share for all program taking off well?\n",
    "5. Is it the members or the casual customers that are using the service more\n",
    "\n",
    "### What features in the dataset do you think will help support your investigation into your feature(s) of interest?\n",
    "\n",
    "Any data that is part of the distance, station, user related fields and time will help in getting the insights. The data "
   ]
  },
  {
   "cell_type": "markdown",
   "metadata": {},
   "source": [
    "## Univariate Exploration\n"
   ]
  },
  {
   "cell_type": "code",
   "execution_count": 29,
   "metadata": {},
   "outputs": [
    {
     "name": "stdout",
     "output_type": "stream",
     "text": [
      "<class 'pandas.core.frame.DataFrame'>\n",
      "RangeIndex: 191772 entries, 0 to 191771\n",
      "Data columns (total 18 columns):\n",
      "duration_sec               191232 non-null float64\n",
      "start_time                 191232 non-null datetime64[ns]\n",
      "end_time                   191232 non-null datetime64[ns]\n",
      "start_station_id           191232 non-null object\n",
      "start_station_name         189072 non-null object\n",
      "start_station_latitude     191232 non-null float64\n",
      "start_station_longitude    191232 non-null float64\n",
      "end_station_id             191232 non-null object\n",
      "end_station_name           188970 non-null object\n",
      "end_station_latitude       191232 non-null float64\n",
      "end_station_longitude      191232 non-null float64\n",
      "bike_id                    191232 non-null object\n",
      "user_type                  191232 non-null object\n",
      "member_birth_year          172095 non-null float64\n",
      "member_gender              172313 non-null object\n",
      "bike_share_for_all_trip    187339 non-null object\n",
      "member_age                 172095 non-null float64\n",
      "distance_travelled         191232 non-null float64\n",
      "dtypes: datetime64[ns](2), float64(8), object(8)\n",
      "memory usage: 26.3+ MB\n"
     ]
    }
   ],
   "source": [
    "master_cleaned.info()"
   ]
  },
  {
   "cell_type": "code",
   "execution_count": 30,
   "metadata": {},
   "outputs": [
    {
     "data": {
      "text/html": [
       "<div>\n",
       "<style scoped>\n",
       "    .dataframe tbody tr th:only-of-type {\n",
       "        vertical-align: middle;\n",
       "    }\n",
       "\n",
       "    .dataframe tbody tr th {\n",
       "        vertical-align: top;\n",
       "    }\n",
       "\n",
       "    .dataframe thead th {\n",
       "        text-align: right;\n",
       "    }\n",
       "</style>\n",
       "<table border=\"1\" class=\"dataframe\">\n",
       "  <thead>\n",
       "    <tr style=\"text-align: right;\">\n",
       "      <th></th>\n",
       "      <th>duration_sec</th>\n",
       "      <th>start_time</th>\n",
       "      <th>end_time</th>\n",
       "      <th>start_station_id</th>\n",
       "      <th>start_station_name</th>\n",
       "      <th>start_station_latitude</th>\n",
       "      <th>start_station_longitude</th>\n",
       "      <th>end_station_id</th>\n",
       "      <th>end_station_name</th>\n",
       "      <th>end_station_latitude</th>\n",
       "      <th>end_station_longitude</th>\n",
       "      <th>bike_id</th>\n",
       "      <th>user_type</th>\n",
       "      <th>member_birth_year</th>\n",
       "      <th>member_gender</th>\n",
       "      <th>bike_share_for_all_trip</th>\n",
       "      <th>member_age</th>\n",
       "      <th>distance_travelled</th>\n",
       "    </tr>\n",
       "  </thead>\n",
       "  <tbody>\n",
       "    <tr>\n",
       "      <th>0</th>\n",
       "      <td>81695.0</td>\n",
       "      <td>2019-06-30 18:16:09.773</td>\n",
       "      <td>2019-07-01 16:57:45.592</td>\n",
       "      <td>109.0</td>\n",
       "      <td>17th St at Valencia St</td>\n",
       "      <td>37.763316</td>\n",
       "      <td>-122.421904</td>\n",
       "      <td>56.0</td>\n",
       "      <td>Koshland Park</td>\n",
       "      <td>37.773414</td>\n",
       "      <td>-122.427317</td>\n",
       "      <td>1502</td>\n",
       "      <td>Subscriber</td>\n",
       "      <td>1957.0</td>\n",
       "      <td>Male</td>\n",
       "      <td>No</td>\n",
       "      <td>62.0</td>\n",
       "      <td>1.220</td>\n",
       "    </tr>\n",
       "    <tr>\n",
       "      <th>1</th>\n",
       "      <td>74260.0</td>\n",
       "      <td>2019-06-30 18:09:55.830</td>\n",
       "      <td>2019-07-01 14:47:36.681</td>\n",
       "      <td>50.0</td>\n",
       "      <td>2nd St at Townsend St</td>\n",
       "      <td>37.780526</td>\n",
       "      <td>-122.390288</td>\n",
       "      <td>101.0</td>\n",
       "      <td>15th St at Potrero Ave</td>\n",
       "      <td>37.767079</td>\n",
       "      <td>-122.407359</td>\n",
       "      <td>2526</td>\n",
       "      <td>Customer</td>\n",
       "      <td>NaN</td>\n",
       "      <td>NaN</td>\n",
       "      <td>No</td>\n",
       "      <td>NaN</td>\n",
       "      <td>2.119</td>\n",
       "    </tr>\n",
       "    <tr>\n",
       "      <th>2</th>\n",
       "      <td>59603.0</td>\n",
       "      <td>2019-06-30 15:40:31.038</td>\n",
       "      <td>2019-07-01 08:13:54.349</td>\n",
       "      <td>23.0</td>\n",
       "      <td>The Embarcadero at Steuart St</td>\n",
       "      <td>37.791464</td>\n",
       "      <td>-122.391034</td>\n",
       "      <td>30.0</td>\n",
       "      <td>San Francisco Caltrain (Townsend St at 4th St)</td>\n",
       "      <td>37.776598</td>\n",
       "      <td>-122.395282</td>\n",
       "      <td>2427</td>\n",
       "      <td>Subscriber</td>\n",
       "      <td>1985.0</td>\n",
       "      <td>Male</td>\n",
       "      <td>No</td>\n",
       "      <td>34.0</td>\n",
       "      <td>1.695</td>\n",
       "    </tr>\n",
       "    <tr>\n",
       "      <th>3</th>\n",
       "      <td>67932.0</td>\n",
       "      <td>2019-06-30 12:49:47.781</td>\n",
       "      <td>2019-07-01 07:42:00.543</td>\n",
       "      <td>169.0</td>\n",
       "      <td>Bushrod Park</td>\n",
       "      <td>37.846516</td>\n",
       "      <td>-122.265304</td>\n",
       "      <td>248.0</td>\n",
       "      <td>Telegraph Ave at Ashby Ave</td>\n",
       "      <td>37.855956</td>\n",
       "      <td>-122.259795</td>\n",
       "      <td>1261</td>\n",
       "      <td>Customer</td>\n",
       "      <td>NaN</td>\n",
       "      <td>NaN</td>\n",
       "      <td>No</td>\n",
       "      <td>NaN</td>\n",
       "      <td>1.156</td>\n",
       "    </tr>\n",
       "    <tr>\n",
       "      <th>4</th>\n",
       "      <td>48894.0</td>\n",
       "      <td>2019-06-30 17:21:00.055</td>\n",
       "      <td>2019-07-01 06:55:54.996</td>\n",
       "      <td>15.0</td>\n",
       "      <td>San Francisco Ferry Building (Harry Bridges Pl...</td>\n",
       "      <td>37.795392</td>\n",
       "      <td>-122.394203</td>\n",
       "      <td>30.0</td>\n",
       "      <td>San Francisco Caltrain (Townsend St at 4th St)</td>\n",
       "      <td>37.776598</td>\n",
       "      <td>-122.395282</td>\n",
       "      <td>1070</td>\n",
       "      <td>Customer</td>\n",
       "      <td>NaN</td>\n",
       "      <td>NaN</td>\n",
       "      <td>No</td>\n",
       "      <td>NaN</td>\n",
       "      <td>2.093</td>\n",
       "    </tr>\n",
       "  </tbody>\n",
       "</table>\n",
       "</div>"
      ],
      "text/plain": [
       "   duration_sec              start_time                end_time  \\\n",
       "0       81695.0 2019-06-30 18:16:09.773 2019-07-01 16:57:45.592   \n",
       "1       74260.0 2019-06-30 18:09:55.830 2019-07-01 14:47:36.681   \n",
       "2       59603.0 2019-06-30 15:40:31.038 2019-07-01 08:13:54.349   \n",
       "3       67932.0 2019-06-30 12:49:47.781 2019-07-01 07:42:00.543   \n",
       "4       48894.0 2019-06-30 17:21:00.055 2019-07-01 06:55:54.996   \n",
       "\n",
       "  start_station_id                                 start_station_name  \\\n",
       "0            109.0                             17th St at Valencia St   \n",
       "1             50.0                              2nd St at Townsend St   \n",
       "2             23.0                      The Embarcadero at Steuart St   \n",
       "3            169.0                                       Bushrod Park   \n",
       "4             15.0  San Francisco Ferry Building (Harry Bridges Pl...   \n",
       "\n",
       "   start_station_latitude  start_station_longitude end_station_id  \\\n",
       "0               37.763316              -122.421904           56.0   \n",
       "1               37.780526              -122.390288          101.0   \n",
       "2               37.791464              -122.391034           30.0   \n",
       "3               37.846516              -122.265304          248.0   \n",
       "4               37.795392              -122.394203           30.0   \n",
       "\n",
       "                                 end_station_name  end_station_latitude  \\\n",
       "0                                   Koshland Park             37.773414   \n",
       "1                          15th St at Potrero Ave             37.767079   \n",
       "2  San Francisco Caltrain (Townsend St at 4th St)             37.776598   \n",
       "3                      Telegraph Ave at Ashby Ave             37.855956   \n",
       "4  San Francisco Caltrain (Townsend St at 4th St)             37.776598   \n",
       "\n",
       "   end_station_longitude bike_id   user_type  member_birth_year member_gender  \\\n",
       "0            -122.427317    1502  Subscriber             1957.0          Male   \n",
       "1            -122.407359    2526    Customer                NaN           NaN   \n",
       "2            -122.395282    2427  Subscriber             1985.0          Male   \n",
       "3            -122.259795    1261    Customer                NaN           NaN   \n",
       "4            -122.395282    1070    Customer                NaN           NaN   \n",
       "\n",
       "  bike_share_for_all_trip  member_age  distance_travelled  \n",
       "0                      No        62.0               1.220  \n",
       "1                      No         NaN               2.119  \n",
       "2                      No        34.0               1.695  \n",
       "3                      No         NaN               1.156  \n",
       "4                      No         NaN               2.093  "
      ]
     },
     "execution_count": 30,
     "metadata": {},
     "output_type": "execute_result"
    }
   ],
   "source": [
    "master_cleaned.head()"
   ]
  },
  {
   "cell_type": "markdown",
   "metadata": {},
   "source": [
    "**Let's see if Baywheels Bike for all is a success**"
   ]
  },
  {
   "cell_type": "code",
   "execution_count": 99,
   "metadata": {
    "scrolled": false
   },
   "outputs": [
    {
     "data": {
      "image/png": "[encoded data removed]",
      "text/plain": [
       "<Figure size 576x360 with 1 Axes>"
      ]
     },
     "metadata": {},
     "output_type": "display_data"
    }
   ],
   "source": [
    "program_count = master_cleaned.bike_share_for_all_trip.value_counts()\n",
    "sb.set_style('whitegrid')\n",
    "plt.figure(figsize=(8,5))\n",
    "program_count.plot(kind='bar')\n",
    "plt.title(\"Is user part of 'Bike Share for all' campaign?\",fontsize=15,y=1.05, fontweight='bold');\n",
    "plt.xlabel(\"Is transaction BikeShareForAll type\")\n",
    "plt.ylabel(\"Count of trips\");"
   ]
  },
  {
   "cell_type": "markdown",
   "metadata": {},
   "source": [
    "**How long do Bike trips generally last?**"
   ]
  },
  {
   "cell_type": "code",
   "execution_count": 100,
   "metadata": {
    "scrolled": true
   },
   "outputs": [
    {
     "data": {
      "image/png": "[encoded data removed]",
      "text/plain": [
       "<Figure size 432x288 with 1 Axes>"
      ]
     },
     "metadata": {},
     "output_type": "display_data"
    }
   ],
   "source": [
    "# Duration of the bike rides -in seconds\n",
    "bin_edges = np.arange(0, 4000, 100)\n",
    "\n",
    "plt.hist(data = master_cleaned, x = 'duration_sec', bins = bin_edges, rwidth = 0.6);\n",
    "\n",
    "plt.title(\"Baywheels Trip Duration\", y=1.05, fontsize=16, fontweight='bold')\n",
    "plt.xlabel('Duration (Sec)')\n",
    "plt.ylabel('Number of Bike Trips');"
   ]
  },
  {
   "cell_type": "markdown",
   "metadata": {},
   "source": [
    "**Is it the males or the females who use the service more?**"
   ]
  },
  {
   "cell_type": "code",
   "execution_count": 101,
   "metadata": {
    "scrolled": true
   },
   "outputs": [
    {
     "data": {
      "text/plain": [
       "Male      128649\n",
       "Female     40650\n",
       "Other       2802\n",
       "Name: member_gender, dtype: int64"
      ]
     },
     "execution_count": 101,
     "metadata": {},
     "output_type": "execute_result"
    }
   ],
   "source": [
    "gender_count = master_cleaned.member_gender.value_counts()\n",
    "gender_count"
   ]
  },
  {
   "cell_type": "markdown",
   "metadata": {},
   "source": [
    "We can notice that there are M, F being separate entities. We need to convert them to one."
   ]
  },
  {
   "cell_type": "markdown",
   "metadata": {},
   "source": [
    "**Code:**"
   ]
  },
  {
   "cell_type": "code",
   "execution_count": 102,
   "metadata": {},
   "outputs": [],
   "source": [
    "master_cleaned.loc[master_cleaned.member_gender == 'M','member_gender'] = 'Male'\n",
    "master_cleaned.loc[master_cleaned.member_gender == 'F','member_gender'] = 'Female'\n",
    "master_cleaned.loc[master_cleaned.member_gender == 'O','member_gender'] = 'Other'\n",
    "\n",
    "master_cleaned = master_cleaned[master_cleaned.member_gender.isin(['Male','Female','Other'])]"
   ]
  },
  {
   "cell_type": "markdown",
   "metadata": {},
   "source": [
    "**Test**"
   ]
  },
  {
   "cell_type": "code",
   "execution_count": 103,
   "metadata": {
    "scrolled": false
   },
   "outputs": [
    {
     "data": {
      "text/plain": [
       "Male      128649\n",
       "Female     40650\n",
       "Other       2802\n",
       "Name: member_gender, dtype: int64"
      ]
     },
     "execution_count": 103,
     "metadata": {},
     "output_type": "execute_result"
    }
   ],
   "source": [
    "gender_count = master_cleaned.member_gender.value_counts()\n",
    "gender_count"
   ]
  },
  {
   "cell_type": "code",
   "execution_count": null,
   "metadata": {},
   "outputs": [],
   "source": []
  },
  {
   "cell_type": "code",
   "execution_count": 105,
   "metadata": {
    "scrolled": true
   },
   "outputs": [
    {
     "data": {
      "image/png": "[encoded data removed]",
      "text/plain": [
       "<Figure size 504x504 with 1 Axes>"
      ]
     },
     "metadata": {},
     "output_type": "display_data"
    }
   ],
   "source": [
    "plt.figure(figsize=(7,7))\n",
    "plt.pie(gender_count, labels = ['Male','Female','Others'], autopct = '%0.2f',labeldistance=1.2, pctdistance=1.1,);\n",
    "plt.title(\"Comparison of gender of users\", fontsize=15, fontweight='bold');"
   ]
  },
  {
   "cell_type": "markdown",
   "metadata": {},
   "source": [
    "The users are dominated by Males with a whopping 75% users being male and female being 23.5%. This shows that there are a less number of females interested in the service or maybe females do not roam around a lot! "
   ]
  },
  {
   "cell_type": "markdown",
   "metadata": {},
   "source": [
    "**Distribution of rides by age groups**"
   ]
  },
  {
   "cell_type": "code",
   "execution_count": 106,
   "metadata": {},
   "outputs": [
    {
     "data": {
      "image/png": "[encoded data removed]",
      "text/plain": [
       "<Figure size 576x360 with 1 Axes>"
      ]
     },
     "metadata": {},
     "output_type": "display_data"
    }
   ],
   "source": [
    "# Age group data\n",
    "bin_edges = np.arange(15, 70, 5)\n",
    "plt.figure(figsize=(8,5))\n",
    "plt.hist(data = master_cleaned, x = 'member_age', bins = bin_edges);\n",
    "\n",
    "plt.title(\"Baywheels User by Age\", y=1.05, fontsize=16, fontweight='bold')\n",
    "plt.xlabel('Age (Years)')\n",
    "plt.ylabel('Number of Bike Trips');"
   ]
  },
  {
   "cell_type": "markdown",
   "metadata": {},
   "source": []
  },
  {
   "cell_type": "markdown",
   "metadata": {},
   "source": [
    "> Make sure that, after every plot or related series of plots, that you\n",
    "include a Markdown cell with comments about what you observed, and what\n",
    "you plan on investigating next."
   ]
  },
  {
   "cell_type": "code",
   "execution_count": null,
   "metadata": {},
   "outputs": [],
   "source": []
  },
  {
   "cell_type": "code",
   "execution_count": 107,
   "metadata": {},
   "outputs": [
    {
     "data": {
      "text/plain": [
       "count    172101.000000\n",
       "mean          1.669945\n",
       "std           1.046094\n",
       "min           0.000000\n",
       "25%           0.929000\n",
       "50%           1.433000\n",
       "75%           2.174000\n",
       "max          13.648000\n",
       "Name: distance_travelled, dtype: float64"
      ]
     },
     "execution_count": 107,
     "metadata": {},
     "output_type": "execute_result"
    }
   ],
   "source": [
    "master_cleaned.distance_travelled.describe()"
   ]
  },
  {
   "cell_type": "code",
   "execution_count": 108,
   "metadata": {
    "scrolled": true
   },
   "outputs": [
    {
     "data": {
      "image/png": "[encoded data removed]",
      "text/plain": [
       "<Figure size 576x360 with 1 Axes>"
      ]
     },
     "metadata": {},
     "output_type": "display_data"
    }
   ],
   "source": [
    "# Distance travelled in km\n",
    "bin_edges = np.arange(0, 8, 0.5)\n",
    "plt.figure(figsize=(8,5))\n",
    "plt.hist(data = master_cleaned, x = 'distance_travelled', bins = bin_edges);\n",
    "\n",
    "plt.title(\"Baywheels Trip Distance in km\", y=1.05, fontsize=16, fontweight='bold')\n",
    "plt.xlabel('Distance (km)')\n",
    "plt.ylabel('Number of Bike Trips');"
   ]
  },
  {
   "cell_type": "markdown",
   "metadata": {},
   "source": []
  },
  {
   "cell_type": "code",
   "execution_count": 109,
   "metadata": {},
   "outputs": [],
   "source": [
    "#grouping data by hour and aggregating the count of each bike id\n",
    "start_hour_df = master_cleaned.groupby(master_cleaned.start_time.dt.hour).agg({'bike_id':'count'}).reset_index()"
   ]
  },
  {
   "cell_type": "code",
   "execution_count": 110,
   "metadata": {},
   "outputs": [
    {
     "data": {
      "text/html": [
       "<div>\n",
       "<style scoped>\n",
       "    .dataframe tbody tr th:only-of-type {\n",
       "        vertical-align: middle;\n",
       "    }\n",
       "\n",
       "    .dataframe tbody tr th {\n",
       "        vertical-align: top;\n",
       "    }\n",
       "\n",
       "    .dataframe thead th {\n",
       "        text-align: right;\n",
       "    }\n",
       "</style>\n",
       "<table border=\"1\" class=\"dataframe\">\n",
       "  <thead>\n",
       "    <tr style=\"text-align: right;\">\n",
       "      <th></th>\n",
       "      <th>start_time</th>\n",
       "      <th>bike_id</th>\n",
       "    </tr>\n",
       "  </thead>\n",
       "  <tbody>\n",
       "    <tr>\n",
       "      <th>0</th>\n",
       "      <td>0</td>\n",
       "      <td>0.530502</td>\n",
       "    </tr>\n",
       "    <tr>\n",
       "      <th>1</th>\n",
       "      <td>1</td>\n",
       "      <td>0.315512</td>\n",
       "    </tr>\n",
       "    <tr>\n",
       "      <th>2</th>\n",
       "      <td>2</td>\n",
       "      <td>0.180708</td>\n",
       "    </tr>\n",
       "    <tr>\n",
       "      <th>3</th>\n",
       "      <td>3</td>\n",
       "      <td>0.066240</td>\n",
       "    </tr>\n",
       "    <tr>\n",
       "      <th>4</th>\n",
       "      <td>4</td>\n",
       "      <td>0.138291</td>\n",
       "    </tr>\n",
       "    <tr>\n",
       "      <th>5</th>\n",
       "      <td>5</td>\n",
       "      <td>0.553745</td>\n",
       "    </tr>\n",
       "    <tr>\n",
       "      <th>6</th>\n",
       "      <td>6</td>\n",
       "      <td>2.367796</td>\n",
       "    </tr>\n",
       "    <tr>\n",
       "      <th>7</th>\n",
       "      <td>7</td>\n",
       "      <td>6.440404</td>\n",
       "    </tr>\n",
       "    <tr>\n",
       "      <th>8</th>\n",
       "      <td>8</td>\n",
       "      <td>11.446767</td>\n",
       "    </tr>\n",
       "    <tr>\n",
       "      <th>9</th>\n",
       "      <td>9</td>\n",
       "      <td>8.635627</td>\n",
       "    </tr>\n",
       "    <tr>\n",
       "      <th>10</th>\n",
       "      <td>10</td>\n",
       "      <td>4.060406</td>\n",
       "    </tr>\n",
       "    <tr>\n",
       "      <th>11</th>\n",
       "      <td>11</td>\n",
       "      <td>3.630426</td>\n",
       "    </tr>\n",
       "    <tr>\n",
       "      <th>12</th>\n",
       "      <td>12</td>\n",
       "      <td>4.047042</td>\n",
       "    </tr>\n",
       "    <tr>\n",
       "      <th>13</th>\n",
       "      <td>13</td>\n",
       "      <td>3.946520</td>\n",
       "    </tr>\n",
       "    <tr>\n",
       "      <th>14</th>\n",
       "      <td>14</td>\n",
       "      <td>3.797189</td>\n",
       "    </tr>\n",
       "    <tr>\n",
       "      <th>15</th>\n",
       "      <td>15</td>\n",
       "      <td>4.532222</td>\n",
       "    </tr>\n",
       "    <tr>\n",
       "      <th>16</th>\n",
       "      <td>16</td>\n",
       "      <td>7.305013</td>\n",
       "    </tr>\n",
       "    <tr>\n",
       "      <th>17</th>\n",
       "      <td>17</td>\n",
       "      <td>12.397371</td>\n",
       "    </tr>\n",
       "    <tr>\n",
       "      <th>18</th>\n",
       "      <td>18</td>\n",
       "      <td>9.840733</td>\n",
       "    </tr>\n",
       "    <tr>\n",
       "      <th>19</th>\n",
       "      <td>19</td>\n",
       "      <td>6.139999</td>\n",
       "    </tr>\n",
       "    <tr>\n",
       "      <th>20</th>\n",
       "      <td>20</td>\n",
       "      <td>4.093526</td>\n",
       "    </tr>\n",
       "    <tr>\n",
       "      <th>21</th>\n",
       "      <td>21</td>\n",
       "      <td>2.780344</td>\n",
       "    </tr>\n",
       "    <tr>\n",
       "      <th>22</th>\n",
       "      <td>22</td>\n",
       "      <td>1.726312</td>\n",
       "    </tr>\n",
       "    <tr>\n",
       "      <th>23</th>\n",
       "      <td>23</td>\n",
       "      <td>1.027304</td>\n",
       "    </tr>\n",
       "  </tbody>\n",
       "</table>\n",
       "</div>"
      ],
      "text/plain": [
       "    start_time    bike_id\n",
       "0            0   0.530502\n",
       "1            1   0.315512\n",
       "2            2   0.180708\n",
       "3            3   0.066240\n",
       "4            4   0.138291\n",
       "5            5   0.553745\n",
       "6            6   2.367796\n",
       "7            7   6.440404\n",
       "8            8  11.446767\n",
       "9            9   8.635627\n",
       "10          10   4.060406\n",
       "11          11   3.630426\n",
       "12          12   4.047042\n",
       "13          13   3.946520\n",
       "14          14   3.797189\n",
       "15          15   4.532222\n",
       "16          16   7.305013\n",
       "17          17  12.397371\n",
       "18          18   9.840733\n",
       "19          19   6.139999\n",
       "20          20   4.093526\n",
       "21          21   2.780344\n",
       "22          22   1.726312\n",
       "23          23   1.027304"
      ]
     },
     "execution_count": 110,
     "metadata": {},
     "output_type": "execute_result"
    }
   ],
   "source": [
    "#calculating to number of bikes\n",
    "total_bikes = start_hour_df.bike_id.sum()\n",
    "\n",
    "#calculating percenrage of bikes running per hour\n",
    "start_hour_df.bike_id = start_hour_df.bike_id*100/total_bikes\n",
    "start_hour_df"
   ]
  },
  {
   "cell_type": "code",
   "execution_count": 111,
   "metadata": {},
   "outputs": [
    {
     "data": {
      "image/png": "[encoded data removed]",
      "text/plain": [
       "<Figure size 1080x648 with 1 Axes>"
      ]
     },
     "metadata": {},
     "output_type": "display_data"
    }
   ],
   "source": [
    "plt.figure(figsize=(15,9))\n",
    "sb.pointplot(x='start_time', y='bike_id', scale=.7, color='orange', data=start_hour_df)\n",
    "plt.title('Percentage of bikes running', fontsize=22, y=1.02)\n",
    "plt.xlabel('Hour of the day', labelpad=16)\n",
    "plt.ylabel('Percentage(%) bikes', labelpad=16);"
   ]
  },
  {
   "cell_type": "markdown",
   "metadata": {},
   "source": [
    "### Discuss the distribution(s) of your variable(s) of interest. Were there any unusual points? Did you need to perform any transformations?\n",
    "\n",
    "Since the cleaning was done well before the exploratory analysis, there were no major changes that were needed. One change was that in the gender, there were 2 different notations found for each sex. Example, 'male' and 'M'. This was combined into one.\n",
    "\n",
    "### Of the features you investigated, were there any unusual distributions? Did you perform any operations on the data to tidy, adjust, or change the form of the data? If so, why did you do this?\n",
    "\n",
    "The age of some of the users were a lot more than expected as was seen in the bar plot. These ages were not considered for the plots. A new field for the ages of the user and the distance travelled by each ride was created to help with the plots."
   ]
  },
  {
   "cell_type": "markdown",
   "metadata": {},
   "source": [
    "## Bivariate Exploration\n"
   ]
  },
  {
   "cell_type": "code",
   "execution_count": 112,
   "metadata": {},
   "outputs": [
    {
     "data": {
      "text/html": [
       "<div>\n",
       "<style scoped>\n",
       "    .dataframe tbody tr th:only-of-type {\n",
       "        vertical-align: middle;\n",
       "    }\n",
       "\n",
       "    .dataframe tbody tr th {\n",
       "        vertical-align: top;\n",
       "    }\n",
       "\n",
       "    .dataframe thead th {\n",
       "        text-align: right;\n",
       "    }\n",
       "</style>\n",
       "<table border=\"1\" class=\"dataframe\">\n",
       "  <thead>\n",
       "    <tr style=\"text-align: right;\">\n",
       "      <th></th>\n",
       "      <th>start_time</th>\n",
       "      <th>user_type</th>\n",
       "      <th>bike_id</th>\n",
       "    </tr>\n",
       "  </thead>\n",
       "  <tbody>\n",
       "    <tr>\n",
       "      <th>0</th>\n",
       "      <td>0</td>\n",
       "      <td>Customer</td>\n",
       "      <td>2262</td>\n",
       "    </tr>\n",
       "    <tr>\n",
       "      <th>1</th>\n",
       "      <td>0</td>\n",
       "      <td>Subscriber</td>\n",
       "      <td>24940</td>\n",
       "    </tr>\n",
       "    <tr>\n",
       "      <th>2</th>\n",
       "      <td>1</td>\n",
       "      <td>Customer</td>\n",
       "      <td>2499</td>\n",
       "    </tr>\n",
       "    <tr>\n",
       "      <th>3</th>\n",
       "      <td>1</td>\n",
       "      <td>Subscriber</td>\n",
       "      <td>26955</td>\n",
       "    </tr>\n",
       "    <tr>\n",
       "      <th>4</th>\n",
       "      <td>2</td>\n",
       "      <td>Customer</td>\n",
       "      <td>2114</td>\n",
       "    </tr>\n",
       "    <tr>\n",
       "      <th>5</th>\n",
       "      <td>2</td>\n",
       "      <td>Subscriber</td>\n",
       "      <td>26659</td>\n",
       "    </tr>\n",
       "    <tr>\n",
       "      <th>6</th>\n",
       "      <td>3</td>\n",
       "      <td>Customer</td>\n",
       "      <td>2142</td>\n",
       "    </tr>\n",
       "    <tr>\n",
       "      <th>7</th>\n",
       "      <td>3</td>\n",
       "      <td>Subscriber</td>\n",
       "      <td>25709</td>\n",
       "    </tr>\n",
       "    <tr>\n",
       "      <th>8</th>\n",
       "      <td>4</td>\n",
       "      <td>Customer</td>\n",
       "      <td>2453</td>\n",
       "    </tr>\n",
       "    <tr>\n",
       "      <th>9</th>\n",
       "      <td>4</td>\n",
       "      <td>Subscriber</td>\n",
       "      <td>23180</td>\n",
       "    </tr>\n",
       "    <tr>\n",
       "      <th>10</th>\n",
       "      <td>5</td>\n",
       "      <td>Customer</td>\n",
       "      <td>3242</td>\n",
       "    </tr>\n",
       "    <tr>\n",
       "      <th>11</th>\n",
       "      <td>5</td>\n",
       "      <td>Subscriber</td>\n",
       "      <td>14144</td>\n",
       "    </tr>\n",
       "    <tr>\n",
       "      <th>12</th>\n",
       "      <td>6</td>\n",
       "      <td>Customer</td>\n",
       "      <td>2986</td>\n",
       "    </tr>\n",
       "    <tr>\n",
       "      <th>13</th>\n",
       "      <td>6</td>\n",
       "      <td>Subscriber</td>\n",
       "      <td>12816</td>\n",
       "    </tr>\n",
       "  </tbody>\n",
       "</table>\n",
       "</div>"
      ],
      "text/plain": [
       "    start_time   user_type  bike_id\n",
       "0            0    Customer     2262\n",
       "1            0  Subscriber    24940\n",
       "2            1    Customer     2499\n",
       "3            1  Subscriber    26955\n",
       "4            2    Customer     2114\n",
       "5            2  Subscriber    26659\n",
       "6            3    Customer     2142\n",
       "7            3  Subscriber    25709\n",
       "8            4    Customer     2453\n",
       "9            4  Subscriber    23180\n",
       "10           5    Customer     3242\n",
       "11           5  Subscriber    14144\n",
       "12           6    Customer     2986\n",
       "13           6  Subscriber    12816"
      ]
     },
     "execution_count": 112,
     "metadata": {},
     "output_type": "execute_result"
    }
   ],
   "source": [
    "# Customer Usage by Weekday vs. Subscriber Usage by Weekday\n",
    "df_cleaned_user_week = master_cleaned.groupby([master_cleaned.start_time.dt.weekday, master_cleaned.user_type]).agg({'bike_id':'count'}).reset_index()\n",
    "df_cleaned_user_week.rename(columns = {'O':'size'})\n",
    "weekday = ['Mon', 'Tue', 'Wed', 'Thu', 'Fri', 'Sat', 'Sun']\n",
    "df_cleaned_user_week"
   ]
  },
  {
   "cell_type": "code",
   "execution_count": 113,
   "metadata": {
    "scrolled": false
   },
   "outputs": [
    {
     "name": "stderr",
     "output_type": "stream",
     "text": [
      "/home/gautam/anaconda3/lib/python3.7/site-packages/matplotlib/cbook/__init__.py:424: MatplotlibDeprecationWarning: \n",
      "Passing one of 'on', 'true', 'off', 'false' as a boolean is deprecated; use an actual boolean (True/False) instead.\n",
      "  warn_deprecated(\"2.2\", \"Passing one of 'on', 'true', 'off', 'false' as a \"\n"
     ]
    },
    {
     "data": {
      "image/png": "[encoded data removed]",
      "text/plain": [
       "<Figure size 864x360 with 1 Axes>"
      ]
     },
     "metadata": {},
     "output_type": "display_data"
    }
   ],
   "source": [
    "# Customer Usage by Weekday vs. Subscriber Usage by Weekday\n",
    "subscriber = df_cleaned_user_week.query(\"user_type == 'Subscriber'\")\n",
    "customer = df_cleaned_user_week.query(\"user_type == 'Customer'\")\n",
    "\n",
    "fig = plt.figure(figsize=(12, 5))\n",
    "ax1 = fig.add_subplot(111)\n",
    "\n",
    "ax1.plot(subscriber.start_time, subscriber.bike_id, label='Subscriber', color='green', marker='o')\n",
    "ax1.plot(customer.start_time, customer.bike_id, label='Customer', color='blue', marker='o')\n",
    "plt.xticks([0,1,2,3,4,5,6],weekday)\n",
    "plt.title(\"Subscriber vs Customer weekly ride count - pyplot\", fontweight='bold', y =1.02, fontsize=16)\n",
    "plt.xlabel('Days of the week',fontweight='bold', fontsize=12)\n",
    "plt.ylabel('Number of rides',fontweight='bold', fontsize=12)\n",
    "\n",
    "handles, labels = ax1.get_legend_handles_labels()\n",
    "lgd = ax1.legend(handles, labels, loc='upper center', bbox_to_anchor=(1.15,1))\n",
    "\n",
    "ax1.grid('on');"
   ]
  },
  {
   "cell_type": "code",
   "execution_count": 127,
   "metadata": {},
   "outputs": [
    {
     "data": {
      "image/png": "[encoded data removed]",
      "text/plain": [
       "<Figure size 720x432 with 1 Axes>"
      ]
     },
     "metadata": {},
     "output_type": "display_data"
    }
   ],
   "source": [
    "plt.figure(figsize=(10,6))\n",
    "ax = sb.pointplot(x='start_time', y='bike_id', palette='Set2', hue='user_type', data=df_cleaned_user_week);\n",
    "ax.set_title('Subscriber vs Customer weekly ride count - Seaborn')\n",
    "ax.set(xlabel='Days of the week', ylabel='Number of rides');\n",
    "plt.xticks([0,1,2,3,4,5,6],weekday);"
   ]
  },
  {
   "cell_type": "code",
   "execution_count": 121,
   "metadata": {},
   "outputs": [
    {
     "name": "stderr",
     "output_type": "stream",
     "text": [
      "/home/gautam/anaconda3/lib/python3.7/site-packages/scipy/stats/stats.py:1713: FutureWarning: Using a non-tuple sequence for multidimensional indexing is deprecated; use `arr[tuple(seq)]` instead of `arr[seq]`. In the future this will be interpreted as an array index, `arr[np.array(seq)]`, which will result either in an error or a different result.\n",
      "  return np.add.reduce(sorted[indexer] * weights, axis=axis) / sumval\n"
     ]
    },
    {
     "data": {
      "image/png": "[encoded data removed]",
      "text/plain": [
       "<Figure size 432x288 with 1 Axes>"
      ]
     },
     "metadata": {},
     "output_type": "display_data"
    }
   ],
   "source": [
    "ax = sb.pointplot(x='member_gender', y='speed', palette='Set2', hue='user_type', data=master_cleaned);\n",
    "ax.set_title('User type based trip speeds for each gender')\n",
    "ax.set(xlabel='Gender', ylabel='Speed')\n",
    "\n",
    "handles, labels = ax.get_legend_handles_labels()\n",
    "lgd = ax.legend(handles, labels, loc='upper center', bbox_to_anchor=(1.15,1))\n"
   ]
  },
  {
   "cell_type": "markdown",
   "metadata": {},
   "source": [
    "**Speed based on gender**"
   ]
  },
  {
   "cell_type": "code",
   "execution_count": 120,
   "metadata": {
    "scrolled": true
   },
   "outputs": [
    {
     "data": {
      "image/png": "[encoded data removed]",
      "text/plain": [
       "<Figure size 576x576 with 1 Axes>"
      ]
     },
     "metadata": {},
     "output_type": "display_data"
    }
   ],
   "source": [
    "plt.figure(figsize=(8,8))\n",
    "ax = sb.boxplot(x=master_cleaned.start_time.dt.to_period('M'), y='speed', palette='Set2', hue='member_gender', data=master_cleaned)\n",
    "ax.set_title('Trip speeds based on gender')\n",
    "ax.set(xlabel='Month', ylabel='Speed')\n",
    "\n",
    "handles, labels = ax.get_legend_handles_labels()\n",
    "lgd = ax.legend(handles, labels, loc='upper center', bbox_to_anchor=(1.15,1))\n"
   ]
  },
  {
   "cell_type": "code",
   "execution_count": null,
   "metadata": {},
   "outputs": [],
   "source": []
  },
  {
   "cell_type": "code",
   "execution_count": 128,
   "metadata": {},
   "outputs": [
    {
     "data": {
      "text/html": [
       "<div>\n",
       "<style scoped>\n",
       "    .dataframe tbody tr th:only-of-type {\n",
       "        vertical-align: middle;\n",
       "    }\n",
       "\n",
       "    .dataframe tbody tr th {\n",
       "        vertical-align: top;\n",
       "    }\n",
       "\n",
       "    .dataframe thead th {\n",
       "        text-align: right;\n",
       "    }\n",
       "</style>\n",
       "<table border=\"1\" class=\"dataframe\">\n",
       "  <thead>\n",
       "    <tr style=\"text-align: right;\">\n",
       "      <th></th>\n",
       "      <th>start_time</th>\n",
       "      <th>user_type</th>\n",
       "      <th>bike_id</th>\n",
       "    </tr>\n",
       "  </thead>\n",
       "  <tbody>\n",
       "    <tr>\n",
       "      <th>0</th>\n",
       "      <td>2019-06</td>\n",
       "      <td>Customer</td>\n",
       "      <td>17698</td>\n",
       "    </tr>\n",
       "    <tr>\n",
       "      <th>1</th>\n",
       "      <td>2019-06</td>\n",
       "      <td>Subscriber</td>\n",
       "      <td>154403</td>\n",
       "    </tr>\n",
       "  </tbody>\n",
       "</table>\n",
       "</div>"
      ],
      "text/plain": [
       "  start_time   user_type  bike_id\n",
       "0    2019-06    Customer    17698\n",
       "1    2019-06  Subscriber   154403"
      ]
     },
     "execution_count": 128,
     "metadata": {},
     "output_type": "execute_result"
    }
   ],
   "source": [
    "monthly_user = master_cleaned.groupby([master_cleaned.start_time.dt.to_period('M'), master_cleaned.user_type]).agg({'bike_id':'count'}).reset_index()\n",
    "monthly_user"
   ]
  },
  {
   "cell_type": "code",
   "execution_count": 129,
   "metadata": {},
   "outputs": [
    {
     "data": {
      "text/plain": [
       "[Text(0, 0.5, 'Number of rides'), Text(0.5, 0, 'Month')]"
      ]
     },
     "execution_count": 129,
     "metadata": {},
     "output_type": "execute_result"
    },
    {
     "data": {
      "image/png": "[encoded data removed]",
      "text/plain": [
       "<Figure size 576x576 with 1 Axes>"
      ]
     },
     "metadata": {},
     "output_type": "display_data"
    }
   ],
   "source": [
    "plt.figure(figsize=(8,8))\n",
    "ax = sb.pointplot(x='start_time', y='bike_id', palette='Set2', hue='user_type', data=monthly_user)\n",
    "ax.set_title('Monthly rides based on User type')\n",
    "ax.set(xlabel='Month', ylabel='Number of rides')\n"
   ]
  },
  {
   "cell_type": "markdown",
   "metadata": {},
   "source": [
    "### Talk about some of the relationships you observed in this part of the investigation. How did the feature(s) of interest vary with other features in the dataset?\n",
    "\n",
    "> Your answer here!\n",
    "\n",
    "### Did you observe any interesting relationships between the other features (not the main feature(s) of interest)?\n",
    "\n",
    "> Your answer here!"
   ]
  },
  {
   "cell_type": "markdown",
   "metadata": {},
   "source": [
    "## Multivariate Exploration\n",
    "\n",
    "> Create plots of three or more variables to investigate your data even\n",
    "further. Make sure that your investigations are justified, and follow from\n",
    "your work in the previous sections."
   ]
  },
  {
   "cell_type": "code",
   "execution_count": null,
   "metadata": {},
   "outputs": [],
   "source": []
  },
  {
   "cell_type": "markdown",
   "metadata": {},
   "source": [
    "### Talk about some of the relationships you observed in this part of the investigation. Were there features that strengthened each other in terms of looking at your feature(s) of interest?\n",
    "\n",
    "> Your answer here!\n",
    "\n",
    "### Were there any interesting or surprising interactions between features?\n",
    "\n",
    "> Your answer here!"
   ]
  },
  {
   "cell_type": "markdown",
   "metadata": {},
   "source": [
    "> At the end of your report, make sure that you export the notebook as an\n",
    "html file from the `File > Download as... > HTML` menu. Make sure you keep\n",
    "track of where the exported file goes, so you can put it in the same folder\n",
    "as this notebook for project submission. Also, make sure you remove all of\n",
    "the quote-formatted guide notes like this one before you finish your report!"
   ]
  },
  {
   "cell_type": "code",
   "execution_count": null,
   "metadata": {},
   "outputs": [],
   "source": []
  }
 ],
 "metadata": {
  "kernelspec": {
   "display_name": "Python 3",
   "language": "python",
   "name": "python3"
  },
  "language_info": {
   "codemirror_mode": {
    "name": "ipython",
    "version": 3
   },
   "file_extension": ".py",
   "mimetype": "text/x-python",
   "name": "python",
   "nbconvert_exporter": "python",
   "pygments_lexer": "ipython3",
   "version": "3.7.1"
  }
 },
 "nbformat": 4,
 "nbformat_minor": 2
}
