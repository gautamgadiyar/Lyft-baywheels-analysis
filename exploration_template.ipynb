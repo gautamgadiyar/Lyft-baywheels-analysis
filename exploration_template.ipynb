{
 "cells": [
  {
   "cell_type": "markdown",
   "metadata": {},
   "source": [
    "# Lyft - Baywheels Data Exploration\n",
    "## by Gautam Gadiyar\n",
    "\n",
    "## Introduction\n",
    "> The Lyft - Baywheels is a Bike sharing company that rents out bikes to customers who may hire a bike from any nearest point. It was a partnership program with Metropolitan Transportation Commission in order to motiate people to use envireonnment friendly means of transport. Beginning operation in August 2013 as Bay Area Bike Share, the Bay Wheels system currently has over 2,600 bicycles in 262 stations across San Francisco, East Bay and San Jose. On June 28, 2017, the system was re-launched as Ford GoBike in a partnership with Ford Motor Company.<br>\n",
    "After Motivate's acquisition by Lyft, the system was subsequently renamed to Bay Wheels in June 2019.The system provides bikes 24/7 to customers at nominal costs. The customers have access to all the bikes once they are a member or have a pass for themselves.\n",
    "\n",
    "## Preliminary Wrangling"
   ]
  },
  {
   "cell_type": "markdown",
   "metadata": {},
   "source": [
    "Firstly, the data that has been obtained from the Lyft site has to be checked for any anomalies. The data has to be cleaned and then we can start with the visualizations."
   ]
  },
  {
   "cell_type": "code",
   "execution_count": 1,
   "metadata": {},
   "outputs": [],
   "source": [
    "# import all packages and set plots to be embedded inline\n",
    "import numpy as np\n",
    "import pandas as pd\n",
    "import matplotlib.pyplot as plt\n",
    "import seaborn as sb\n",
    "import datetime\n",
    "import glob\n",
    "from math import radians, sin, cos, acos, atan2, sqrt\n",
    "\n",
    "%matplotlib inline"
   ]
  },
  {
   "cell_type": "markdown",
   "metadata": {},
   "source": [
    "> Load in your dataset and describe its properties through the questions below.\n",
    "Try and motivate your exploration goals through this section."
   ]
  },
  {
   "cell_type": "code",
   "execution_count": 2,
   "metadata": {
    "scrolled": true
   },
   "outputs": [],
   "source": [
    "path = './Datasets'\n",
    "all_files = glob.glob(path + \"/*.csv\")\n",
    "\n",
    "files_list = []\n",
    "for each_file in all_files:\n",
    "    df = pd.read_csv(each_file, index_col=None, header=0, low_memory=0)\n",
    "    files_list.append(df)\n",
    "\n",
    "master_df = pd.concat(files_list, axis=0, ignore_index=True, sort=False)"
   ]
  },
  {
   "cell_type": "code",
   "execution_count": 3,
   "metadata": {},
   "outputs": [],
   "source": [
    "master_df.to_csv('baywheels_master.csv')"
   ]
  },
  {
   "cell_type": "code",
   "execution_count": 115,
   "metadata": {
    "scrolled": true
   },
   "outputs": [
    {
     "ename": "ParserError",
     "evalue": "Error tokenizing data. C error: out of memory",
     "output_type": "error",
     "traceback": [
      "\u001b[0;31m----------------------------------------------------------------------\u001b[0m",
      "\u001b[0;31mParserError\u001b[0m                          Traceback (most recent call last)",
      "\u001b[0;32m<ipython-input-115-faf244c9f924>\u001b[0m in \u001b[0;36m<module>\u001b[0;34m\u001b[0m\n\u001b[0;32m----> 1\u001b[0;31m \u001b[0mmaster_df\u001b[0m \u001b[0;34m=\u001b[0m \u001b[0mpd\u001b[0m\u001b[0;34m.\u001b[0m\u001b[0mread_csv\u001b[0m\u001b[0;34m(\u001b[0m\u001b[0;34m\"baywheels_master.csv\"\u001b[0m\u001b[0;34m,\u001b[0m \u001b[0mlow_memory\u001b[0m\u001b[0;34m=\u001b[0m\u001b[0;32mFalse\u001b[0m\u001b[0;34m)\u001b[0m\u001b[0;34m\u001b[0m\u001b[0;34m\u001b[0m\u001b[0m\n\u001b[0m\u001b[1;32m      2\u001b[0m \u001b[0mmaster_df\u001b[0m\u001b[0;34m.\u001b[0m\u001b[0mhead\u001b[0m\u001b[0;34m(\u001b[0m\u001b[0;34m)\u001b[0m\u001b[0;34m\u001b[0m\u001b[0;34m\u001b[0m\u001b[0m\n",
      "\u001b[0;32m~/anaconda3/lib/python3.7/site-packages/pandas/io/parsers.py\u001b[0m in \u001b[0;36mparser_f\u001b[0;34m(filepath_or_buffer, sep, delimiter, header, names, index_col, usecols, squeeze, prefix, mangle_dupe_cols, dtype, engine, converters, true_values, false_values, skipinitialspace, skiprows, nrows, na_values, keep_default_na, na_filter, verbose, skip_blank_lines, parse_dates, infer_datetime_format, keep_date_col, date_parser, dayfirst, iterator, chunksize, compression, thousands, decimal, lineterminator, quotechar, quoting, escapechar, comment, encoding, dialect, tupleize_cols, error_bad_lines, warn_bad_lines, skipfooter, doublequote, delim_whitespace, low_memory, memory_map, float_precision)\u001b[0m\n\u001b[1;32m    676\u001b[0m                     skip_blank_lines=skip_blank_lines)\n\u001b[1;32m    677\u001b[0m \u001b[0;34m\u001b[0m\u001b[0m\n\u001b[0;32m--> 678\u001b[0;31m         \u001b[0;32mreturn\u001b[0m \u001b[0m_read\u001b[0m\u001b[0;34m(\u001b[0m\u001b[0mfilepath_or_buffer\u001b[0m\u001b[0;34m,\u001b[0m \u001b[0mkwds\u001b[0m\u001b[0;34m)\u001b[0m\u001b[0;34m\u001b[0m\u001b[0;34m\u001b[0m\u001b[0m\n\u001b[0m\u001b[1;32m    679\u001b[0m \u001b[0;34m\u001b[0m\u001b[0m\n\u001b[1;32m    680\u001b[0m     \u001b[0mparser_f\u001b[0m\u001b[0;34m.\u001b[0m\u001b[0m__name__\u001b[0m \u001b[0;34m=\u001b[0m \u001b[0mname\u001b[0m\u001b[0;34m\u001b[0m\u001b[0;34m\u001b[0m\u001b[0m\n",
      "\u001b[0;32m~/anaconda3/lib/python3.7/site-packages/pandas/io/parsers.py\u001b[0m in \u001b[0;36m_read\u001b[0;34m(filepath_or_buffer, kwds)\u001b[0m\n\u001b[1;32m    444\u001b[0m \u001b[0;34m\u001b[0m\u001b[0m\n\u001b[1;32m    445\u001b[0m     \u001b[0;32mtry\u001b[0m\u001b[0;34m:\u001b[0m\u001b[0;34m\u001b[0m\u001b[0;34m\u001b[0m\u001b[0m\n\u001b[0;32m--> 446\u001b[0;31m         \u001b[0mdata\u001b[0m \u001b[0;34m=\u001b[0m \u001b[0mparser\u001b[0m\u001b[0;34m.\u001b[0m\u001b[0mread\u001b[0m\u001b[0;34m(\u001b[0m\u001b[0mnrows\u001b[0m\u001b[0;34m)\u001b[0m\u001b[0;34m\u001b[0m\u001b[0;34m\u001b[0m\u001b[0m\n\u001b[0m\u001b[1;32m    447\u001b[0m     \u001b[0;32mfinally\u001b[0m\u001b[0;34m:\u001b[0m\u001b[0;34m\u001b[0m\u001b[0;34m\u001b[0m\u001b[0m\n\u001b[1;32m    448\u001b[0m         \u001b[0mparser\u001b[0m\u001b[0;34m.\u001b[0m\u001b[0mclose\u001b[0m\u001b[0;34m(\u001b[0m\u001b[0;34m)\u001b[0m\u001b[0;34m\u001b[0m\u001b[0;34m\u001b[0m\u001b[0m\n",
      "\u001b[0;32m~/anaconda3/lib/python3.7/site-packages/pandas/io/parsers.py\u001b[0m in \u001b[0;36mread\u001b[0;34m(self, nrows)\u001b[0m\n\u001b[1;32m   1034\u001b[0m                 \u001b[0;32mraise\u001b[0m \u001b[0mValueError\u001b[0m\u001b[0;34m(\u001b[0m\u001b[0;34m'skipfooter not supported for iteration'\u001b[0m\u001b[0;34m)\u001b[0m\u001b[0;34m\u001b[0m\u001b[0;34m\u001b[0m\u001b[0m\n\u001b[1;32m   1035\u001b[0m \u001b[0;34m\u001b[0m\u001b[0m\n\u001b[0;32m-> 1036\u001b[0;31m         \u001b[0mret\u001b[0m \u001b[0;34m=\u001b[0m \u001b[0mself\u001b[0m\u001b[0;34m.\u001b[0m\u001b[0m_engine\u001b[0m\u001b[0;34m.\u001b[0m\u001b[0mread\u001b[0m\u001b[0;34m(\u001b[0m\u001b[0mnrows\u001b[0m\u001b[0;34m)\u001b[0m\u001b[0;34m\u001b[0m\u001b[0;34m\u001b[0m\u001b[0m\n\u001b[0m\u001b[1;32m   1037\u001b[0m \u001b[0;34m\u001b[0m\u001b[0m\n\u001b[1;32m   1038\u001b[0m         \u001b[0;31m# May alter columns / col_dict\u001b[0m\u001b[0;34m\u001b[0m\u001b[0;34m\u001b[0m\u001b[0;34m\u001b[0m\u001b[0m\n",
      "\u001b[0;32m~/anaconda3/lib/python3.7/site-packages/pandas/io/parsers.py\u001b[0m in \u001b[0;36mread\u001b[0;34m(self, nrows)\u001b[0m\n\u001b[1;32m   1846\u001b[0m     \u001b[0;32mdef\u001b[0m \u001b[0mread\u001b[0m\u001b[0;34m(\u001b[0m\u001b[0mself\u001b[0m\u001b[0;34m,\u001b[0m \u001b[0mnrows\u001b[0m\u001b[0;34m=\u001b[0m\u001b[0;32mNone\u001b[0m\u001b[0;34m)\u001b[0m\u001b[0;34m:\u001b[0m\u001b[0;34m\u001b[0m\u001b[0;34m\u001b[0m\u001b[0m\n\u001b[1;32m   1847\u001b[0m         \u001b[0;32mtry\u001b[0m\u001b[0;34m:\u001b[0m\u001b[0;34m\u001b[0m\u001b[0;34m\u001b[0m\u001b[0m\n\u001b[0;32m-> 1848\u001b[0;31m             \u001b[0mdata\u001b[0m \u001b[0;34m=\u001b[0m \u001b[0mself\u001b[0m\u001b[0;34m.\u001b[0m\u001b[0m_reader\u001b[0m\u001b[0;34m.\u001b[0m\u001b[0mread\u001b[0m\u001b[0;34m(\u001b[0m\u001b[0mnrows\u001b[0m\u001b[0;34m)\u001b[0m\u001b[0;34m\u001b[0m\u001b[0;34m\u001b[0m\u001b[0m\n\u001b[0m\u001b[1;32m   1849\u001b[0m         \u001b[0;32mexcept\u001b[0m \u001b[0mStopIteration\u001b[0m\u001b[0;34m:\u001b[0m\u001b[0;34m\u001b[0m\u001b[0;34m\u001b[0m\u001b[0m\n\u001b[1;32m   1850\u001b[0m             \u001b[0;32mif\u001b[0m \u001b[0mself\u001b[0m\u001b[0;34m.\u001b[0m\u001b[0m_first_chunk\u001b[0m\u001b[0;34m:\u001b[0m\u001b[0;34m\u001b[0m\u001b[0;34m\u001b[0m\u001b[0m\n",
      "\u001b[0;32mpandas/_libs/parsers.pyx\u001b[0m in \u001b[0;36mpandas._libs.parsers.TextReader.read\u001b[0;34m()\u001b[0m\n",
      "\u001b[0;32mpandas/_libs/parsers.pyx\u001b[0m in \u001b[0;36mpandas._libs.parsers.TextReader._read_rows\u001b[0;34m()\u001b[0m\n",
      "\u001b[0;32mpandas/_libs/parsers.pyx\u001b[0m in \u001b[0;36mpandas._libs.parsers.raise_parser_error\u001b[0;34m()\u001b[0m\n",
      "\u001b[0;31mParserError\u001b[0m: Error tokenizing data. C error: out of memory"
     ]
    }
   ],
   "source": [
    "master_df = pd.read_csv(\"baywheels_master.csv\", low_memory=False)\n",
    "master_df.head()"
   ]
  },
  {
   "cell_type": "code",
   "execution_count": 4,
   "metadata": {},
   "outputs": [
    {
     "data": {
      "text/plain": [
       "(1244839, 17)"
      ]
     },
     "execution_count": 4,
     "metadata": {},
     "output_type": "execute_result"
    }
   ],
   "source": [
    "master_df.shape"
   ]
  },
  {
   "cell_type": "code",
   "execution_count": 5,
   "metadata": {
    "scrolled": false
   },
   "outputs": [
    {
     "name": "stdout",
     "output_type": "stream",
     "text": [
      "<class 'pandas.core.frame.DataFrame'>\n",
      "RangeIndex: 1244839 entries, 0 to 1244838\n",
      "Data columns (total 17 columns):\n",
      "duration_sec               1244839 non-null int64\n",
      "start_time                 1244839 non-null object\n",
      "end_time                   1244839 non-null object\n",
      "start_station_id           1241934 non-null float64\n",
      "start_station_name         1241934 non-null object\n",
      "start_station_latitude     1244839 non-null float64\n",
      "start_station_longitude    1244839 non-null float64\n",
      "end_station_id             1241832 non-null float64\n",
      "end_station_name           1241832 non-null object\n",
      "end_station_latitude       1244839 non-null float64\n",
      "end_station_longitude      1244839 non-null float64\n",
      "bike_id                    1244839 non-null int64\n",
      "user_type                  1244839 non-null object\n",
      "member_birth_year          1176326 non-null float64\n",
      "member_gender              1176550 non-null object\n",
      "bike_share_for_all_trip    1240946 non-null object\n",
      "rental_access_method       3893 non-null object\n",
      "dtypes: float64(7), int64(2), object(8)\n",
      "memory usage: 161.5+ MB\n"
     ]
    }
   ],
   "source": [
    "master_df.info()"
   ]
  },
  {
   "cell_type": "markdown",
   "metadata": {},
   "source": [
    "The start and end times are not in datetime format. This needs a change."
   ]
  },
  {
   "cell_type": "markdown",
   "metadata": {},
   "source": [
    "We can notice that there are a lot of missing values in 'rental_access_method'. So we can drop the column."
   ]
  },
  {
   "cell_type": "code",
   "execution_count": 6,
   "metadata": {
    "scrolled": true
   },
   "outputs": [
    {
     "data": {
      "text/html": [
       "<div>\n",
       "<style scoped>\n",
       "    .dataframe tbody tr th:only-of-type {\n",
       "        vertical-align: middle;\n",
       "    }\n",
       "\n",
       "    .dataframe tbody tr th {\n",
       "        vertical-align: top;\n",
       "    }\n",
       "\n",
       "    .dataframe thead th {\n",
       "        text-align: right;\n",
       "    }\n",
       "</style>\n",
       "<table border=\"1\" class=\"dataframe\">\n",
       "  <thead>\n",
       "    <tr style=\"text-align: right;\">\n",
       "      <th></th>\n",
       "      <th>duration_sec</th>\n",
       "      <th>start_station_id</th>\n",
       "      <th>start_station_latitude</th>\n",
       "      <th>start_station_longitude</th>\n",
       "      <th>end_station_id</th>\n",
       "      <th>end_station_latitude</th>\n",
       "      <th>end_station_longitude</th>\n",
       "      <th>bike_id</th>\n",
       "      <th>member_birth_year</th>\n",
       "    </tr>\n",
       "  </thead>\n",
       "  <tbody>\n",
       "    <tr>\n",
       "      <th>count</th>\n",
       "      <td>1.244839e+06</td>\n",
       "      <td>1.241934e+06</td>\n",
       "      <td>1.244839e+06</td>\n",
       "      <td>1.244839e+06</td>\n",
       "      <td>1.241832e+06</td>\n",
       "      <td>1.244839e+06</td>\n",
       "      <td>1.244839e+06</td>\n",
       "      <td>1.244839e+06</td>\n",
       "      <td>1.176326e+06</td>\n",
       "    </tr>\n",
       "    <tr>\n",
       "      <th>mean</th>\n",
       "      <td>7.889839e+02</td>\n",
       "      <td>1.395057e+02</td>\n",
       "      <td>3.776890e+01</td>\n",
       "      <td>-1.223526e+02</td>\n",
       "      <td>1.377684e+02</td>\n",
       "      <td>3.776855e+01</td>\n",
       "      <td>-1.223505e+02</td>\n",
       "      <td>4.924267e+03</td>\n",
       "      <td>1.984696e+03</td>\n",
       "    </tr>\n",
       "    <tr>\n",
       "      <th>std</th>\n",
       "      <td>1.898254e+03</td>\n",
       "      <td>1.149337e+02</td>\n",
       "      <td>1.078549e-01</td>\n",
       "      <td>1.680105e-01</td>\n",
       "      <td>1.147682e+02</td>\n",
       "      <td>1.763340e-01</td>\n",
       "      <td>4.822376e-01</td>\n",
       "      <td>2.696151e+04</td>\n",
       "      <td>1.011578e+01</td>\n",
       "    </tr>\n",
       "    <tr>\n",
       "      <th>min</th>\n",
       "      <td>6.000000e+01</td>\n",
       "      <td>3.000000e+00</td>\n",
       "      <td>0.000000e+00</td>\n",
       "      <td>-1.224537e+02</td>\n",
       "      <td>3.000000e+00</td>\n",
       "      <td>0.000000e+00</td>\n",
       "      <td>-1.224537e+02</td>\n",
       "      <td>1.100000e+01</td>\n",
       "      <td>1.878000e+03</td>\n",
       "    </tr>\n",
       "    <tr>\n",
       "      <th>25%</th>\n",
       "      <td>3.450000e+02</td>\n",
       "      <td>4.400000e+01</td>\n",
       "      <td>3.777008e+01</td>\n",
       "      <td>-1.224125e+02</td>\n",
       "      <td>4.300000e+01</td>\n",
       "      <td>3.777041e+01</td>\n",
       "      <td>-1.224117e+02</td>\n",
       "      <td>1.832000e+03</td>\n",
       "      <td>1.980000e+03</td>\n",
       "    </tr>\n",
       "    <tr>\n",
       "      <th>50%</th>\n",
       "      <td>5.500000e+02</td>\n",
       "      <td>1.010000e+02</td>\n",
       "      <td>3.778076e+01</td>\n",
       "      <td>-1.223984e+02</td>\n",
       "      <td>9.900000e+01</td>\n",
       "      <td>3.778095e+01</td>\n",
       "      <td>-1.223981e+02</td>\n",
       "      <td>3.614000e+03</td>\n",
       "      <td>1.987000e+03</td>\n",
       "    </tr>\n",
       "    <tr>\n",
       "      <th>75%</th>\n",
       "      <td>8.600000e+02</td>\n",
       "      <td>2.380000e+02</td>\n",
       "      <td>3.779647e+01</td>\n",
       "      <td>-1.222914e+02</td>\n",
       "      <td>2.320000e+02</td>\n",
       "      <td>3.779728e+01</td>\n",
       "      <td>-1.222914e+02</td>\n",
       "      <td>5.296000e+03</td>\n",
       "      <td>1.992000e+03</td>\n",
       "    </tr>\n",
       "    <tr>\n",
       "      <th>max</th>\n",
       "      <td>8.611400e+04</td>\n",
       "      <td>4.430000e+02</td>\n",
       "      <td>4.551000e+01</td>\n",
       "      <td>0.000000e+00</td>\n",
       "      <td>4.430000e+02</td>\n",
       "      <td>4.551000e+01</td>\n",
       "      <td>0.000000e+00</td>\n",
       "      <td>9.851100e+05</td>\n",
       "      <td>2.001000e+03</td>\n",
       "    </tr>\n",
       "  </tbody>\n",
       "</table>\n",
       "</div>"
      ],
      "text/plain": [
       "       duration_sec  start_station_id  start_station_latitude  \\\n",
       "count  1.244839e+06      1.241934e+06            1.244839e+06   \n",
       "mean   7.889839e+02      1.395057e+02            3.776890e+01   \n",
       "std    1.898254e+03      1.149337e+02            1.078549e-01   \n",
       "min    6.000000e+01      3.000000e+00            0.000000e+00   \n",
       "25%    3.450000e+02      4.400000e+01            3.777008e+01   \n",
       "50%    5.500000e+02      1.010000e+02            3.778076e+01   \n",
       "75%    8.600000e+02      2.380000e+02            3.779647e+01   \n",
       "max    8.611400e+04      4.430000e+02            4.551000e+01   \n",
       "\n",
       "       start_station_longitude  end_station_id  end_station_latitude  \\\n",
       "count             1.244839e+06    1.241832e+06          1.244839e+06   \n",
       "mean             -1.223526e+02    1.377684e+02          3.776855e+01   \n",
       "std               1.680105e-01    1.147682e+02          1.763340e-01   \n",
       "min              -1.224537e+02    3.000000e+00          0.000000e+00   \n",
       "25%              -1.224125e+02    4.300000e+01          3.777041e+01   \n",
       "50%              -1.223984e+02    9.900000e+01          3.778095e+01   \n",
       "75%              -1.222914e+02    2.320000e+02          3.779728e+01   \n",
       "max               0.000000e+00    4.430000e+02          4.551000e+01   \n",
       "\n",
       "       end_station_longitude       bike_id  member_birth_year  \n",
       "count           1.244839e+06  1.244839e+06       1.176326e+06  \n",
       "mean           -1.223505e+02  4.924267e+03       1.984696e+03  \n",
       "std             4.822376e-01  2.696151e+04       1.011578e+01  \n",
       "min            -1.224537e+02  1.100000e+01       1.878000e+03  \n",
       "25%            -1.224117e+02  1.832000e+03       1.980000e+03  \n",
       "50%            -1.223981e+02  3.614000e+03       1.987000e+03  \n",
       "75%            -1.222914e+02  5.296000e+03       1.992000e+03  \n",
       "max             0.000000e+00  9.851100e+05       2.001000e+03  "
      ]
     },
     "execution_count": 6,
     "metadata": {},
     "output_type": "execute_result"
    }
   ],
   "source": [
    "master_df.describe()"
   ]
  },
  {
   "cell_type": "markdown",
   "metadata": {},
   "source": [
    "The birth year of some users seem to be wrong. For example, 1896 might be a wrong birth year. The user can't be more than a 100 years of age!"
   ]
  },
  {
   "cell_type": "code",
   "execution_count": 7,
   "metadata": {},
   "outputs": [],
   "source": [
    "rental_access = master_df[master_df.rental_access_method.notnull()].rental_access_method.value_counts()"
   ]
  },
  {
   "cell_type": "code",
   "execution_count": 8,
   "metadata": {
    "scrolled": true
   },
   "outputs": [
    {
     "data": {
      "image/png": "[encoded data removed]",
      "text/plain": [
       "<Figure size 432x288 with 1 Axes>"
      ]
     },
     "metadata": {
      "needs_background": "light"
     },
     "output_type": "display_data"
    }
   ],
   "source": [
    "sb.barplot(rental_access.index, rental_access);"
   ]
  },
  {
   "cell_type": "markdown",
   "metadata": {},
   "source": [
    "Of the 3893 records that we have for rental_access_method, it seems most of the bookings came via the app. But since the number is less compared to the total records that we have, it might not be the right result."
   ]
  },
  {
   "cell_type": "code",
   "execution_count": 9,
   "metadata": {
    "scrolled": true
   },
   "outputs": [
    {
     "data": {
      "text/plain": [
       "duration_sec                     0\n",
       "start_time                       0\n",
       "end_time                         0\n",
       "start_station_id              2905\n",
       "start_station_name            2905\n",
       "start_station_latitude           0\n",
       "start_station_longitude          0\n",
       "end_station_id                3007\n",
       "end_station_name              3007\n",
       "end_station_latitude             0\n",
       "end_station_longitude            0\n",
       "bike_id                          0\n",
       "user_type                        0\n",
       "member_birth_year            68513\n",
       "member_gender                68289\n",
       "bike_share_for_all_trip       3893\n",
       "rental_access_method       1240946\n",
       "dtype: int64"
      ]
     },
     "execution_count": 9,
     "metadata": {},
     "output_type": "execute_result"
    }
   ],
   "source": [
    "master_df.isnull().sum()"
   ]
  },
  {
   "cell_type": "markdown",
   "metadata": {},
   "source": [
    "The missing values of age and gender is a lot. Rental access method is a lot more missing. So we can drop the column."
   ]
  },
  {
   "cell_type": "code",
   "execution_count": 10,
   "metadata": {},
   "outputs": [
    {
     "data": {
      "text/plain": [
       "0"
      ]
     },
     "execution_count": 10,
     "metadata": {},
     "output_type": "execute_result"
    }
   ],
   "source": [
    "master_df.duplicated().sum()"
   ]
  },
  {
   "cell_type": "markdown",
   "metadata": {},
   "source": [
    "There are no duplicates! Nice!"
   ]
  },
  {
   "cell_type": "markdown",
   "metadata": {},
   "source": [
    "## Data Cleaning\n",
    "\n",
    "There seems to be a few quality issues with the data. The following are a few:\n",
    "1. The start/end time should be in timestamp datatype. Birth year should be in integer\n",
    "2. The gender, user_type, bike-share-for-all can be categorical data\n",
    "3. Birth years might be wrong, since some users are more than 100 years of age.\n",
    "4. The latitudes and longitudes are not readable by users. Need to calculate the distance travelled.\n",
    "5. Delete the rental access method"
   ]
  },
  {
   "cell_type": "code",
   "execution_count": 11,
   "metadata": {},
   "outputs": [],
   "source": [
    "master_cleaned = master_df.copy()"
   ]
  },
  {
   "cell_type": "markdown",
   "metadata": {},
   "source": [
    "**The start/end time should be in timestamp datatype.**"
   ]
  },
  {
   "cell_type": "markdown",
   "metadata": {},
   "source": [
    "**Code:**"
   ]
  },
  {
   "cell_type": "code",
   "execution_count": 12,
   "metadata": {},
   "outputs": [],
   "source": [
    "master_cleaned.start_time = pd.to_datetime(master_cleaned.start_time)\n",
    "master_cleaned.end_time = pd.to_datetime(master_cleaned.end_time)"
   ]
  },
  {
   "cell_type": "code",
   "execution_count": 13,
   "metadata": {},
   "outputs": [],
   "source": [
    "master_cleaned.bike_id = master_cleaned.bike_id.astype(str)"
   ]
  },
  {
   "cell_type": "code",
   "execution_count": 14,
   "metadata": {},
   "outputs": [],
   "source": [
    "master_cleaned.start_station_id = master_cleaned.start_station_id.astype(str)\n",
    "master_cleaned.end_station_id = master_cleaned.end_station_id.astype(str)"
   ]
  },
  {
   "cell_type": "markdown",
   "metadata": {},
   "source": [
    "**Test**"
   ]
  },
  {
   "cell_type": "code",
   "execution_count": 15,
   "metadata": {},
   "outputs": [
    {
     "name": "stdout",
     "output_type": "stream",
     "text": [
      "<class 'pandas.core.frame.DataFrame'>\n",
      "RangeIndex: 1244839 entries, 0 to 1244838\n",
      "Data columns (total 17 columns):\n",
      "duration_sec               1244839 non-null int64\n",
      "start_time                 1244839 non-null datetime64[ns]\n",
      "end_time                   1244839 non-null datetime64[ns]\n",
      "start_station_id           1244839 non-null object\n",
      "start_station_name         1241934 non-null object\n",
      "start_station_latitude     1244839 non-null float64\n",
      "start_station_longitude    1244839 non-null float64\n",
      "end_station_id             1244839 non-null object\n",
      "end_station_name           1241832 non-null object\n",
      "end_station_latitude       1244839 non-null float64\n",
      "end_station_longitude      1244839 non-null float64\n",
      "bike_id                    1244839 non-null object\n",
      "user_type                  1244839 non-null object\n",
      "member_birth_year          1176326 non-null float64\n",
      "member_gender              1176550 non-null object\n",
      "bike_share_for_all_trip    1240946 non-null object\n",
      "rental_access_method       3893 non-null object\n",
      "dtypes: datetime64[ns](2), float64(5), int64(1), object(9)\n",
      "memory usage: 161.5+ MB\n"
     ]
    }
   ],
   "source": [
    "master_cleaned.info()"
   ]
  },
  {
   "cell_type": "code",
   "execution_count": 16,
   "metadata": {},
   "outputs": [
    {
     "data": {
      "text/plain": [
       "67.0    25821\n",
       "58.0    24535\n",
       "15.0    21248\n",
       "81.0    20865\n",
       "21.0    19328\n",
       "3.0     18771\n",
       "5.0     16863\n",
       "30.0    16845\n",
       "16.0    16541\n",
       "6.0     15409\n",
       "22.0    15380\n",
       "50.0    12913\n",
       "66.0    12310\n",
       "27.0    11748\n",
       "17.0    11657\n",
       "44.0    11553\n",
       "93.0    10891\n",
       "90.0    10853\n",
       "23.0    10230\n",
       "61.0     9557\n",
       "Name: start_station_id, dtype: int64"
      ]
     },
     "execution_count": 16,
     "metadata": {},
     "output_type": "execute_result"
    }
   ],
   "source": [
    "master_cleaned.start_station_id.value_counts().head(20)"
   ]
  },
  {
   "cell_type": "markdown",
   "metadata": {},
   "source": [
    "**The gender, user_type, bike-share-for-all can be categorical data**"
   ]
  },
  {
   "cell_type": "markdown",
   "metadata": {},
   "source": [
    "**Code:**"
   ]
  },
  {
   "cell_type": "code",
   "execution_count": 17,
   "metadata": {},
   "outputs": [],
   "source": [
    "master_cleaned.member_gender = master_cleaned.member_gender.astype('category')\n",
    "master_cleaned.user_type = master_cleaned.user_type.astype('category')\n",
    "master_cleaned.bike_share_for_all_trip = master_cleaned.bike_share_for_all_trip.astype('category')"
   ]
  },
  {
   "cell_type": "code",
   "execution_count": 18,
   "metadata": {},
   "outputs": [
    {
     "name": "stdout",
     "output_type": "stream",
     "text": [
      "<class 'pandas.core.frame.DataFrame'>\n",
      "RangeIndex: 1244839 entries, 0 to 1244838\n",
      "Data columns (total 17 columns):\n",
      "duration_sec               1244839 non-null int64\n",
      "start_time                 1244839 non-null datetime64[ns]\n",
      "end_time                   1244839 non-null datetime64[ns]\n",
      "start_station_id           1244839 non-null object\n",
      "start_station_name         1241934 non-null object\n",
      "start_station_latitude     1244839 non-null float64\n",
      "start_station_longitude    1244839 non-null float64\n",
      "end_station_id             1244839 non-null object\n",
      "end_station_name           1241832 non-null object\n",
      "end_station_latitude       1244839 non-null float64\n",
      "end_station_longitude      1244839 non-null float64\n",
      "bike_id                    1244839 non-null object\n",
      "user_type                  1244839 non-null category\n",
      "member_birth_year          1176326 non-null float64\n",
      "member_gender              1176550 non-null category\n",
      "bike_share_for_all_trip    1240946 non-null category\n",
      "rental_access_method       3893 non-null object\n",
      "dtypes: category(3), datetime64[ns](2), float64(5), int64(1), object(6)\n",
      "memory usage: 136.5+ MB\n"
     ]
    }
   ],
   "source": [
    "master_cleaned.info()"
   ]
  },
  {
   "cell_type": "markdown",
   "metadata": {},
   "source": [
    "**Birth years might be wrong, since some users are more than 100 years of age.**"
   ]
  },
  {
   "cell_type": "code",
   "execution_count": 20,
   "metadata": {},
   "outputs": [],
   "source": [
    "master_cleaned['member_age'] = datetime.datetime.now().year - master_cleaned.member_birth_year"
   ]
  },
  {
   "cell_type": "code",
   "execution_count": 22,
   "metadata": {},
   "outputs": [
    {
     "data": {
      "text/plain": [
       "99.61838809989747"
      ]
     },
     "execution_count": 22,
     "metadata": {},
     "output_type": "execute_result"
    }
   ],
   "source": [
    "age_less_than_60 = len(master_cleaned.query('member_age < 70'))\n",
    "age_less_than_60*100/1176326"
   ]
  },
  {
   "cell_type": "code",
   "execution_count": 23,
   "metadata": {},
   "outputs": [
    {
     "data": {
      "text/html": [
       "<div>\n",
       "<style scoped>\n",
       "    .dataframe tbody tr th:only-of-type {\n",
       "        vertical-align: middle;\n",
       "    }\n",
       "\n",
       "    .dataframe tbody tr th {\n",
       "        vertical-align: top;\n",
       "    }\n",
       "\n",
       "    .dataframe thead th {\n",
       "        text-align: right;\n",
       "    }\n",
       "</style>\n",
       "<table border=\"1\" class=\"dataframe\">\n",
       "  <thead>\n",
       "    <tr style=\"text-align: right;\">\n",
       "      <th></th>\n",
       "      <th>member_birth_year</th>\n",
       "      <th>member_age</th>\n",
       "    </tr>\n",
       "  </thead>\n",
       "  <tbody>\n",
       "    <tr>\n",
       "      <th>0</th>\n",
       "      <td>1989.0</td>\n",
       "      <td>30.0</td>\n",
       "    </tr>\n",
       "    <tr>\n",
       "      <th>1</th>\n",
       "      <td>1989.0</td>\n",
       "      <td>30.0</td>\n",
       "    </tr>\n",
       "    <tr>\n",
       "      <th>2</th>\n",
       "      <td>1965.0</td>\n",
       "      <td>54.0</td>\n",
       "    </tr>\n",
       "    <tr>\n",
       "      <th>3</th>\n",
       "      <td>1974.0</td>\n",
       "      <td>45.0</td>\n",
       "    </tr>\n",
       "    <tr>\n",
       "      <th>4</th>\n",
       "      <td>NaN</td>\n",
       "      <td>NaN</td>\n",
       "    </tr>\n",
       "  </tbody>\n",
       "</table>\n",
       "</div>"
      ],
      "text/plain": [
       "   member_birth_year  member_age\n",
       "0             1989.0        30.0\n",
       "1             1989.0        30.0\n",
       "2             1965.0        54.0\n",
       "3             1974.0        45.0\n",
       "4                NaN         NaN"
      ]
     },
     "execution_count": 23,
     "metadata": {},
     "output_type": "execute_result"
    }
   ],
   "source": [
    "master_cleaned[['member_birth_year', 'member_age']].head()"
   ]
  },
  {
   "cell_type": "code",
   "execution_count": 24,
   "metadata": {
    "scrolled": true
   },
   "outputs": [
    {
     "data": {
      "text/plain": [
       "Text(0.5, 0, 'Age')"
      ]
     },
     "execution_count": 24,
     "metadata": {},
     "output_type": "execute_result"
    },
    {
     "data": {
      "image/png": "[encoded data removed]",
      "text/plain": [
       "<Figure size 864x432 with 1 Axes>"
      ]
     },
     "metadata": {
      "needs_background": "light"
     },
     "output_type": "display_data"
    }
   ],
   "source": [
    "plt.figure(figsize=(12,6))\n",
    "sb.boxplot(x='member_age', data=master_cleaned, palette='copper', orient='h')\n",
    "plt.title(\"The age distribution of Members\", fontsize=15)\n",
    "plt.xlabel(\"Age\")"
   ]
  },
  {
   "cell_type": "markdown",
   "metadata": {},
   "source": [
    "Since most of the users are below the age of 70, we can forget the rest of the data."
   ]
  },
  {
   "cell_type": "code",
   "execution_count": 25,
   "metadata": {},
   "outputs": [],
   "source": [
    "master_cleaned[master_cleaned.member_age > 70] = None"
   ]
  },
  {
   "cell_type": "markdown",
   "metadata": {},
   "source": [
    "**Test:**"
   ]
  },
  {
   "cell_type": "code",
   "execution_count": 26,
   "metadata": {
    "scrolled": true
   },
   "outputs": [
    {
     "data": {
      "text/plain": [
       "Text(0.5, 0, 'Age')"
      ]
     },
     "execution_count": 26,
     "metadata": {},
     "output_type": "execute_result"
    },
    {
     "data": {
      "image/png": "[encoded data removed]",
      "text/plain": [
       "<Figure size 864x432 with 1 Axes>"
      ]
     },
     "metadata": {
      "needs_background": "light"
     },
     "output_type": "display_data"
    }
   ],
   "source": [
    "plt.figure(figsize=(12,6))\n",
    "sb.boxplot(x='member_age', data=master_cleaned, palette='copper', orient='h')\n",
    "plt.title(\"The age distribution of Members\", fontsize=15)\n",
    "plt.xlabel(\"Age\")"
   ]
  },
  {
   "cell_type": "markdown",
   "metadata": {},
   "source": [
    "**The latitudes and longitudes are not readable by users. Need to calculate the distance travelled.*"
   ]
  },
  {
   "cell_type": "markdown",
   "metadata": {},
   "source": [
    "**Code:**<br>\n",
    "Let us start by creating a function that gives the distance in kilometers"
   ]
  },
  {
   "cell_type": "code",
   "execution_count": 27,
   "metadata": {},
   "outputs": [],
   "source": [
    "# function to calculate the distance from coordinates\n",
    "def calculate_distance(latitude1, latitude2, longitude1, longitude2):\n",
    "    # approximate radius of earth in km\n",
    "    R = 6373.0\n",
    "    \n",
    "    try:\n",
    "        lat1 = radians(latitude1)\n",
    "        lon1 = radians(longitude1)\n",
    "        lat2 = radians(latitude2)\n",
    "        lon2 = radians(longitude2)\n",
    "    #coversion to radians\n",
    "    except:\n",
    "        # if the coordinates are Null\n",
    "        return None\n",
    "\n",
    "    dlon = lon2 - lon1\n",
    "    dlat = lat2 - lat1\n",
    "    #difference in the coordinates \n",
    "\n",
    "    a = sin(dlat / 2)**2 + cos(lat1) * cos(lat2) * sin(dlon / 2)**2\n",
    "    c = 2 * atan2(sqrt(a), sqrt(1 - a))\n",
    "\n",
    "    distance = R * c\n",
    "    return distance"
   ]
  },
  {
   "cell_type": "code",
   "execution_count": 28,
   "metadata": {},
   "outputs": [],
   "source": [
    "master_cleaned['distance_travelled'] = master_cleaned.apply(lambda x: calculate_distance(x['start_station_latitude'],\n",
    "                                                                                        x['end_station_latitude'],\n",
    "                                                                                        x['start_station_longitude'],\n",
    "                                                                                        x['end_station_longitude']),axis=1)"
   ]
  },
  {
   "cell_type": "code",
   "execution_count": 29,
   "metadata": {
    "scrolled": true
   },
   "outputs": [
    {
     "data": {
      "text/plain": [
       "count    1.241118e+06\n",
       "mean     1.899664e+00\n",
       "std      5.008328e+01\n",
       "min      0.000000e+00\n",
       "25%      9.238689e-01\n",
       "50%      1.454068e+00\n",
       "75%      2.246844e+00\n",
       "max      1.280236e+04\n",
       "Name: distance_travelled, dtype: float64"
      ]
     },
     "execution_count": 29,
     "metadata": {},
     "output_type": "execute_result"
    }
   ],
   "source": [
    "master_cleaned.describe()['distance_travelled']"
   ]
  },
  {
   "cell_type": "code",
   "execution_count": 33,
   "metadata": {},
   "outputs": [
    {
     "data": {
      "text/plain": [
       "count    1.241118e+06\n",
       "mean     1.899658e+00\n",
       "std      5.008328e+01\n",
       "min      0.000000e+00\n",
       "25%      9.240000e-01\n",
       "50%      1.454000e+00\n",
       "75%      2.247000e+00\n",
       "max      1.280236e+04\n",
       "Name: distance_travelled, dtype: float64"
      ]
     },
     "execution_count": 33,
     "metadata": {},
     "output_type": "execute_result"
    }
   ],
   "source": [
    "master_cleaned = master_cleaned.round({'distance_travelled':3})\n",
    "master_cleaned.describe().distance_travelled"
   ]
  },
  {
   "cell_type": "markdown",
   "metadata": {},
   "source": [
    "Now we can see that the distance was mostly less. The distance is calculated in kilometers"
   ]
  },
  {
   "cell_type": "markdown",
   "metadata": {},
   "source": [
    "**Delete the rental access method**<br>\n",
    "\n",
    "**Code:**"
   ]
  },
  {
   "cell_type": "code",
   "execution_count": 100,
   "metadata": {},
   "outputs": [],
   "source": [
    "master_cleaned.drop('rental_access_method', axis=1, inplace=True)"
   ]
  },
  {
   "cell_type": "markdown",
   "metadata": {},
   "source": [
    "**Test:**"
   ]
  },
  {
   "cell_type": "code",
   "execution_count": 101,
   "metadata": {
    "scrolled": true
   },
   "outputs": [
    {
     "name": "stdout",
     "output_type": "stream",
     "text": [
      "<class 'pandas.core.frame.DataFrame'>\n",
      "RangeIndex: 191772 entries, 0 to 191771\n",
      "Data columns (total 18 columns):\n",
      "duration_sec               191232 non-null float64\n",
      "start_time                 191232 non-null datetime64[ns]\n",
      "end_time                   191232 non-null datetime64[ns]\n",
      "start_station_id           191232 non-null object\n",
      "start_station_name         189072 non-null object\n",
      "start_station_latitude     191232 non-null float64\n",
      "start_station_longitude    191232 non-null float64\n",
      "end_station_id             191232 non-null object\n",
      "end_station_name           188970 non-null object\n",
      "end_station_latitude       191232 non-null float64\n",
      "end_station_longitude      191232 non-null float64\n",
      "bike_id                    191232 non-null object\n",
      "user_type                  191232 non-null category\n",
      "member_birth_year          172095 non-null float64\n",
      "member_gender              172313 non-null category\n",
      "bike_share_for_all_trip    187339 non-null category\n",
      "member_age                 172095 non-null float64\n",
      "distance_travelled         191232 non-null float64\n",
      "dtypes: category(3), datetime64[ns](2), float64(8), object(5)\n",
      "memory usage: 22.5+ MB\n"
     ]
    }
   ],
   "source": [
    "master_cleaned.info()"
   ]
  },
  {
   "cell_type": "markdown",
   "metadata": {},
   "source": [
    "**Store dataframe in new csv**"
   ]
  },
  {
   "cell_type": "code",
   "execution_count": 102,
   "metadata": {},
   "outputs": [],
   "source": [
    "master_cleaned.to_csv('baywheel_data_updated.csv', index=False)"
   ]
  },
  {
   "cell_type": "markdown",
   "metadata": {},
   "source": [
    "### What is the structure of your dataset?\n",
    "\n",
    "The dataset is a collection user rides data that provided the distance, time, station data with most of the data being clean. There are 191772 records dated for June 2019. This gives a very clear insight to the trends. Most values are numeric in the dataset.\n",
    "\n",
    "The following are the features present:\n",
    "1. Duration in seconds\n",
    "2. Start time              \n",
    "3. End_time                   \n",
    "4. Start_station_id           \n",
    "5. Start_station_name         \n",
    "6. Start_station_latitude     \n",
    "7. Start_station_longitude    \n",
    "8. End_station_id             \n",
    "9. End_station_name           \n",
    "10. End_station_latitude       \n",
    "11. End_station_longitude      \n",
    "12. Bike_id                    \n",
    "13. User_type                  \n",
    "14. Member_birth_year          \n",
    "15. Member_gender              \n",
    "16. Bike_share_for_all_trip    \n",
    "17. Member_age                 \n",
    "18. Distance_travelled\n",
    "\n",
    "### What is/are the main feature(s) of interest in your dataset?\n",
    "\n",
    "Some of the interesting features to look out for are:\n",
    "1. What age group is most prevalent in using the service.\n",
    "2. What is the most popular station and the popular destination.\n",
    "3. Does the distance travelled increase/decrease with age?\n",
    "4. Is the Bike share for all program taking off well?\n",
    "5. Is it the members or the casual customers that are using the service more\n",
    "\n",
    "### What features in the dataset do you think will help support your investigation into your feature(s) of interest?\n",
    "\n",
    "Any data that is part of the distance, station, user related fields and time will help in getting the insights. The data "
   ]
  },
  {
   "cell_type": "markdown",
   "metadata": {},
   "source": [
    "## Univariate Exploration\n",
    "\n",
    "> In this section, investigate distributions of individual variables. If\n",
    "you see unusual points or outliers, take a deeper look to clean things up\n",
    "and prepare yourself to look at relationships between variables."
   ]
  },
  {
   "cell_type": "code",
   "execution_count": null,
   "metadata": {},
   "outputs": [],
   "source": []
  },
  {
   "cell_type": "markdown",
   "metadata": {},
   "source": [
    "> Make sure that, after every plot or related series of plots, that you\n",
    "include a Markdown cell with comments about what you observed, and what\n",
    "you plan on investigating next."
   ]
  },
  {
   "cell_type": "code",
   "execution_count": null,
   "metadata": {},
   "outputs": [],
   "source": []
  },
  {
   "cell_type": "markdown",
   "metadata": {},
   "source": [
    "### Discuss the distribution(s) of your variable(s) of interest. Were there any unusual points? Did you need to perform any transformations?\n",
    "\n",
    "> Your answer here!\n",
    "\n",
    "### Of the features you investigated, were there any unusual distributions? Did you perform any operations on the data to tidy, adjust, or change the form of the data? If so, why did you do this?\n",
    "\n",
    "> Your answer here!"
   ]
  },
  {
   "cell_type": "markdown",
   "metadata": {},
   "source": [
    "## Bivariate Exploration\n",
    "\n",
    "> In this section, investigate relationships between pairs of variables in your\n",
    "data. Make sure the variables that you cover here have been introduced in some\n",
    "fashion in the previous section (univariate exploration)."
   ]
  },
  {
   "cell_type": "code",
   "execution_count": null,
   "metadata": {},
   "outputs": [],
   "source": []
  },
  {
   "cell_type": "markdown",
   "metadata": {},
   "source": [
    "### Talk about some of the relationships you observed in this part of the investigation. How did the feature(s) of interest vary with other features in the dataset?\n",
    "\n",
    "> Your answer here!\n",
    "\n",
    "### Did you observe any interesting relationships between the other features (not the main feature(s) of interest)?\n",
    "\n",
    "> Your answer here!"
   ]
  },
  {
   "cell_type": "markdown",
   "metadata": {},
   "source": [
    "## Multivariate Exploration\n",
    "\n",
    "> Create plots of three or more variables to investigate your data even\n",
    "further. Make sure that your investigations are justified, and follow from\n",
    "your work in the previous sections."
   ]
  },
  {
   "cell_type": "code",
   "execution_count": null,
   "metadata": {},
   "outputs": [],
   "source": []
  },
  {
   "cell_type": "markdown",
   "metadata": {},
   "source": [
    "### Talk about some of the relationships you observed in this part of the investigation. Were there features that strengthened each other in terms of looking at your feature(s) of interest?\n",
    "\n",
    "> Your answer here!\n",
    "\n",
    "### Were there any interesting or surprising interactions between features?\n",
    "\n",
    "> Your answer here!"
   ]
  },
  {
   "cell_type": "markdown",
   "metadata": {},
   "source": [
    "> At the end of your report, make sure that you export the notebook as an\n",
    "html file from the `File > Download as... > HTML` menu. Make sure you keep\n",
    "track of where the exported file goes, so you can put it in the same folder\n",
    "as this notebook for project submission. Also, make sure you remove all of\n",
    "the quote-formatted guide notes like this one before you finish your report!"
   ]
  },
  {
   "cell_type": "code",
   "execution_count": null,
   "metadata": {},
   "outputs": [],
   "source": []
  }
 ],
 "metadata": {
  "kernelspec": {
   "display_name": "Python 3",
   "language": "python",
   "name": "python3"
  },
  "language_info": {
   "codemirror_mode": {
    "name": "ipython",
    "version": 3
   },
   "file_extension": ".py",
   "mimetype": "text/x-python",
   "name": "python",
   "nbconvert_exporter": "python",
   "pygments_lexer": "ipython3",
   "version": "3.7.1"
  }
 },
 "nbformat": 4,
 "nbformat_minor": 2
}
