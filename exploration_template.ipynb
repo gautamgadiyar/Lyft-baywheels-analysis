{
 "cells": [
  {
   "cell_type": "markdown",
   "metadata": {},
   "source": [
    "# Lyft - Baywheels Data Exploration\n",
    "## by Gautam Gadiyar\n",
    "\n",
    "## Introduction\n",
    "> The Lyft - Baywheels is a Bike sharing company that rents out bikes to customers who may hire a bike from any nearest point. It was a partnership program with Metropolitan Transportation Commission in order to motiate people to use envireonnment friendly means of transport. Beginning operation in August 2013 as Bay Area Bike Share, the Bay Wheels system currently has over 2,600 bicycles in 262 stations across San Francisco, East Bay and San Jose. On June 28, 2017, the system was re-launched as Ford GoBike in a partnership with Ford Motor Company.<br>\n",
    "After Motivate's acquisition by Lyft, the system was subsequently renamed to Bay Wheels in June 2019.The system provides bikes 24/7 to customers at nominal costs. The customers have access to all the bikes once they are a member or have a pass for themselves.\n",
    "\n",
    "## Preliminary Wrangling"
   ]
  },
  {
   "cell_type": "markdown",
   "metadata": {},
   "source": [
    "Firstly, the data that has been obtained from the Lyft site has to be checked for any anomalies. The data has to be cleaned and then we can start with the visualizations."
   ]
  },
  {
   "cell_type": "code",
   "execution_count": 82,
   "metadata": {},
   "outputs": [],
   "source": [
    "# import all packages and set plots to be embedded inline\n",
    "import numpy as np\n",
    "import pandas as pd\n",
    "import matplotlib.pyplot as plt\n",
    "import seaborn as sb\n",
    "import datetime\n",
    "from math import radians, sin, cos, acos\n",
    "\n",
    "%matplotlib inline"
   ]
  },
  {
   "cell_type": "markdown",
   "metadata": {},
   "source": [
    "> Load in your dataset and describe its properties through the questions below.\n",
    "Try and motivate your exploration goals through this section."
   ]
  },
  {
   "cell_type": "code",
   "execution_count": 3,
   "metadata": {
    "scrolled": true
   },
   "outputs": [
    {
     "name": "stderr",
     "output_type": "stream",
     "text": [
      "/home/gautam/anaconda3/lib/python3.7/site-packages/IPython/core/interactiveshell.py:3020: DtypeWarning: Columns (16) have mixed types. Specify dtype option on import or set low_memory=False.\n",
      "  interactivity=interactivity, compiler=compiler, result=result)\n"
     ]
    },
    {
     "data": {
      "text/html": [
       "<div>\n",
       "<style scoped>\n",
       "    .dataframe tbody tr th:only-of-type {\n",
       "        vertical-align: middle;\n",
       "    }\n",
       "\n",
       "    .dataframe tbody tr th {\n",
       "        vertical-align: top;\n",
       "    }\n",
       "\n",
       "    .dataframe thead th {\n",
       "        text-align: right;\n",
       "    }\n",
       "</style>\n",
       "<table border=\"1\" class=\"dataframe\">\n",
       "  <thead>\n",
       "    <tr style=\"text-align: right;\">\n",
       "      <th></th>\n",
       "      <th>duration_sec</th>\n",
       "      <th>start_time</th>\n",
       "      <th>end_time</th>\n",
       "      <th>start_station_id</th>\n",
       "      <th>start_station_name</th>\n",
       "      <th>start_station_latitude</th>\n",
       "      <th>start_station_longitude</th>\n",
       "      <th>end_station_id</th>\n",
       "      <th>end_station_name</th>\n",
       "      <th>end_station_latitude</th>\n",
       "      <th>end_station_longitude</th>\n",
       "      <th>bike_id</th>\n",
       "      <th>user_type</th>\n",
       "      <th>member_birth_year</th>\n",
       "      <th>member_gender</th>\n",
       "      <th>bike_share_for_all_trip</th>\n",
       "      <th>rental_access_method</th>\n",
       "    </tr>\n",
       "  </thead>\n",
       "  <tbody>\n",
       "    <tr>\n",
       "      <th>0</th>\n",
       "      <td>81695</td>\n",
       "      <td>2019-06-30 18:16:09.7730</td>\n",
       "      <td>2019-07-01 16:57:45.5920</td>\n",
       "      <td>109.0</td>\n",
       "      <td>17th St at Valencia St</td>\n",
       "      <td>37.763316</td>\n",
       "      <td>-122.421904</td>\n",
       "      <td>56.0</td>\n",
       "      <td>Koshland Park</td>\n",
       "      <td>37.773414</td>\n",
       "      <td>-122.427317</td>\n",
       "      <td>1502</td>\n",
       "      <td>Subscriber</td>\n",
       "      <td>1957.0</td>\n",
       "      <td>Male</td>\n",
       "      <td>No</td>\n",
       "      <td>NaN</td>\n",
       "    </tr>\n",
       "    <tr>\n",
       "      <th>1</th>\n",
       "      <td>74260</td>\n",
       "      <td>2019-06-30 18:09:55.8300</td>\n",
       "      <td>2019-07-01 14:47:36.6810</td>\n",
       "      <td>50.0</td>\n",
       "      <td>2nd St at Townsend St</td>\n",
       "      <td>37.780526</td>\n",
       "      <td>-122.390288</td>\n",
       "      <td>101.0</td>\n",
       "      <td>15th St at Potrero Ave</td>\n",
       "      <td>37.767079</td>\n",
       "      <td>-122.407359</td>\n",
       "      <td>2526</td>\n",
       "      <td>Customer</td>\n",
       "      <td>NaN</td>\n",
       "      <td>NaN</td>\n",
       "      <td>No</td>\n",
       "      <td>NaN</td>\n",
       "    </tr>\n",
       "    <tr>\n",
       "      <th>2</th>\n",
       "      <td>59603</td>\n",
       "      <td>2019-06-30 15:40:31.0380</td>\n",
       "      <td>2019-07-01 08:13:54.3490</td>\n",
       "      <td>23.0</td>\n",
       "      <td>The Embarcadero at Steuart St</td>\n",
       "      <td>37.791464</td>\n",
       "      <td>-122.391034</td>\n",
       "      <td>30.0</td>\n",
       "      <td>San Francisco Caltrain (Townsend St at 4th St)</td>\n",
       "      <td>37.776598</td>\n",
       "      <td>-122.395282</td>\n",
       "      <td>2427</td>\n",
       "      <td>Subscriber</td>\n",
       "      <td>1985.0</td>\n",
       "      <td>Male</td>\n",
       "      <td>No</td>\n",
       "      <td>NaN</td>\n",
       "    </tr>\n",
       "    <tr>\n",
       "      <th>3</th>\n",
       "      <td>67932</td>\n",
       "      <td>2019-06-30 12:49:47.7810</td>\n",
       "      <td>2019-07-01 07:42:00.5430</td>\n",
       "      <td>169.0</td>\n",
       "      <td>Bushrod Park</td>\n",
       "      <td>37.846516</td>\n",
       "      <td>-122.265304</td>\n",
       "      <td>248.0</td>\n",
       "      <td>Telegraph Ave at Ashby Ave</td>\n",
       "      <td>37.855956</td>\n",
       "      <td>-122.259795</td>\n",
       "      <td>1261</td>\n",
       "      <td>Customer</td>\n",
       "      <td>NaN</td>\n",
       "      <td>NaN</td>\n",
       "      <td>No</td>\n",
       "      <td>NaN</td>\n",
       "    </tr>\n",
       "    <tr>\n",
       "      <th>4</th>\n",
       "      <td>48894</td>\n",
       "      <td>2019-06-30 17:21:00.0550</td>\n",
       "      <td>2019-07-01 06:55:54.9960</td>\n",
       "      <td>15.0</td>\n",
       "      <td>San Francisco Ferry Building (Harry Bridges Pl...</td>\n",
       "      <td>37.795392</td>\n",
       "      <td>-122.394203</td>\n",
       "      <td>30.0</td>\n",
       "      <td>San Francisco Caltrain (Townsend St at 4th St)</td>\n",
       "      <td>37.776598</td>\n",
       "      <td>-122.395282</td>\n",
       "      <td>1070</td>\n",
       "      <td>Customer</td>\n",
       "      <td>NaN</td>\n",
       "      <td>NaN</td>\n",
       "      <td>No</td>\n",
       "      <td>NaN</td>\n",
       "    </tr>\n",
       "  </tbody>\n",
       "</table>\n",
       "</div>"
      ],
      "text/plain": [
       "   duration_sec                start_time                  end_time  \\\n",
       "0         81695  2019-06-30 18:16:09.7730  2019-07-01 16:57:45.5920   \n",
       "1         74260  2019-06-30 18:09:55.8300  2019-07-01 14:47:36.6810   \n",
       "2         59603  2019-06-30 15:40:31.0380  2019-07-01 08:13:54.3490   \n",
       "3         67932  2019-06-30 12:49:47.7810  2019-07-01 07:42:00.5430   \n",
       "4         48894  2019-06-30 17:21:00.0550  2019-07-01 06:55:54.9960   \n",
       "\n",
       "   start_station_id                                 start_station_name  \\\n",
       "0             109.0                             17th St at Valencia St   \n",
       "1              50.0                              2nd St at Townsend St   \n",
       "2              23.0                      The Embarcadero at Steuart St   \n",
       "3             169.0                                       Bushrod Park   \n",
       "4              15.0  San Francisco Ferry Building (Harry Bridges Pl...   \n",
       "\n",
       "   start_station_latitude  start_station_longitude  end_station_id  \\\n",
       "0               37.763316              -122.421904            56.0   \n",
       "1               37.780526              -122.390288           101.0   \n",
       "2               37.791464              -122.391034            30.0   \n",
       "3               37.846516              -122.265304           248.0   \n",
       "4               37.795392              -122.394203            30.0   \n",
       "\n",
       "                                 end_station_name  end_station_latitude  \\\n",
       "0                                   Koshland Park             37.773414   \n",
       "1                          15th St at Potrero Ave             37.767079   \n",
       "2  San Francisco Caltrain (Townsend St at 4th St)             37.776598   \n",
       "3                      Telegraph Ave at Ashby Ave             37.855956   \n",
       "4  San Francisco Caltrain (Townsend St at 4th St)             37.776598   \n",
       "\n",
       "   end_station_longitude  bike_id   user_type  member_birth_year  \\\n",
       "0            -122.427317     1502  Subscriber             1957.0   \n",
       "1            -122.407359     2526    Customer                NaN   \n",
       "2            -122.395282     2427  Subscriber             1985.0   \n",
       "3            -122.259795     1261    Customer                NaN   \n",
       "4            -122.395282     1070    Customer                NaN   \n",
       "\n",
       "  member_gender bike_share_for_all_trip rental_access_method  \n",
       "0          Male                      No                  NaN  \n",
       "1           NaN                      No                  NaN  \n",
       "2          Male                      No                  NaN  \n",
       "3           NaN                      No                  NaN  \n",
       "4           NaN                      No                  NaN  "
      ]
     },
     "execution_count": 3,
     "metadata": {},
     "output_type": "execute_result"
    }
   ],
   "source": [
    "master_df = pd.read_csv(\"201906-baywheels-tripdata.csv\")\n",
    "master_df.head()"
   ]
  },
  {
   "cell_type": "code",
   "execution_count": 5,
   "metadata": {},
   "outputs": [
    {
     "data": {
      "text/plain": [
       "(191772, 17)"
      ]
     },
     "execution_count": 5,
     "metadata": {},
     "output_type": "execute_result"
    }
   ],
   "source": [
    "master_df.shape"
   ]
  },
  {
   "cell_type": "code",
   "execution_count": 4,
   "metadata": {
    "scrolled": false
   },
   "outputs": [
    {
     "name": "stdout",
     "output_type": "stream",
     "text": [
      "<class 'pandas.core.frame.DataFrame'>\n",
      "RangeIndex: 191772 entries, 0 to 191771\n",
      "Data columns (total 17 columns):\n",
      "duration_sec               191772 non-null int64\n",
      "start_time                 191772 non-null object\n",
      "end_time                   191772 non-null object\n",
      "start_station_id           189612 non-null float64\n",
      "start_station_name         189612 non-null object\n",
      "start_station_latitude     191772 non-null float64\n",
      "start_station_longitude    191772 non-null float64\n",
      "end_station_id             189510 non-null float64\n",
      "end_station_name           189510 non-null object\n",
      "end_station_latitude       191772 non-null float64\n",
      "end_station_longitude      191772 non-null float64\n",
      "bike_id                    191772 non-null int64\n",
      "user_type                  191772 non-null object\n",
      "member_birth_year          172635 non-null float64\n",
      "member_gender              172853 non-null object\n",
      "bike_share_for_all_trip    187879 non-null object\n",
      "rental_access_method       3893 non-null object\n",
      "dtypes: float64(7), int64(2), object(8)\n",
      "memory usage: 24.9+ MB\n"
     ]
    }
   ],
   "source": [
    "master_df.info()"
   ]
  },
  {
   "cell_type": "markdown",
   "metadata": {},
   "source": [
    "The start and end times are not in datetime format. This needs a change."
   ]
  },
  {
   "cell_type": "markdown",
   "metadata": {},
   "source": [
    "We can notice that there are a lot of missing values in 'rental_access_method'. So we can drop the column."
   ]
  },
  {
   "cell_type": "code",
   "execution_count": 13,
   "metadata": {
    "scrolled": true
   },
   "outputs": [
    {
     "data": {
      "text/html": [
       "<div>\n",
       "<style scoped>\n",
       "    .dataframe tbody tr th:only-of-type {\n",
       "        vertical-align: middle;\n",
       "    }\n",
       "\n",
       "    .dataframe tbody tr th {\n",
       "        vertical-align: top;\n",
       "    }\n",
       "\n",
       "    .dataframe thead th {\n",
       "        text-align: right;\n",
       "    }\n",
       "</style>\n",
       "<table border=\"1\" class=\"dataframe\">\n",
       "  <thead>\n",
       "    <tr style=\"text-align: right;\">\n",
       "      <th></th>\n",
       "      <th>duration_sec</th>\n",
       "      <th>start_station_id</th>\n",
       "      <th>start_station_latitude</th>\n",
       "      <th>start_station_longitude</th>\n",
       "      <th>end_station_id</th>\n",
       "      <th>end_station_latitude</th>\n",
       "      <th>end_station_longitude</th>\n",
       "      <th>bike_id</th>\n",
       "      <th>member_birth_year</th>\n",
       "    </tr>\n",
       "  </thead>\n",
       "  <tbody>\n",
       "    <tr>\n",
       "      <th>count</th>\n",
       "      <td>191772.000000</td>\n",
       "      <td>189612.000000</td>\n",
       "      <td>191772.000000</td>\n",
       "      <td>191772.000000</td>\n",
       "      <td>189510.000000</td>\n",
       "      <td>191772.000000</td>\n",
       "      <td>191772.000000</td>\n",
       "      <td>191772.000000</td>\n",
       "      <td>172635.000000</td>\n",
       "    </tr>\n",
       "    <tr>\n",
       "      <th>mean</th>\n",
       "      <td>841.814608</td>\n",
       "      <td>139.909505</td>\n",
       "      <td>37.762560</td>\n",
       "      <td>-122.348320</td>\n",
       "      <td>137.484645</td>\n",
       "      <td>37.762698</td>\n",
       "      <td>-122.347756</td>\n",
       "      <td>10641.887439</td>\n",
       "      <td>1984.842378</td>\n",
       "    </tr>\n",
       "    <tr>\n",
       "      <th>std</th>\n",
       "      <td>1936.720801</td>\n",
       "      <td>118.054453</td>\n",
       "      <td>0.112639</td>\n",
       "      <td>0.169730</td>\n",
       "      <td>117.447948</td>\n",
       "      <td>0.112538</td>\n",
       "      <td>0.169336</td>\n",
       "      <td>68253.875020</td>\n",
       "      <td>10.186821</td>\n",
       "    </tr>\n",
       "    <tr>\n",
       "      <th>min</th>\n",
       "      <td>60.000000</td>\n",
       "      <td>3.000000</td>\n",
       "      <td>37.290060</td>\n",
       "      <td>-122.453704</td>\n",
       "      <td>3.000000</td>\n",
       "      <td>37.255975</td>\n",
       "      <td>-122.453704</td>\n",
       "      <td>12.000000</td>\n",
       "      <td>1896.000000</td>\n",
       "    </tr>\n",
       "    <tr>\n",
       "      <th>25%</th>\n",
       "      <td>375.000000</td>\n",
       "      <td>44.000000</td>\n",
       "      <td>37.769305</td>\n",
       "      <td>-122.411738</td>\n",
       "      <td>43.000000</td>\n",
       "      <td>37.770030</td>\n",
       "      <td>-122.411306</td>\n",
       "      <td>1028.000000</td>\n",
       "      <td>1980.000000</td>\n",
       "    </tr>\n",
       "    <tr>\n",
       "      <th>50%</th>\n",
       "      <td>596.000000</td>\n",
       "      <td>98.000000</td>\n",
       "      <td>37.780526</td>\n",
       "      <td>-122.398113</td>\n",
       "      <td>96.000000</td>\n",
       "      <td>37.780526</td>\n",
       "      <td>-122.397086</td>\n",
       "      <td>1937.500000</td>\n",
       "      <td>1987.000000</td>\n",
       "    </tr>\n",
       "    <tr>\n",
       "      <th>75%</th>\n",
       "      <td>925.000000</td>\n",
       "      <td>226.000000</td>\n",
       "      <td>37.795392</td>\n",
       "      <td>-122.293400</td>\n",
       "      <td>220.000000</td>\n",
       "      <td>37.795392</td>\n",
       "      <td>-122.293528</td>\n",
       "      <td>2975.000000</td>\n",
       "      <td>1992.000000</td>\n",
       "    </tr>\n",
       "    <tr>\n",
       "      <th>max</th>\n",
       "      <td>85952.000000</td>\n",
       "      <td>443.000000</td>\n",
       "      <td>45.510000</td>\n",
       "      <td>-73.570000</td>\n",
       "      <td>443.000000</td>\n",
       "      <td>45.510000</td>\n",
       "      <td>-73.570000</td>\n",
       "      <td>985110.000000</td>\n",
       "      <td>2001.000000</td>\n",
       "    </tr>\n",
       "  </tbody>\n",
       "</table>\n",
       "</div>"
      ],
      "text/plain": [
       "        duration_sec  start_station_id  start_station_latitude  \\\n",
       "count  191772.000000     189612.000000           191772.000000   \n",
       "mean      841.814608        139.909505               37.762560   \n",
       "std      1936.720801        118.054453                0.112639   \n",
       "min        60.000000          3.000000               37.290060   \n",
       "25%       375.000000         44.000000               37.769305   \n",
       "50%       596.000000         98.000000               37.780526   \n",
       "75%       925.000000        226.000000               37.795392   \n",
       "max     85952.000000        443.000000               45.510000   \n",
       "\n",
       "       start_station_longitude  end_station_id  end_station_latitude  \\\n",
       "count            191772.000000   189510.000000         191772.000000   \n",
       "mean               -122.348320      137.484645             37.762698   \n",
       "std                   0.169730      117.447948              0.112538   \n",
       "min                -122.453704        3.000000             37.255975   \n",
       "25%                -122.411738       43.000000             37.770030   \n",
       "50%                -122.398113       96.000000             37.780526   \n",
       "75%                -122.293400      220.000000             37.795392   \n",
       "max                 -73.570000      443.000000             45.510000   \n",
       "\n",
       "       end_station_longitude        bike_id  member_birth_year  \n",
       "count          191772.000000  191772.000000      172635.000000  \n",
       "mean             -122.347756   10641.887439        1984.842378  \n",
       "std                 0.169336   68253.875020          10.186821  \n",
       "min              -122.453704      12.000000        1896.000000  \n",
       "25%              -122.411306    1028.000000        1980.000000  \n",
       "50%              -122.397086    1937.500000        1987.000000  \n",
       "75%              -122.293528    2975.000000        1992.000000  \n",
       "max               -73.570000  985110.000000        2001.000000  "
      ]
     },
     "execution_count": 13,
     "metadata": {},
     "output_type": "execute_result"
    }
   ],
   "source": [
    "master_df.describe()"
   ]
  },
  {
   "cell_type": "markdown",
   "metadata": {},
   "source": [
    "The birth year of some users seem to be wrong. For example, 1896 might be a wrong birth year. The user can't be more than a 100 years of age!"
   ]
  },
  {
   "cell_type": "code",
   "execution_count": 8,
   "metadata": {},
   "outputs": [],
   "source": [
    "rental_access = master_df[master_df.rental_access_method.notnull()].rental_access_method.value_counts()"
   ]
  },
  {
   "cell_type": "code",
   "execution_count": 9,
   "metadata": {
    "scrolled": true
   },
   "outputs": [
    {
     "data": {
      "text/plain": [
       "<matplotlib.axes._subplots.AxesSubplot at 0x7fad7c7b2320>"
      ]
     },
     "execution_count": 9,
     "metadata": {},
     "output_type": "execute_result"
    },
    {
     "data": {
      "image/png": "[encoded data removed]",
      "text/plain": [
       "<Figure size 432x288 with 1 Axes>"
      ]
     },
     "metadata": {
      "needs_background": "light"
     },
     "output_type": "display_data"
    }
   ],
   "source": [
    "sb.barplot(rental_access.index, rental_access);"
   ]
  },
  {
   "cell_type": "markdown",
   "metadata": {},
   "source": [
    "Of the 3893 records that we have for rental_access_method, it seems most of the bookings came via the app. But since the number is less compared to the total records that we have, it might not be the right result."
   ]
  },
  {
   "cell_type": "code",
   "execution_count": 12,
   "metadata": {
    "scrolled": true
   },
   "outputs": [
    {
     "data": {
      "text/plain": [
       "duration_sec                    0\n",
       "start_time                      0\n",
       "end_time                        0\n",
       "start_station_id             2160\n",
       "start_station_name           2160\n",
       "start_station_latitude          0\n",
       "start_station_longitude         0\n",
       "end_station_id               2262\n",
       "end_station_name             2262\n",
       "end_station_latitude            0\n",
       "end_station_longitude           0\n",
       "bike_id                         0\n",
       "user_type                       0\n",
       "member_birth_year           19137\n",
       "member_gender               18919\n",
       "bike_share_for_all_trip      3893\n",
       "rental_access_method       187879\n",
       "dtype: int64"
      ]
     },
     "execution_count": 12,
     "metadata": {},
     "output_type": "execute_result"
    }
   ],
   "source": [
    "master_df.isnull().sum()"
   ]
  },
  {
   "cell_type": "markdown",
   "metadata": {},
   "source": [
    "The missing values of age and gender is a lot. Rental access method is a lot more missing. So we can drop the column."
   ]
  },
  {
   "cell_type": "code",
   "execution_count": 11,
   "metadata": {},
   "outputs": [
    {
     "data": {
      "text/plain": [
       "0"
      ]
     },
     "execution_count": 11,
     "metadata": {},
     "output_type": "execute_result"
    }
   ],
   "source": [
    "master_df.duplicated().sum()"
   ]
  },
  {
   "cell_type": "markdown",
   "metadata": {},
   "source": [
    "There are no duplicates! Nice!"
   ]
  },
  {
   "cell_type": "markdown",
   "metadata": {},
   "source": [
    "## Data Cleaning\n",
    "\n",
    "There seems to be a few quality issues with the data. The following are a few:\n",
    "1. The start/end time should be in timestamp datatype. Birth year should be in integer\n",
    "2. The gender, user_type, bike-share-for-all can be categorical data\n",
    "3. Birth years might be wrong, since some users are more than 100 years of age.\n",
    "4. The latitudes and longitudes are not readable by users. Need to calculate the distance travelled."
   ]
  },
  {
   "cell_type": "code",
   "execution_count": 14,
   "metadata": {},
   "outputs": [],
   "source": [
    "master_cleaned = master_df.copy()"
   ]
  },
  {
   "cell_type": "markdown",
   "metadata": {},
   "source": [
    "**The start/end time should be in timestamp datatype.**"
   ]
  },
  {
   "cell_type": "markdown",
   "metadata": {},
   "source": [
    "**Code:**"
   ]
  },
  {
   "cell_type": "code",
   "execution_count": 15,
   "metadata": {},
   "outputs": [],
   "source": [
    "master_cleaned.start_time = pd.to_datetime(master_cleaned.start_time)\n",
    "master_cleaned.end_time = pd.to_datetime(master_cleaned.end_time)"
   ]
  },
  {
   "cell_type": "code",
   "execution_count": 19,
   "metadata": {},
   "outputs": [],
   "source": [
    "master_cleaned.bike_id = master_cleaned.bike_id.astype(str)"
   ]
  },
  {
   "cell_type": "code",
   "execution_count": 20,
   "metadata": {},
   "outputs": [],
   "source": [
    "master_cleaned.start_station_id = master_cleaned.start_station_id.astype(str)\n",
    "master_cleaned.end_station_id = master_cleaned.end_station_id.astype(str)"
   ]
  },
  {
   "cell_type": "markdown",
   "metadata": {},
   "source": [
    "**Test**"
   ]
  },
  {
   "cell_type": "code",
   "execution_count": 21,
   "metadata": {},
   "outputs": [
    {
     "name": "stdout",
     "output_type": "stream",
     "text": [
      "<class 'pandas.core.frame.DataFrame'>\n",
      "RangeIndex: 191772 entries, 0 to 191771\n",
      "Data columns (total 17 columns):\n",
      "duration_sec               191772 non-null int64\n",
      "start_time                 191772 non-null datetime64[ns]\n",
      "end_time                   191772 non-null datetime64[ns]\n",
      "start_station_id           191772 non-null object\n",
      "start_station_name         189612 non-null object\n",
      "start_station_latitude     191772 non-null float64\n",
      "start_station_longitude    191772 non-null float64\n",
      "end_station_id             191772 non-null object\n",
      "end_station_name           189510 non-null object\n",
      "end_station_latitude       191772 non-null float64\n",
      "end_station_longitude      191772 non-null float64\n",
      "bike_id                    191772 non-null object\n",
      "user_type                  191772 non-null object\n",
      "member_birth_year          172635 non-null float64\n",
      "member_gender              172853 non-null object\n",
      "bike_share_for_all_trip    187879 non-null object\n",
      "rental_access_method       3893 non-null object\n",
      "dtypes: datetime64[ns](2), float64(5), int64(1), object(9)\n",
      "memory usage: 24.9+ MB\n"
     ]
    }
   ],
   "source": [
    "master_cleaned.info()"
   ]
  },
  {
   "cell_type": "code",
   "execution_count": 26,
   "metadata": {},
   "outputs": [
    {
     "data": {
      "text/plain": [
       "67.0    4832\n",
       "15.0    3684\n",
       "81.0    3672\n",
       "58.0    3653\n",
       "21.0    3036\n",
       "3.0     2862\n",
       "16.0    2662\n",
       "5.0     2591\n",
       "6.0     2568\n",
       "22.0    2496\n",
       "50.0    2266\n",
       "nan     2160\n",
       "66.0    2156\n",
       "90.0    1945\n",
       "27.0    1892\n",
       "30.0    1825\n",
       "44.0    1781\n",
       "17.0    1767\n",
       "93.0    1760\n",
       "23.0    1704\n",
       "Name: start_station_id, dtype: int64"
      ]
     },
     "execution_count": 26,
     "metadata": {},
     "output_type": "execute_result"
    }
   ],
   "source": [
    "master_cleaned.start_station_id.value_counts().head(20)"
   ]
  },
  {
   "cell_type": "markdown",
   "metadata": {},
   "source": [
    "**The gender, user_type, bike-share-for-all can be categorical data**"
   ]
  },
  {
   "cell_type": "markdown",
   "metadata": {},
   "source": [
    "**Code:**"
   ]
  },
  {
   "cell_type": "code",
   "execution_count": 29,
   "metadata": {},
   "outputs": [],
   "source": [
    "master_cleaned.member_gender = master_cleaned.member_gender.astype('category')\n",
    "master_cleaned.user_type = master_cleaned.user_type.astype('category')\n",
    "master_cleaned.bike_share_for_all_trip = master_cleaned.bike_share_for_all_trip.astype('category')"
   ]
  },
  {
   "cell_type": "code",
   "execution_count": 30,
   "metadata": {},
   "outputs": [
    {
     "name": "stdout",
     "output_type": "stream",
     "text": [
      "<class 'pandas.core.frame.DataFrame'>\n",
      "RangeIndex: 191772 entries, 0 to 191771\n",
      "Data columns (total 17 columns):\n",
      "duration_sec               191772 non-null int64\n",
      "start_time                 191772 non-null datetime64[ns]\n",
      "end_time                   191772 non-null datetime64[ns]\n",
      "start_station_id           191772 non-null object\n",
      "start_station_name         189612 non-null object\n",
      "start_station_latitude     191772 non-null float64\n",
      "start_station_longitude    191772 non-null float64\n",
      "end_station_id             191772 non-null object\n",
      "end_station_name           189510 non-null object\n",
      "end_station_latitude       191772 non-null float64\n",
      "end_station_longitude      191772 non-null float64\n",
      "bike_id                    191772 non-null object\n",
      "user_type                  191772 non-null category\n",
      "member_birth_year          172635 non-null float64\n",
      "member_gender              172853 non-null category\n",
      "bike_share_for_all_trip    187879 non-null category\n",
      "rental_access_method       3893 non-null object\n",
      "dtypes: category(3), datetime64[ns](2), float64(5), int64(1), object(6)\n",
      "memory usage: 21.0+ MB\n"
     ]
    }
   ],
   "source": [
    "master_cleaned.info()"
   ]
  },
  {
   "cell_type": "markdown",
   "metadata": {},
   "source": [
    "**Birth years might be wrong, since some users are more than 100 years of age.**"
   ]
  },
  {
   "cell_type": "code",
   "execution_count": 77,
   "metadata": {},
   "outputs": [
    {
     "data": {
      "text/plain": [
       "99.64086077562487"
      ]
     },
     "execution_count": 77,
     "metadata": {},
     "output_type": "execute_result"
    }
   ],
   "source": [
    "age_less_than_60 = len(master_cleaned.query('member_age < 70'))\n",
    "age_less_than_60*100/172635"
   ]
  },
  {
   "cell_type": "code",
   "execution_count": 60,
   "metadata": {},
   "outputs": [],
   "source": [
    "master_cleaned['member_age'] = datetime.datetime.now().year - master_cleaned.member_birth_year"
   ]
  },
  {
   "cell_type": "code",
   "execution_count": 61,
   "metadata": {},
   "outputs": [
    {
     "data": {
      "text/html": [
       "<div>\n",
       "<style scoped>\n",
       "    .dataframe tbody tr th:only-of-type {\n",
       "        vertical-align: middle;\n",
       "    }\n",
       "\n",
       "    .dataframe tbody tr th {\n",
       "        vertical-align: top;\n",
       "    }\n",
       "\n",
       "    .dataframe thead th {\n",
       "        text-align: right;\n",
       "    }\n",
       "</style>\n",
       "<table border=\"1\" class=\"dataframe\">\n",
       "  <thead>\n",
       "    <tr style=\"text-align: right;\">\n",
       "      <th></th>\n",
       "      <th>member_birth_year</th>\n",
       "      <th>member_age</th>\n",
       "    </tr>\n",
       "  </thead>\n",
       "  <tbody>\n",
       "    <tr>\n",
       "      <th>0</th>\n",
       "      <td>1957.0</td>\n",
       "      <td>62.0</td>\n",
       "    </tr>\n",
       "    <tr>\n",
       "      <th>1</th>\n",
       "      <td>NaN</td>\n",
       "      <td>NaN</td>\n",
       "    </tr>\n",
       "    <tr>\n",
       "      <th>2</th>\n",
       "      <td>1985.0</td>\n",
       "      <td>34.0</td>\n",
       "    </tr>\n",
       "    <tr>\n",
       "      <th>3</th>\n",
       "      <td>NaN</td>\n",
       "      <td>NaN</td>\n",
       "    </tr>\n",
       "    <tr>\n",
       "      <th>4</th>\n",
       "      <td>NaN</td>\n",
       "      <td>NaN</td>\n",
       "    </tr>\n",
       "  </tbody>\n",
       "</table>\n",
       "</div>"
      ],
      "text/plain": [
       "   member_birth_year  member_age\n",
       "0             1957.0        62.0\n",
       "1                NaN         NaN\n",
       "2             1985.0        34.0\n",
       "3                NaN         NaN\n",
       "4                NaN         NaN"
      ]
     },
     "execution_count": 61,
     "metadata": {},
     "output_type": "execute_result"
    }
   ],
   "source": [
    "master_cleaned[['member_birth_year', 'member_age']].head()"
   ]
  },
  {
   "cell_type": "code",
   "execution_count": 80,
   "metadata": {
    "scrolled": true
   },
   "outputs": [
    {
     "data": {
      "text/plain": [
       "Text(0.5, 0, 'Age')"
      ]
     },
     "execution_count": 80,
     "metadata": {},
     "output_type": "execute_result"
    },
    {
     "data": {
      "image/png": "[encoded data removed]",
      "text/plain": [
       "<Figure size 864x432 with 1 Axes>"
      ]
     },
     "metadata": {
      "needs_background": "light"
     },
     "output_type": "display_data"
    }
   ],
   "source": [
    "plt.figure(figsize=(12,6))\n",
    "sb.boxplot(x='member_age', data=master_cleaned, palette='copper', orient='h')\n",
    "plt.title(\"The age distribution of Members\", fontsize=15)\n",
    "plt.xlabel(\"Age\")"
   ]
  },
  {
   "cell_type": "markdown",
   "metadata": {},
   "source": [
    "Since most of the users are below the age of 70, we can forget the rest of the data."
   ]
  },
  {
   "cell_type": "code",
   "execution_count": 78,
   "metadata": {},
   "outputs": [],
   "source": [
    "master_cleaned[master_cleaned.member_age > 70] = None"
   ]
  },
  {
   "cell_type": "markdown",
   "metadata": {},
   "source": [
    "**Test:**"
   ]
  },
  {
   "cell_type": "code",
   "execution_count": 81,
   "metadata": {
    "scrolled": true
   },
   "outputs": [
    {
     "data": {
      "text/plain": [
       "Text(0.5, 0, 'Age')"
      ]
     },
     "execution_count": 81,
     "metadata": {},
     "output_type": "execute_result"
    },
    {
     "data": {
      "image/png": "[encoded data removed]",
      "text/plain": [
       "<Figure size 864x432 with 1 Axes>"
      ]
     },
     "metadata": {
      "needs_background": "light"
     },
     "output_type": "display_data"
    }
   ],
   "source": [
    "plt.figure(figsize=(12,6))\n",
    "sb.boxplot(x='member_age', data=master_cleaned, palette='copper', orient='h')\n",
    "plt.title(\"The age distribution of Members\", fontsize=15)\n",
    "plt.xlabel(\"Age\")"
   ]
  },
  {
   "cell_type": "markdown",
   "metadata": {},
   "source": [
    "**The latitudes and longitudes are not readable by users. Need to calculate the distance travelled.*"
   ]
  },
  {
   "cell_type": "markdown",
   "metadata": {},
   "source": [
    "**Code:**<br>\n",
    "Let us start by creating a function that gives the distance in kilometers"
   ]
  },
  {
   "cell_type": "code",
   "execution_count": null,
   "metadata": {},
   "outputs": [],
   "source": [
    "def calculate_distance(latitude1, latitude2, longitude1, longitude2):\n",
    "    "
   ]
  },
  {
   "cell_type": "code",
   "execution_count": null,
   "metadata": {},
   "outputs": [],
   "source": []
  },
  {
   "cell_type": "markdown",
   "metadata": {},
   "source": [
    "### What is the structure of your dataset?\n",
    "\n",
    "> Your answer here!\n",
    "\n",
    "### What is/are the main feature(s) of interest in your dataset?\n",
    "\n",
    "> Your answer here!\n",
    "\n",
    "### What features in the dataset do you think will help support your investigation into your feature(s) of interest?\n",
    "\n",
    "> Your answer here!"
   ]
  },
  {
   "cell_type": "markdown",
   "metadata": {},
   "source": [
    "## Univariate Exploration\n",
    "\n",
    "> In this section, investigate distributions of individual variables. If\n",
    "you see unusual points or outliers, take a deeper look to clean things up\n",
    "and prepare yourself to look at relationships between variables."
   ]
  },
  {
   "cell_type": "code",
   "execution_count": null,
   "metadata": {},
   "outputs": [],
   "source": []
  },
  {
   "cell_type": "markdown",
   "metadata": {},
   "source": [
    "> Make sure that, after every plot or related series of plots, that you\n",
    "include a Markdown cell with comments about what you observed, and what\n",
    "you plan on investigating next."
   ]
  },
  {
   "cell_type": "code",
   "execution_count": null,
   "metadata": {},
   "outputs": [],
   "source": []
  },
  {
   "cell_type": "markdown",
   "metadata": {},
   "source": [
    "### Discuss the distribution(s) of your variable(s) of interest. Were there any unusual points? Did you need to perform any transformations?\n",
    "\n",
    "> Your answer here!\n",
    "\n",
    "### Of the features you investigated, were there any unusual distributions? Did you perform any operations on the data to tidy, adjust, or change the form of the data? If so, why did you do this?\n",
    "\n",
    "> Your answer here!"
   ]
  },
  {
   "cell_type": "markdown",
   "metadata": {},
   "source": [
    "## Bivariate Exploration\n",
    "\n",
    "> In this section, investigate relationships between pairs of variables in your\n",
    "data. Make sure the variables that you cover here have been introduced in some\n",
    "fashion in the previous section (univariate exploration)."
   ]
  },
  {
   "cell_type": "code",
   "execution_count": null,
   "metadata": {},
   "outputs": [],
   "source": []
  },
  {
   "cell_type": "markdown",
   "metadata": {},
   "source": [
    "### Talk about some of the relationships you observed in this part of the investigation. How did the feature(s) of interest vary with other features in the dataset?\n",
    "\n",
    "> Your answer here!\n",
    "\n",
    "### Did you observe any interesting relationships between the other features (not the main feature(s) of interest)?\n",
    "\n",
    "> Your answer here!"
   ]
  },
  {
   "cell_type": "markdown",
   "metadata": {},
   "source": [
    "## Multivariate Exploration\n",
    "\n",
    "> Create plots of three or more variables to investigate your data even\n",
    "further. Make sure that your investigations are justified, and follow from\n",
    "your work in the previous sections."
   ]
  },
  {
   "cell_type": "code",
   "execution_count": null,
   "metadata": {},
   "outputs": [],
   "source": []
  },
  {
   "cell_type": "markdown",
   "metadata": {},
   "source": [
    "### Talk about some of the relationships you observed in this part of the investigation. Were there features that strengthened each other in terms of looking at your feature(s) of interest?\n",
    "\n",
    "> Your answer here!\n",
    "\n",
    "### Were there any interesting or surprising interactions between features?\n",
    "\n",
    "> Your answer here!"
   ]
  },
  {
   "cell_type": "markdown",
   "metadata": {},
   "source": [
    "> At the end of your report, make sure that you export the notebook as an\n",
    "html file from the `File > Download as... > HTML` menu. Make sure you keep\n",
    "track of where the exported file goes, so you can put it in the same folder\n",
    "as this notebook for project submission. Also, make sure you remove all of\n",
    "the quote-formatted guide notes like this one before you finish your report!"
   ]
  },
  {
   "cell_type": "code",
   "execution_count": null,
   "metadata": {},
   "outputs": [],
   "source": []
  }
 ],
 "metadata": {
  "kernelspec": {
   "display_name": "Python 3",
   "language": "python",
   "name": "python3"
  },
  "language_info": {
   "codemirror_mode": {
    "name": "ipython",
    "version": 3
   },
   "file_extension": ".py",
   "mimetype": "text/x-python",
   "name": "python",
   "nbconvert_exporter": "python",
   "pygments_lexer": "ipython3",
   "version": "3.7.1"
  }
 },
 "nbformat": 4,
 "nbformat_minor": 2
}
